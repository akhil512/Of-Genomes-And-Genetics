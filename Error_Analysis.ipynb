{
  "cells": [
    {
      "cell_type": "code",
      "execution_count": null,
      "metadata": {
        "id": "b382f9d5-d8f4-41cd-b4db-7740d996b9b2"
      },
      "outputs": [],
      "source": [
        "import os\n",
        "import pandas as pd\n",
        "import numpy as np\n",
        "import seaborn as sns\n",
        "import matplotlib.pyplot as plt\n",
        "from sklearn.metrics import confusion_matrix\n",
        "from sklearn.metrics import f1_score\n",
        "from sklearn.metrics import log_loss\n",
        "from sklearn.model_selection import RandomizedSearchCV,GridSearchCV\n",
        "from imblearn.over_sampling import SMOTENC\n",
        "from sklearn.model_selection import train_test_split\n",
        "from sklearn.preprocessing import StandardScaler,OneHotEncoder\n",
        "from sklearn.linear_model import SGDClassifier\n",
        "from sklearn.svm import SVC\n",
        "from sklearn.naive_bayes import GaussianNB\n",
        "from sklearn.multiclass import OneVsOneClassifier\n",
        "from sklearn.calibration import CalibratedClassifierCV\n",
        "# from category_encoders.binary import BinaryEncoder\n",
        "from sklearn.ensemble import RandomForestClassifier,ExtraTreesClassifier\n",
        "from sklearn.pipeline import Pipeline\n",
        "from sklearn.compose import ColumnTransformer\n",
        "import lightgbm as lbg\n",
        "from sklearn.pipeline import Pipeline\n",
        "from sklearn.multiclass import OneVsRestClassifier\n",
        "import pickle\n",
        "from sklearn.metrics import classification_report\n",
        "from imblearn.pipeline import Pipeline\n",
        "from sklearn.ensemble import RandomForestClassifier\n",
        "# from catboost import CatBoostClassifier\n",
        "import joblib\n",
        "import warnings"
      ],
      "id": "b382f9d5-d8f4-41cd-b4db-7740d996b9b2"
    },
    {
      "cell_type": "code",
      "execution_count": null,
      "metadata": {
        "id": "f8dc2535-0cdf-44ce-ad1c-7135f863de54"
      },
      "outputs": [],
      "source": [
        "warnings.filterwarnings(\"ignore\")"
      ],
      "id": "f8dc2535-0cdf-44ce-ad1c-7135f863de54"
    },
    {
      "cell_type": "code",
      "execution_count": null,
      "metadata": {
        "id": "5d8a49bc-e786-46eb-829c-fdecdd8c7dce"
      },
      "outputs": [],
      "source": [
        "# Reference: Code taken from Applied AI Real World Case study Quora Question pair Similarity Problem\n",
        "def plot_confusion_matrix(test_y, predict_y,num_classes):\n",
        "    \"\"\" Function to plot confusion matrix, precision matrix and recall matrix by taking inputs as y_test and y_predicted\"\"\"\n",
        "    C = confusion_matrix(test_y, predict_y)\n",
        "    \n",
        "    A =(((C.T)/(C.sum(axis=1))).T)    \n",
        "    B =(C/C.sum(axis=0))\n",
        "    plt.figure(figsize=(30,4))\n",
        "    \n",
        "    labels = [i for i in range(num_classes)]\n",
        " \n",
        "    cmap=sns.light_palette(\"blue\")\n",
        "    plt.subplot(1, 3, 1)\n",
        "    sns.heatmap(C, annot=True, cmap='binary', fmt=\".3f\")\n",
        "    plt.xlabel('Predicted Class')\n",
        "    plt.ylabel('Original Class')\n",
        "    plt.title(\"Confusion matrix\")\n",
        "    \n",
        "    plt.subplot(1, 3, 2)\n",
        "    sns.heatmap(B, annot=True, cmap='binary', fmt=\".3f\")\n",
        "    plt.xlabel('Predicted Class')\n",
        "    plt.ylabel('Original Class')\n",
        "    plt.title(\"Precision matrix\")\n",
        "    \n",
        "    plt.subplot(1, 3, 3)\n",
        "    sns.heatmap(A, annot=True, cmap='binary', fmt=\".3f\")\n",
        "    plt.xlabel('Predicted Class')\n",
        "    plt.ylabel('Original Class')\n",
        "    plt.title(\"Recall matrix\")\n",
        "    \n",
        "    plt.show()"
      ],
      "id": "5d8a49bc-e786-46eb-829c-fdecdd8c7dce"
    },
    {
      "cell_type": "code",
      "execution_count": null,
      "metadata": {
        "id": "cdc07c13-46a7-4cd2-b131-a0bfaeadff6d"
      },
      "outputs": [],
      "source": [
        "def data_splitting(x,target,test_size):\n",
        "    \"\"\"Function to split the data into training and testing sets. Takes a dataframe as input,test_size and target variable name, outputs train and test data\"\"\"\n",
        "    X = x.drop(target,axis=1)\n",
        "    y = x[target]\n",
        "    X_train,X_test,y_train,y_test = train_test_split(X,y,test_size=test_size,stratify=y,random_state=42)\n",
        "    \n",
        "    return X_train,X_test,y_train,y_test    "
      ],
      "id": "cdc07c13-46a7-4cd2-b131-a0bfaeadff6d"
    },
    {
      "cell_type": "code",
      "execution_count": null,
      "metadata": {
        "id": "d9bee27d"
      },
      "outputs": [],
      "source": [
        "def model(x_train,y_train,x_test,y_test,clf,params,cv_type):\n",
        "    \n",
        "    \"\"\" \n",
        "    Parameters:\n",
        "    -----------\n",
        "    x_train - prre processed training data\n",
        "    y_train - target of training data\n",
        "    x_test  - pre processed testing data\n",
        "    y_test  - target of testing data\n",
        "    clf     - classifier on which cv needs to be performed\n",
        "    params  - parameters for cross validdation\n",
        "    cv_type - type of cross validation 'grid'/'random'\n",
        "    \n",
        "    Output:\n",
        "    -------\n",
        "    results - It is dictionary will all the results from cross validation and also the predictions\n",
        "    from best model from cross validation on training and test data\n",
        "    \"\"\"\n",
        "    \n",
        "    results={}\n",
        "    results['cv_result'] = cross_validate(x_train,y_train,params,clf,cv_type)\n",
        "    \n",
        "    results['best_estimator'] = results['cv_result'].best_estimator_\n",
        "    results['best_estimator'].fit(x_train,y_train)\n",
        "    \n",
        "    results['model'] = CalibratedClassifierCV(results['best_estimator'],method='sigmoid')\n",
        "    results['model'].fit(x_train,y_train)\n",
        "       \n",
        "    results['y_test_pred'] = results['model'].predict(x_test)\n",
        "    results['y_test_pred_proba'] = results['model'].predict_proba(x_test)\n",
        "    \n",
        "    results['y_train_pred'] = results['model'].predict(x_train)\n",
        "    results['y_train_pred_proba'] = results['model'].predict_proba(x_train)\n",
        "    \n",
        "    results['f1_score'] = f1_score(y_test,results['y_test_pred'],average='macro')\n",
        "    results['log_loss'] = log_loss(y_test,results['y_test_pred_proba'])\n",
        "    \n",
        "    return results    "
      ],
      "id": "d9bee27d"
    },
    {
      "cell_type": "code",
      "execution_count": null,
      "metadata": {
        "id": "f69bb01d"
      },
      "outputs": [],
      "source": [
        "def cross_validate(x_train,y_train,params,clf,cv_type):\n",
        "    \"\"\"Function to perform cross validationo and returns cross validate object\n",
        "    Parameters:\n",
        "    -----------\n",
        "    x_train - array of all transformed features  \n",
        "    y-train - array of all target variables\n",
        "    params  - hyperparameters to which model needs to be tuned\n",
        "    clf     - classifier or regressor on which hyperparameter needs to be performed\n",
        "    cv_type - type of cross validation eg., \"grid\" - GridSearchCV / \"random\" - RandomSearchCV\n",
        "    \n",
        "    Return:\n",
        "    -------\n",
        "    grdcv - fitted cross validation object\n",
        "    \"\"\"\n",
        "    params = params\n",
        "    clf = clf\n",
        "    if cv_type == 'grid':\n",
        "        grdcv = GridSearchCV(clf,params,cv=9,scoring='f1_weighted',return_train_score=True,verbose=3)\n",
        "        grdcv.fit(x_train,y_train)\n",
        "        return grdcv\n",
        "    elif cv_type == 'random':\n",
        "        grdcv = RandomizedSearchCV(clf,param_distributions=params,cv=9,scoring='f1_weighted',return_train_score=True,verbose=3)\n",
        "        grdcv.fit(x_train,y_train)\n",
        "        return grdcv"
      ],
      "id": "f69bb01d"
    },
    {
      "cell_type": "code",
      "execution_count": null,
      "metadata": {
        "id": "dbeeee21-c352-4531-818b-9dab66f68c5e"
      },
      "outputs": [],
      "source": [
        "def effective_f1score(target_1,target_2):\n",
        "    \"function to calculate the effective f1_score for predicting target-1 and target-2\"\n",
        "    # Genetic Disorder\n",
        "    score1 = max(0, 100*target_1)\n",
        "\n",
        "    # Disorder Subclass\n",
        "    score2 = max(0, 100*target_2)\n",
        "\n",
        "    # Final score\n",
        "    score = (score1/2)+(score2/2)\n",
        "    return score"
      ],
      "id": "dbeeee21-c352-4531-818b-9dab66f68c5e"
    },
    {
      "cell_type": "markdown",
      "metadata": {
        "id": "b7f76e94-5ffc-46df-a658-9dbb05e14798"
      },
      "source": [
        "<h4>Feature set - 1</h4>\n",
        "<table>\n",
        "    <tr>\n",
        "    <th> Model </th> \n",
        "    <th>f1 score target-1</th>\n",
        "    <th>log loss target-1</th>\n",
        "    <th>f1 score target-2</th>\n",
        "    <th>log loss target-2</th>\n",
        "    <th>effective f1_score</th>\n",
        "    </tr>\n",
        "    <tr>\n",
        "        <td>Logistic Regression</td>          \n",
        "        <td>0.498316360932994</td>\n",
        "        <td>0.9287242759229433</td>\n",
        "        <td>0.2875523346451197</td>\n",
        "        <td>1.5467993973128242</td>\n",
        "        <td>39.293434778905684</td>\n",
        "    </tr>\n",
        "    <tr>\n",
        "        <td>RBF SVM</td>                     \n",
        "        <td>0.4586757449341687</td>\n",
        "        <td>1.0371195242405382</td>\n",
        "        <td>0.2896658033509479</td>\n",
        "        <td>1.5899353999988852</td>\n",
        "        <td>37.41707741425583</td>\n",
        "    </tr>\n",
        "    <tr>\n",
        "        <td>Random Forest</td>            \n",
        "        <td>0.46748484246751426</td>\n",
        "        <td>1.5570730397742654</td>\n",
        "        <td> 0.2912418491025264 </td>\n",
        "        <td>1.5420811720180452</td>\n",
        "        <td>37.93633457850203</td>\n",
        "    </tr>\n",
        "    <tr>\n",
        "        <td>Light GBM</td>                 \n",
        "        <td>0.46079973869714747</td>\n",
        "        <td>2.1779389471378385</td>\n",
        "        <td>0.270308873466899</td>\n",
        "        <td>1.7823655360828612</td>\n",
        "        <td>36.55543060820233</td>\n",
        "    </tr>\n",
        "    <tr>\n",
        "        <td>Cat Boost</td>                 \n",
        "        <td>0.46981190149136104</td>\n",
        "        <td>3.4281895770624082</td>\n",
        "        <td>0.27162402935381424</td>\n",
        "        <td>1.7588206284640553</td>\n",
        "        <td>37.07179654225877</td>\n",
        "    </tr>\n",
        "\n",
        "</table>"
      ],
      "id": "b7f76e94-5ffc-46df-a658-9dbb05e14798"
    },
    {
      "cell_type": "markdown",
      "metadata": {
        "id": "fedc993e-d4c7-4f13-8a4a-db86fe8b98c4"
      },
      "source": [
        "<h4>Feature set - 2</h4>\n",
        "<table>\n",
        "    <tr>\n",
        "    <th> Model </th> \n",
        "    <th>f1 score target-1</th>\n",
        "    <th>log loss target-1</th>\n",
        "    <th>f1 score target-2</th>\n",
        "    <th>log loss target-2</th>\n",
        "    <th>effective f1_score</th>\n",
        "    </tr>\n",
        "    <tr>\n",
        "        <td>Logistic Regression</td>          \n",
        "        <td>0.49701619658390594</td>\n",
        "        <td>0.9281171469707881</td>\n",
        "        <td>0.2821210359406281</td>\n",
        "        <td>1.5375659852663768</td>\n",
        "        <td>38.956861626226704</td>\n",
        "    </tr>\n",
        "    <tr>\n",
        "        <td>RBF SVM</td>                    \n",
        "        <td>0.4797094858302178</td>\n",
        "        <td>0.9111661541860465</td>\n",
        "        <td>0.29235018635316834</td>\n",
        "        <td>1.526703719482404</td>\n",
        "        <td>38.60298360916931</td>\n",
        "    </tr>\n",
        "    <tr>\n",
        "        <td>Random Forest</td>        \n",
        "        <td>0.47335760275155686</td>\n",
        "        <td>1.5509585891390523</td>\n",
        "        <td>0.275868237982473</td>\n",
        "        <td>1.5421805015870924</td>\n",
        "        <td>37.461292036701494 </td>\n",
        "    </tr>\n",
        "    <tr>\n",
        "        <td>Light GBM</td>               \n",
        "        <td>0.4678071526154732</td>\n",
        "        <td>2.0201087541420173</td>\n",
        "        <td>0.27019243457343056</td>\n",
        "        <td>1.7804974683942474</td>\n",
        "        <td>36.89997935944518</td>\n",
        "    </tr>\n",
        "    <tr>\n",
        "        <td>Cat Boost</td>                \n",
        "        <td>0.46447355704450044</td>\n",
        "        <td>2.5773749694810038</td>\n",
        "        <td>0.26861479469372324</td>\n",
        "        <td>1.7824791917080318</td>\n",
        "        <td>36.65441758691119</td>\n",
        "    </tr>\n",
        "\n",
        "</table>"
      ],
      "id": "fedc993e-d4c7-4f13-8a4a-db86fe8b98c4"
    },
    {
      "cell_type": "markdown",
      "metadata": {
        "id": "75bf906e"
      },
      "source": [
        "* I have observed that model is performing better when the null values are removed instead of imputing them for classifying target_1\n",
        "* below is the randomforest classifier trained on important features without upsampling, this gave significant rise in weighted_f1_score. \n"
      ],
      "id": "75bf906e"
    },
    {
      "cell_type": "code",
      "source": [
        "from google.colab import drive\n",
        "drive.mount('/content/drive')"
      ],
      "metadata": {
        "colab": {
          "base_uri": "https://localhost:8080/"
        },
        "id": "dFdGUy9nXBxd",
        "outputId": "3823a1d0-563e-4548-910c-adc3c8c5a5fc"
      },
      "id": "dFdGUy9nXBxd",
      "execution_count": null,
      "outputs": [
        {
          "output_type": "stream",
          "name": "stdout",
          "text": [
            "Mounted at /content/drive\n"
          ]
        }
      ]
    },
    {
      "cell_type": "markdown",
      "metadata": {
        "id": "4364d617"
      },
      "source": [
        "# Retraining model with dropping null values from the dataset"
      ],
      "id": "4364d617"
    },
    {
      "cell_type": "code",
      "execution_count": null,
      "metadata": {
        "id": "b3cf7bee"
      },
      "outputs": [],
      "source": [
        "target_1_impfeatures = set(['num_symptoms','genes_in_mother_side','inherited_from_father','maternal_gene','paternal_gene','blood_cell_count','avg_parents_age','FE_1','white_blood_cell_count','patient_age','num_symptoms','blood_test_result'])\n",
        "target_2_impfeatures = set(['blood_cell_count','avg_parents_age','white_blood_cell_count','symptom_1','symptom_2','symptom_3','symptom_4','symptom_5','FE_1','patient_age','num_symptoms','genes_in_mother_side','inherited_from_father','maternal_gene','paternal_gene'])\n",
        "important_features = set(['target_1','target_2'])\n",
        "important_features=important_features.union(target_1_impfeatures.union(target_2_impfeatures))"
      ],
      "id": "b3cf7bee"
    },
    {
      "cell_type": "code",
      "execution_count": null,
      "metadata": {
        "id": "88b583d7-f11c-4d0d-989d-cde3f8815186",
        "colab": {
          "base_uri": "https://localhost:8080/",
          "height": 403
        },
        "outputId": "4dde273b-7526-4e16-a3ef-97d642fa0462"
      },
      "outputs": [
        {
          "output_type": "execute_result",
          "data": {
            "text/plain": [
              "   patient_age genes_in_mother_side inherited_from_father maternal_gene  \\\n",
              "0         11.0                   No                    No           Yes   \n",
              "1          4.0                   No                   Yes           Yes   \n",
              "2          1.0                  Yes                   Yes            No   \n",
              "3          6.0                  Yes                    No           Yes   \n",
              "4         10.0                  Yes                   Yes           Yes   \n",
              "\n",
              "  paternal_gene  blood_cell_count                     institute_name  \\\n",
              "0            No          5.209058           Lemuel Shattuck Hospital   \n",
              "1           Yes          4.752272           Shriners Burns Institute   \n",
              "2            No          4.612265                     Not applicable   \n",
              "3            No          4.620420                     Not applicable   \n",
              "4            No          4.751452  Massachusetts Eye & Ear Infirmary   \n",
              "\n",
              "                               location_of_institute    status  \\\n",
              "0  125 NASHUA ST\\nCENTRAL, MA 02114\\n(42.36764789...     Alive   \n",
              "1  1200 Centre St\\nRoslindale, MA 02131\\n(42.2973...     Alive   \n",
              "2                                                  -  Deceased   \n",
              "3                                                  -     Alive   \n",
              "4  44 BINNEY ST\\nFENWAY/KENMORE, MA 02115\\n(42.33...  Deceased   \n",
              "\n",
              "  respiratory_rate  ... symptom_1 symptom_2 symptom_3 symptom_4 symptom_5  \\\n",
              "0        Tachypnea  ...       1.0       1.0       1.0       0.0       1.0   \n",
              "1        Tachypnea  ...       0.0       0.0       1.0       1.0       1.0   \n",
              "2   Normal (30-60)  ...       1.0       1.0       0.0       1.0       0.0   \n",
              "3        Tachypnea  ...       1.0       0.0       1.0       0.0       1.0   \n",
              "4   Normal (30-60)  ...       1.0       1.0       0.0       0.0       0.0   \n",
              "\n",
              "  num_symptoms  FE_1 avg_parents_age target_1 target_2  \n",
              "0          4.0  4.00            44.5        0        6  \n",
              "1          3.0  1.50            43.0        1        3  \n",
              "2          3.0  3.00            53.0        0        6  \n",
              "3          3.0  0.75            30.5        0        6  \n",
              "4          2.0  0.50            48.5        0        7  \n",
              "\n",
              "[5 rows x 35 columns]"
            ],
            "text/html": [
              "\n",
              "  <div id=\"df-1790c3aa-9ac2-41f6-87b9-c9d2b47a5363\">\n",
              "    <div class=\"colab-df-container\">\n",
              "      <div>\n",
              "<style scoped>\n",
              "    .dataframe tbody tr th:only-of-type {\n",
              "        vertical-align: middle;\n",
              "    }\n",
              "\n",
              "    .dataframe tbody tr th {\n",
              "        vertical-align: top;\n",
              "    }\n",
              "\n",
              "    .dataframe thead th {\n",
              "        text-align: right;\n",
              "    }\n",
              "</style>\n",
              "<table border=\"1\" class=\"dataframe\">\n",
              "  <thead>\n",
              "    <tr style=\"text-align: right;\">\n",
              "      <th></th>\n",
              "      <th>patient_age</th>\n",
              "      <th>genes_in_mother_side</th>\n",
              "      <th>inherited_from_father</th>\n",
              "      <th>maternal_gene</th>\n",
              "      <th>paternal_gene</th>\n",
              "      <th>blood_cell_count</th>\n",
              "      <th>institute_name</th>\n",
              "      <th>location_of_institute</th>\n",
              "      <th>status</th>\n",
              "      <th>respiratory_rate</th>\n",
              "      <th>...</th>\n",
              "      <th>symptom_1</th>\n",
              "      <th>symptom_2</th>\n",
              "      <th>symptom_3</th>\n",
              "      <th>symptom_4</th>\n",
              "      <th>symptom_5</th>\n",
              "      <th>num_symptoms</th>\n",
              "      <th>FE_1</th>\n",
              "      <th>avg_parents_age</th>\n",
              "      <th>target_1</th>\n",
              "      <th>target_2</th>\n",
              "    </tr>\n",
              "  </thead>\n",
              "  <tbody>\n",
              "    <tr>\n",
              "      <th>0</th>\n",
              "      <td>11.0</td>\n",
              "      <td>No</td>\n",
              "      <td>No</td>\n",
              "      <td>Yes</td>\n",
              "      <td>No</td>\n",
              "      <td>5.209058</td>\n",
              "      <td>Lemuel Shattuck Hospital</td>\n",
              "      <td>125 NASHUA ST\\nCENTRAL, MA 02114\\n(42.36764789...</td>\n",
              "      <td>Alive</td>\n",
              "      <td>Tachypnea</td>\n",
              "      <td>...</td>\n",
              "      <td>1.0</td>\n",
              "      <td>1.0</td>\n",
              "      <td>1.0</td>\n",
              "      <td>0.0</td>\n",
              "      <td>1.0</td>\n",
              "      <td>4.0</td>\n",
              "      <td>4.00</td>\n",
              "      <td>44.5</td>\n",
              "      <td>0</td>\n",
              "      <td>6</td>\n",
              "    </tr>\n",
              "    <tr>\n",
              "      <th>1</th>\n",
              "      <td>4.0</td>\n",
              "      <td>No</td>\n",
              "      <td>Yes</td>\n",
              "      <td>Yes</td>\n",
              "      <td>Yes</td>\n",
              "      <td>4.752272</td>\n",
              "      <td>Shriners Burns Institute</td>\n",
              "      <td>1200 Centre St\\nRoslindale, MA 02131\\n(42.2973...</td>\n",
              "      <td>Alive</td>\n",
              "      <td>Tachypnea</td>\n",
              "      <td>...</td>\n",
              "      <td>0.0</td>\n",
              "      <td>0.0</td>\n",
              "      <td>1.0</td>\n",
              "      <td>1.0</td>\n",
              "      <td>1.0</td>\n",
              "      <td>3.0</td>\n",
              "      <td>1.50</td>\n",
              "      <td>43.0</td>\n",
              "      <td>1</td>\n",
              "      <td>3</td>\n",
              "    </tr>\n",
              "    <tr>\n",
              "      <th>2</th>\n",
              "      <td>1.0</td>\n",
              "      <td>Yes</td>\n",
              "      <td>Yes</td>\n",
              "      <td>No</td>\n",
              "      <td>No</td>\n",
              "      <td>4.612265</td>\n",
              "      <td>Not applicable</td>\n",
              "      <td>-</td>\n",
              "      <td>Deceased</td>\n",
              "      <td>Normal (30-60)</td>\n",
              "      <td>...</td>\n",
              "      <td>1.0</td>\n",
              "      <td>1.0</td>\n",
              "      <td>0.0</td>\n",
              "      <td>1.0</td>\n",
              "      <td>0.0</td>\n",
              "      <td>3.0</td>\n",
              "      <td>3.00</td>\n",
              "      <td>53.0</td>\n",
              "      <td>0</td>\n",
              "      <td>6</td>\n",
              "    </tr>\n",
              "    <tr>\n",
              "      <th>3</th>\n",
              "      <td>6.0</td>\n",
              "      <td>Yes</td>\n",
              "      <td>No</td>\n",
              "      <td>Yes</td>\n",
              "      <td>No</td>\n",
              "      <td>4.620420</td>\n",
              "      <td>Not applicable</td>\n",
              "      <td>-</td>\n",
              "      <td>Alive</td>\n",
              "      <td>Tachypnea</td>\n",
              "      <td>...</td>\n",
              "      <td>1.0</td>\n",
              "      <td>0.0</td>\n",
              "      <td>1.0</td>\n",
              "      <td>0.0</td>\n",
              "      <td>1.0</td>\n",
              "      <td>3.0</td>\n",
              "      <td>0.75</td>\n",
              "      <td>30.5</td>\n",
              "      <td>0</td>\n",
              "      <td>6</td>\n",
              "    </tr>\n",
              "    <tr>\n",
              "      <th>4</th>\n",
              "      <td>10.0</td>\n",
              "      <td>Yes</td>\n",
              "      <td>Yes</td>\n",
              "      <td>Yes</td>\n",
              "      <td>No</td>\n",
              "      <td>4.751452</td>\n",
              "      <td>Massachusetts Eye &amp; Ear Infirmary</td>\n",
              "      <td>44 BINNEY ST\\nFENWAY/KENMORE, MA 02115\\n(42.33...</td>\n",
              "      <td>Deceased</td>\n",
              "      <td>Normal (30-60)</td>\n",
              "      <td>...</td>\n",
              "      <td>1.0</td>\n",
              "      <td>1.0</td>\n",
              "      <td>0.0</td>\n",
              "      <td>0.0</td>\n",
              "      <td>0.0</td>\n",
              "      <td>2.0</td>\n",
              "      <td>0.50</td>\n",
              "      <td>48.5</td>\n",
              "      <td>0</td>\n",
              "      <td>7</td>\n",
              "    </tr>\n",
              "  </tbody>\n",
              "</table>\n",
              "<p>5 rows × 35 columns</p>\n",
              "</div>\n",
              "      <button class=\"colab-df-convert\" onclick=\"convertToInteractive('df-1790c3aa-9ac2-41f6-87b9-c9d2b47a5363')\"\n",
              "              title=\"Convert this dataframe to an interactive table.\"\n",
              "              style=\"display:none;\">\n",
              "        \n",
              "  <svg xmlns=\"http://www.w3.org/2000/svg\" height=\"24px\"viewBox=\"0 0 24 24\"\n",
              "       width=\"24px\">\n",
              "    <path d=\"M0 0h24v24H0V0z\" fill=\"none\"/>\n",
              "    <path d=\"M18.56 5.44l.94 2.06.94-2.06 2.06-.94-2.06-.94-.94-2.06-.94 2.06-2.06.94zm-11 1L8.5 8.5l.94-2.06 2.06-.94-2.06-.94L8.5 2.5l-.94 2.06-2.06.94zm10 10l.94 2.06.94-2.06 2.06-.94-2.06-.94-.94-2.06-.94 2.06-2.06.94z\"/><path d=\"M17.41 7.96l-1.37-1.37c-.4-.4-.92-.59-1.43-.59-.52 0-1.04.2-1.43.59L10.3 9.45l-7.72 7.72c-.78.78-.78 2.05 0 2.83L4 21.41c.39.39.9.59 1.41.59.51 0 1.02-.2 1.41-.59l7.78-7.78 2.81-2.81c.8-.78.8-2.07 0-2.86zM5.41 20L4 18.59l7.72-7.72 1.47 1.35L5.41 20z\"/>\n",
              "  </svg>\n",
              "      </button>\n",
              "      \n",
              "  <style>\n",
              "    .colab-df-container {\n",
              "      display:flex;\n",
              "      flex-wrap:wrap;\n",
              "      gap: 12px;\n",
              "    }\n",
              "\n",
              "    .colab-df-convert {\n",
              "      background-color: #E8F0FE;\n",
              "      border: none;\n",
              "      border-radius: 50%;\n",
              "      cursor: pointer;\n",
              "      display: none;\n",
              "      fill: #1967D2;\n",
              "      height: 32px;\n",
              "      padding: 0 0 0 0;\n",
              "      width: 32px;\n",
              "    }\n",
              "\n",
              "    .colab-df-convert:hover {\n",
              "      background-color: #E2EBFA;\n",
              "      box-shadow: 0px 1px 2px rgba(60, 64, 67, 0.3), 0px 1px 3px 1px rgba(60, 64, 67, 0.15);\n",
              "      fill: #174EA6;\n",
              "    }\n",
              "\n",
              "    [theme=dark] .colab-df-convert {\n",
              "      background-color: #3B4455;\n",
              "      fill: #D2E3FC;\n",
              "    }\n",
              "\n",
              "    [theme=dark] .colab-df-convert:hover {\n",
              "      background-color: #434B5C;\n",
              "      box-shadow: 0px 1px 3px 1px rgba(0, 0, 0, 0.15);\n",
              "      filter: drop-shadow(0px 1px 2px rgba(0, 0, 0, 0.3));\n",
              "      fill: #FFFFFF;\n",
              "    }\n",
              "  </style>\n",
              "\n",
              "      <script>\n",
              "        const buttonEl =\n",
              "          document.querySelector('#df-1790c3aa-9ac2-41f6-87b9-c9d2b47a5363 button.colab-df-convert');\n",
              "        buttonEl.style.display =\n",
              "          google.colab.kernel.accessAllowed ? 'block' : 'none';\n",
              "\n",
              "        async function convertToInteractive(key) {\n",
              "          const element = document.querySelector('#df-1790c3aa-9ac2-41f6-87b9-c9d2b47a5363');\n",
              "          const dataTable =\n",
              "            await google.colab.kernel.invokeFunction('convertToInteractive',\n",
              "                                                     [key], {});\n",
              "          if (!dataTable) return;\n",
              "\n",
              "          const docLinkHtml = 'Like what you see? Visit the ' +\n",
              "            '<a target=\"_blank\" href=https://colab.research.google.com/notebooks/data_table.ipynb>data table notebook</a>'\n",
              "            + ' to learn more about interactive tables.';\n",
              "          element.innerHTML = '';\n",
              "          dataTable['output_type'] = 'display_data';\n",
              "          await google.colab.output.renderOutput(dataTable, element);\n",
              "          const docLink = document.createElement('div');\n",
              "          docLink.innerHTML = docLinkHtml;\n",
              "          element.appendChild(docLink);\n",
              "        }\n",
              "      </script>\n",
              "    </div>\n",
              "  </div>\n",
              "  "
            ]
          },
          "metadata": {},
          "execution_count": 11
        }
      ],
      "source": [
        "drop_df = pd.read_csv('dropna_train.csv')\n",
        "drop_df.drop('Unnamed: 0',axis=1,inplace=True)\n",
        "drop_df.head()"
      ],
      "id": "88b583d7-f11c-4d0d-989d-cde3f8815186"
    },
    {
      "cell_type": "code",
      "execution_count": null,
      "metadata": {
        "id": "42ca7b0f"
      },
      "outputs": [],
      "source": [
        "drop_df.drop(['institute_name'],axis=1,inplace=True)"
      ],
      "id": "42ca7b0f"
    },
    {
      "cell_type": "code",
      "execution_count": null,
      "metadata": {
        "id": "435287b1"
      },
      "outputs": [],
      "source": [
        "drop_df = drop_df[important_features]"
      ],
      "id": "435287b1"
    },
    {
      "cell_type": "code",
      "execution_count": null,
      "metadata": {
        "id": "f29f5859",
        "colab": {
          "base_uri": "https://localhost:8080/"
        },
        "outputId": "7186a90a-a7ae-4f40-d006-868e69ed5b76"
      },
      "outputs": [
        {
          "output_type": "stream",
          "name": "stdout",
          "text": [
            "(5096, 16)\n",
            "(1274, 16)\n",
            "(5096, 2)\n",
            "(1274, 2)\n"
          ]
        }
      ],
      "source": [
        "X_train,X_test,y_train,y_test = data_splitting(drop_df,['target_1','target_2'],0.2)\n",
        "print(X_train.shape)\n",
        "print(X_test.shape)\n",
        "print(y_train.shape)\n",
        "print(y_test.shape)"
      ],
      "id": "f29f5859"
    },
    {
      "cell_type": "code",
      "execution_count": null,
      "metadata": {
        "id": "1546ba5b"
      },
      "outputs": [],
      "source": [
        "cardinality_eq_two,cardinality_gt_two = [],[]\n",
        "for i in X_train.select_dtypes(include=['object']).columns:\n",
        "    if X_train[i].nunique()==2:\n",
        "        cardinality_eq_two.append(i)\n",
        "    elif X_train[i].nunique()>2:\n",
        "        cardinality_gt_two.append(i)"
      ],
      "id": "1546ba5b"
    },
    {
      "cell_type": "code",
      "execution_count": null,
      "metadata": {
        "id": "d52d904f"
      },
      "outputs": [],
      "source": [
        "one_hot_encoder = OneHotEncoder(sparse=False)\n",
        "# binary_encoder = BinaryEncoder(cols=cardinality_gt_two)\n",
        "# standard_scaler = StandardScaler()"
      ],
      "id": "d52d904f"
    },
    {
      "cell_type": "code",
      "execution_count": null,
      "metadata": {
        "id": "lk907ZHFDp6h"
      },
      "outputs": [],
      "source": [
        "# from sklearn.pipeline import FeatureUnion\n",
        "from sklearn.preprocessing import FunctionTransformer"
      ],
      "id": "lk907ZHFDp6h"
    },
    {
      "cell_type": "code",
      "execution_count": null,
      "metadata": {
        "id": "a17015c6"
      },
      "outputs": [],
      "source": [
        "numerical_cols = [i for i in X_train.select_dtypes(include=['float64','int64']).columns if i != 'target_1' or i!='target_2']"
      ],
      "id": "a17015c6"
    },
    {
      "cell_type": "code",
      "execution_count": null,
      "metadata": {
        "id": "Zyz4V1HOBKyk"
      },
      "outputs": [],
      "source": [
        "def numerical_features(x):\n",
        "  return x.values"
      ],
      "id": "Zyz4V1HOBKyk"
    },
    {
      "cell_type": "code",
      "execution_count": null,
      "metadata": {
        "id": "f8zhVGFazv2x"
      },
      "outputs": [],
      "source": [
        "categorical = cardinality_eq_two+cardinality_gt_two\n",
        "# selector = SelectFromModel(estimator=ExtraTreesClassifier(n_estimators=1000))"
      ],
      "id": "f8zhVGFazv2x"
    },
    {
      "cell_type": "code",
      "execution_count": null,
      "metadata": {
        "id": "4ade0598",
        "colab": {
          "base_uri": "https://localhost:8080/"
        },
        "outputId": "6f6029f2-fb7d-4715-97ff-af234dd9ff30"
      },
      "outputs": [
        {
          "output_type": "execute_result",
          "data": {
            "text/plain": [
              "ColumnTransformer(transformers=[('one-hot-encoder', OneHotEncoder(sparse=False),\n",
              "                                 ['genes_in_mother_side', 'maternal_gene',\n",
              "                                  'inherited_from_father', 'paternal_gene',\n",
              "                                  'blood_test_result'])])"
            ]
          },
          "metadata": {},
          "execution_count": 21
        }
      ],
      "source": [
        "pre_processor_1 = ColumnTransformer([\n",
        "    ('one-hot-encoder', one_hot_encoder, categorical),\n",
        "    ('numerical',FunctionTransformer(func=numerical_features),numerical_cols)\n",
        "    ])\n",
        "pre_processor_1.fit(X_train)"
      ],
      "id": "4ade0598"
    },
    {
      "cell_type": "code",
      "execution_count": null,
      "metadata": {
        "id": "SuVgLy3dUvrV",
        "colab": {
          "base_uri": "https://localhost:8080/"
        },
        "outputId": "18258f47-da13-464a-bf7a-9263191f424b"
      },
      "outputs": [
        {
          "output_type": "execute_result",
          "data": {
            "text/plain": [
              "array([[0., 1., 0., ..., 0., 1., 0.],\n",
              "       [0., 1., 0., ..., 1., 0., 0.],\n",
              "       [0., 1., 0., ..., 0., 0., 0.],\n",
              "       ...,\n",
              "       [0., 1., 0., ..., 1., 0., 0.],\n",
              "       [0., 1., 1., ..., 0., 0., 0.],\n",
              "       [1., 0., 1., ..., 0., 0., 0.]])"
            ]
          },
          "metadata": {},
          "execution_count": 22
        }
      ],
      "source": [
        "pre_processor_1.fit_transform(X_train)"
      ],
      "id": "SuVgLy3dUvrV"
    },
    {
      "cell_type": "code",
      "execution_count": null,
      "metadata": {
        "id": "Cb3CkZZrws20"
      },
      "outputs": [],
      "source": [
        "rf = pickle.load(open('/content/drive/MyDrive/MachineLearning/randomforest_.pkl','rb'))"
      ],
      "id": "Cb3CkZZrws20"
    },
    {
      "cell_type": "code",
      "execution_count": null,
      "metadata": {
        "colab": {
          "base_uri": "https://localhost:8080/"
        },
        "id": "BTqX0nZBwyf1",
        "outputId": "d82c8ddc-33d0-4574-ba04-4d3196ecd868"
      },
      "outputs": [
        {
          "output_type": "stream",
          "name": "stdout",
          "text": [
            "BaseLine Random Forest\n",
            "f1-score\n",
            "0.6343936576866197\n"
          ]
        }
      ],
      "source": [
        "print('BaseLine Random Forest')\n",
        "print('f1-score')\n",
        "print(f1_score(y_test.values[:,0],rf.predict(X_test),average='weighted'))"
      ],
      "id": "BTqX0nZBwyf1"
    },
    {
      "cell_type": "code",
      "execution_count": null,
      "metadata": {
        "colab": {
          "base_uri": "https://localhost:8080/"
        },
        "id": "_fX4Pdb9xJuo",
        "outputId": "f237cd69-ee94-4367-bbc0-882829a530c1"
      },
      "outputs": [
        {
          "output_type": "stream",
          "name": "stdout",
          "text": [
            "BaseLine RandomForest\n",
            "              precision    recall  f1-score   support\n",
            "\n",
            "           0       0.70      0.82      0.75       647\n",
            "           1       0.42      0.36      0.39       138\n",
            "           2       0.61      0.49      0.55       489\n",
            "\n",
            "    accuracy                           0.64      1274\n",
            "   macro avg       0.57      0.56      0.56      1274\n",
            "weighted avg       0.63      0.64      0.63      1274\n",
            "\n"
          ]
        }
      ],
      "source": [
        "print('BaseLine RandomForest')\n",
        "print(classification_report(y_test.values[:,0],rf.predict(X_test)))"
      ],
      "id": "_fX4Pdb9xJuo"
    },
    {
      "cell_type": "code",
      "execution_count": null,
      "metadata": {
        "colab": {
          "base_uri": "https://localhost:8080/",
          "height": 279
        },
        "id": "uL9pwRHZxJup",
        "outputId": "be27dc84-4081-4b5d-e709-51958f25e47a"
      },
      "outputs": [
        {
          "output_type": "display_data",
          "data": {
            "text/plain": [
              "<Figure size 2160x288 with 6 Axes>"
            ],
            "image/png": "[encoded data removed]"
          },
          "metadata": {
            "needs_background": "light"
          }
        }
      ],
      "source": [
        "plot_confusion_matrix(y_test.values[:,0],rf.predict(X_test),3)"
      ],
      "id": "uL9pwRHZxJup"
    },
    {
      "cell_type": "markdown",
      "source": [
        "* Random Forest model trained on dataset which was imputed has 0.46 f1 score.\n",
        "* Later instead of imputing the null values I have dropped all the rows with null values and trained a oneVsRest Random Forest classifier which resulted in increase in macro f1 score when compared to previous model and weighted f1 score in 0.63"
      ],
      "metadata": {
        "id": "CRGRskgSwDVY"
      },
      "id": "CRGRskgSwDVY"
    },
    {
      "cell_type": "markdown",
      "metadata": {
        "id": "f4bf902c"
      },
      "source": [
        "# Training RandomForest Classifier Model on dataset without any imputations"
      ],
      "id": "f4bf902c"
    },
    {
      "cell_type": "code",
      "execution_count": null,
      "metadata": {
        "id": "db1f9b71"
      },
      "outputs": [],
      "source": [
        "pipe = Pipeline([('pre_processor',pre_processor_1),('rf',OneVsRestClassifier(estimator = RandomForestClassifier()) )])"
      ],
      "id": "db1f9b71"
    },
    {
      "cell_type": "code",
      "execution_count": null,
      "metadata": {
        "id": "69e193c6"
      },
      "outputs": [],
      "source": [
        "params = {'rf__estimator__n_estimators' : [500,1000,2000,3000],'rf__estimator__min_samples_split' : [2, 5, 10],'rf__estimator__min_samples_leaf' : [1, 2, 4]}"
      ],
      "id": "69e193c6"
    },
    {
      "cell_type": "code",
      "execution_count": null,
      "metadata": {
        "colab": {
          "base_uri": "https://localhost:8080/",
          "height": 486
        },
        "id": "5ee7e8b1",
        "outputId": "198b293c-34e1-43f0-d781-226f9cd50a9a"
      },
      "outputs": [
        {
          "output_type": "stream",
          "name": "stdout",
          "text": [
            "Fitting 3 folds for each of 10 candidates, totalling 30 fits\n",
            "[CV 1/3] END rf__estimator__min_samples_leaf=2, rf__estimator__min_samples_split=5, rf__estimator__n_estimators=2000;, score=(train=0.988, test=0.629) total time=  31.3s\n"
          ]
        },
        {
          "output_type": "error",
          "ename": "KeyboardInterrupt",
          "evalue": "ignored",
          "traceback": [
            "\u001b[0;31m---------------------------------------------------------------------------\u001b[0m",
            "\u001b[0;31mAttributeError\u001b[0m                            Traceback (most recent call last)",
            "\u001b[0;32m/usr/local/lib/python3.7/dist-packages/sklearn/multiclass.py\u001b[0m in \u001b[0;36m_predict_binary\u001b[0;34m(estimator, X)\u001b[0m\n\u001b[1;32m     99\u001b[0m     \u001b[0;32mtry\u001b[0m\u001b[0;34m:\u001b[0m\u001b[0;34m\u001b[0m\u001b[0;34m\u001b[0m\u001b[0m\n\u001b[0;32m--> 100\u001b[0;31m         \u001b[0mscore\u001b[0m \u001b[0;34m=\u001b[0m \u001b[0mnp\u001b[0m\u001b[0;34m.\u001b[0m\u001b[0mravel\u001b[0m\u001b[0;34m(\u001b[0m\u001b[0mestimator\u001b[0m\u001b[0;34m.\u001b[0m\u001b[0mdecision_function\u001b[0m\u001b[0;34m(\u001b[0m\u001b[0mX\u001b[0m\u001b[0;34m)\u001b[0m\u001b[0;34m)\u001b[0m\u001b[0;34m\u001b[0m\u001b[0;34m\u001b[0m\u001b[0m\n\u001b[0m\u001b[1;32m    101\u001b[0m     \u001b[0;32mexcept\u001b[0m \u001b[0;34m(\u001b[0m\u001b[0mAttributeError\u001b[0m\u001b[0;34m,\u001b[0m \u001b[0mNotImplementedError\u001b[0m\u001b[0;34m)\u001b[0m\u001b[0;34m:\u001b[0m\u001b[0;34m\u001b[0m\u001b[0;34m\u001b[0m\u001b[0m\n",
            "\u001b[0;31mAttributeError\u001b[0m: 'RandomForestClassifier' object has no attribute 'decision_function'",
            "\nDuring handling of the above exception, another exception occurred:\n",
            "\u001b[0;31mKeyboardInterrupt\u001b[0m                         Traceback (most recent call last)",
            "\u001b[0;32m<ipython-input-99-189044a4815d>\u001b[0m in \u001b[0;36m<module>\u001b[0;34m()\u001b[0m\n\u001b[0;32m----> 1\u001b[0;31m \u001b[0mbaseline1\u001b[0m \u001b[0;34m=\u001b[0m \u001b[0mmodel\u001b[0m\u001b[0;34m(\u001b[0m\u001b[0mX_train\u001b[0m\u001b[0;34m,\u001b[0m\u001b[0my_train\u001b[0m\u001b[0;34m.\u001b[0m\u001b[0mvalues\u001b[0m\u001b[0;34m[\u001b[0m\u001b[0;34m:\u001b[0m\u001b[0;34m,\u001b[0m\u001b[0;36m0\u001b[0m\u001b[0;34m]\u001b[0m\u001b[0;34m,\u001b[0m\u001b[0mX_test\u001b[0m\u001b[0;34m,\u001b[0m\u001b[0my_test\u001b[0m\u001b[0;34m.\u001b[0m\u001b[0mvalues\u001b[0m\u001b[0;34m[\u001b[0m\u001b[0;34m:\u001b[0m\u001b[0;34m,\u001b[0m\u001b[0;36m0\u001b[0m\u001b[0;34m]\u001b[0m\u001b[0;34m,\u001b[0m\u001b[0mpipe\u001b[0m\u001b[0;34m,\u001b[0m\u001b[0mparams\u001b[0m\u001b[0;34m,\u001b[0m\u001b[0mcv_type\u001b[0m\u001b[0;34m=\u001b[0m\u001b[0;34m\"random\"\u001b[0m\u001b[0;34m)\u001b[0m\u001b[0;34m\u001b[0m\u001b[0;34m\u001b[0m\u001b[0m\n\u001b[0m",
            "\u001b[0;32m<ipython-input-74-eef176a8b2e7>\u001b[0m in \u001b[0;36mmodel\u001b[0;34m(x_train, y_train, x_test, y_test, clf, params, cv_type)\u001b[0m\n\u001b[1;32m     19\u001b[0m \u001b[0;34m\u001b[0m\u001b[0m\n\u001b[1;32m     20\u001b[0m     \u001b[0mresults\u001b[0m\u001b[0;34m=\u001b[0m\u001b[0;34m{\u001b[0m\u001b[0;34m}\u001b[0m\u001b[0;34m\u001b[0m\u001b[0;34m\u001b[0m\u001b[0m\n\u001b[0;32m---> 21\u001b[0;31m     \u001b[0mresults\u001b[0m\u001b[0;34m[\u001b[0m\u001b[0;34m'cv_result'\u001b[0m\u001b[0;34m]\u001b[0m \u001b[0;34m=\u001b[0m \u001b[0mcross_validate\u001b[0m\u001b[0;34m(\u001b[0m\u001b[0mx_train\u001b[0m\u001b[0;34m,\u001b[0m\u001b[0my_train\u001b[0m\u001b[0;34m,\u001b[0m\u001b[0mparams\u001b[0m\u001b[0;34m,\u001b[0m\u001b[0mclf\u001b[0m\u001b[0;34m,\u001b[0m\u001b[0mcv_type\u001b[0m\u001b[0;34m)\u001b[0m\u001b[0;34m\u001b[0m\u001b[0;34m\u001b[0m\u001b[0m\n\u001b[0m\u001b[1;32m     22\u001b[0m \u001b[0;34m\u001b[0m\u001b[0m\n\u001b[1;32m     23\u001b[0m     \u001b[0mresults\u001b[0m\u001b[0;34m[\u001b[0m\u001b[0;34m'best_estimator'\u001b[0m\u001b[0;34m]\u001b[0m \u001b[0;34m=\u001b[0m \u001b[0mresults\u001b[0m\u001b[0;34m[\u001b[0m\u001b[0;34m'cv_result'\u001b[0m\u001b[0;34m]\u001b[0m\u001b[0;34m.\u001b[0m\u001b[0mbest_estimator_\u001b[0m\u001b[0;34m\u001b[0m\u001b[0;34m\u001b[0m\u001b[0m\n",
            "\u001b[0;32m<ipython-input-75-2c19ac8eabf1>\u001b[0m in \u001b[0;36mcross_validate\u001b[0;34m(x_train, y_train, params, clf, cv_type)\u001b[0m\n\u001b[1;32m     21\u001b[0m     \u001b[0;32melif\u001b[0m \u001b[0mcv_type\u001b[0m \u001b[0;34m==\u001b[0m \u001b[0;34m'random'\u001b[0m\u001b[0;34m:\u001b[0m\u001b[0;34m\u001b[0m\u001b[0;34m\u001b[0m\u001b[0m\n\u001b[1;32m     22\u001b[0m         \u001b[0mgrdcv\u001b[0m \u001b[0;34m=\u001b[0m \u001b[0mRandomizedSearchCV\u001b[0m\u001b[0;34m(\u001b[0m\u001b[0mclf\u001b[0m\u001b[0;34m,\u001b[0m\u001b[0mparam_distributions\u001b[0m\u001b[0;34m=\u001b[0m\u001b[0mparams\u001b[0m\u001b[0;34m,\u001b[0m\u001b[0mcv\u001b[0m\u001b[0;34m=\u001b[0m\u001b[0;36m3\u001b[0m\u001b[0;34m,\u001b[0m\u001b[0mscoring\u001b[0m\u001b[0;34m=\u001b[0m\u001b[0;34m'f1_weighted'\u001b[0m\u001b[0;34m,\u001b[0m\u001b[0mreturn_train_score\u001b[0m\u001b[0;34m=\u001b[0m\u001b[0;32mTrue\u001b[0m\u001b[0;34m,\u001b[0m\u001b[0mverbose\u001b[0m\u001b[0;34m=\u001b[0m\u001b[0;36m3\u001b[0m\u001b[0;34m)\u001b[0m\u001b[0;34m\u001b[0m\u001b[0;34m\u001b[0m\u001b[0m\n\u001b[0;32m---> 23\u001b[0;31m         \u001b[0mgrdcv\u001b[0m\u001b[0;34m.\u001b[0m\u001b[0mfit\u001b[0m\u001b[0;34m(\u001b[0m\u001b[0mx_train\u001b[0m\u001b[0;34m,\u001b[0m\u001b[0my_train\u001b[0m\u001b[0;34m)\u001b[0m\u001b[0;34m\u001b[0m\u001b[0;34m\u001b[0m\u001b[0m\n\u001b[0m\u001b[1;32m     24\u001b[0m         \u001b[0;32mreturn\u001b[0m \u001b[0mgrdcv\u001b[0m\u001b[0;34m\u001b[0m\u001b[0;34m\u001b[0m\u001b[0m\n",
            "\u001b[0;32m/usr/local/lib/python3.7/dist-packages/sklearn/model_selection/_search.py\u001b[0m in \u001b[0;36mfit\u001b[0;34m(self, X, y, groups, **fit_params)\u001b[0m\n\u001b[1;32m    889\u001b[0m                 \u001b[0;32mreturn\u001b[0m \u001b[0mresults\u001b[0m\u001b[0;34m\u001b[0m\u001b[0;34m\u001b[0m\u001b[0m\n\u001b[1;32m    890\u001b[0m \u001b[0;34m\u001b[0m\u001b[0m\n\u001b[0;32m--> 891\u001b[0;31m             \u001b[0mself\u001b[0m\u001b[0;34m.\u001b[0m\u001b[0m_run_search\u001b[0m\u001b[0;34m(\u001b[0m\u001b[0mevaluate_candidates\u001b[0m\u001b[0;34m)\u001b[0m\u001b[0;34m\u001b[0m\u001b[0;34m\u001b[0m\u001b[0m\n\u001b[0m\u001b[1;32m    892\u001b[0m \u001b[0;34m\u001b[0m\u001b[0m\n\u001b[1;32m    893\u001b[0m             \u001b[0;31m# multimetric is determined here because in the case of a callable\u001b[0m\u001b[0;34m\u001b[0m\u001b[0;34m\u001b[0m\u001b[0;34m\u001b[0m\u001b[0m\n",
            "\u001b[0;32m/usr/local/lib/python3.7/dist-packages/sklearn/model_selection/_search.py\u001b[0m in \u001b[0;36m_run_search\u001b[0;34m(self, evaluate_candidates)\u001b[0m\n\u001b[1;32m   1766\u001b[0m         evaluate_candidates(\n\u001b[1;32m   1767\u001b[0m             ParameterSampler(\n\u001b[0;32m-> 1768\u001b[0;31m                 \u001b[0mself\u001b[0m\u001b[0;34m.\u001b[0m\u001b[0mparam_distributions\u001b[0m\u001b[0;34m,\u001b[0m \u001b[0mself\u001b[0m\u001b[0;34m.\u001b[0m\u001b[0mn_iter\u001b[0m\u001b[0;34m,\u001b[0m \u001b[0mrandom_state\u001b[0m\u001b[0;34m=\u001b[0m\u001b[0mself\u001b[0m\u001b[0;34m.\u001b[0m\u001b[0mrandom_state\u001b[0m\u001b[0;34m\u001b[0m\u001b[0;34m\u001b[0m\u001b[0m\n\u001b[0m\u001b[1;32m   1769\u001b[0m             )\n\u001b[1;32m   1770\u001b[0m         )\n",
            "\u001b[0;32m/usr/local/lib/python3.7/dist-packages/sklearn/model_selection/_search.py\u001b[0m in \u001b[0;36mevaluate_candidates\u001b[0;34m(candidate_params, cv, more_results)\u001b[0m\n\u001b[1;32m    849\u001b[0m                     )\n\u001b[1;32m    850\u001b[0m                     for (cand_idx, parameters), (split_idx, (train, test)) in product(\n\u001b[0;32m--> 851\u001b[0;31m                         \u001b[0menumerate\u001b[0m\u001b[0;34m(\u001b[0m\u001b[0mcandidate_params\u001b[0m\u001b[0;34m)\u001b[0m\u001b[0;34m,\u001b[0m \u001b[0menumerate\u001b[0m\u001b[0;34m(\u001b[0m\u001b[0mcv\u001b[0m\u001b[0;34m.\u001b[0m\u001b[0msplit\u001b[0m\u001b[0;34m(\u001b[0m\u001b[0mX\u001b[0m\u001b[0;34m,\u001b[0m \u001b[0my\u001b[0m\u001b[0;34m,\u001b[0m \u001b[0mgroups\u001b[0m\u001b[0;34m)\u001b[0m\u001b[0;34m)\u001b[0m\u001b[0;34m\u001b[0m\u001b[0;34m\u001b[0m\u001b[0m\n\u001b[0m\u001b[1;32m    852\u001b[0m                     )\n\u001b[1;32m    853\u001b[0m                 )\n",
            "\u001b[0;32m/usr/local/lib/python3.7/dist-packages/joblib/parallel.py\u001b[0m in \u001b[0;36m__call__\u001b[0;34m(self, iterable)\u001b[0m\n\u001b[1;32m   1044\u001b[0m                 \u001b[0mself\u001b[0m\u001b[0;34m.\u001b[0m\u001b[0m_iterating\u001b[0m \u001b[0;34m=\u001b[0m \u001b[0mself\u001b[0m\u001b[0;34m.\u001b[0m\u001b[0m_original_iterator\u001b[0m \u001b[0;32mis\u001b[0m \u001b[0;32mnot\u001b[0m \u001b[0;32mNone\u001b[0m\u001b[0;34m\u001b[0m\u001b[0;34m\u001b[0m\u001b[0m\n\u001b[1;32m   1045\u001b[0m \u001b[0;34m\u001b[0m\u001b[0m\n\u001b[0;32m-> 1046\u001b[0;31m             \u001b[0;32mwhile\u001b[0m \u001b[0mself\u001b[0m\u001b[0;34m.\u001b[0m\u001b[0mdispatch_one_batch\u001b[0m\u001b[0;34m(\u001b[0m\u001b[0miterator\u001b[0m\u001b[0;34m)\u001b[0m\u001b[0;34m:\u001b[0m\u001b[0;34m\u001b[0m\u001b[0;34m\u001b[0m\u001b[0m\n\u001b[0m\u001b[1;32m   1047\u001b[0m                 \u001b[0;32mpass\u001b[0m\u001b[0;34m\u001b[0m\u001b[0;34m\u001b[0m\u001b[0m\n\u001b[1;32m   1048\u001b[0m \u001b[0;34m\u001b[0m\u001b[0m\n",
            "\u001b[0;32m/usr/local/lib/python3.7/dist-packages/joblib/parallel.py\u001b[0m in \u001b[0;36mdispatch_one_batch\u001b[0;34m(self, iterator)\u001b[0m\n\u001b[1;32m    859\u001b[0m                 \u001b[0;32mreturn\u001b[0m \u001b[0;32mFalse\u001b[0m\u001b[0;34m\u001b[0m\u001b[0;34m\u001b[0m\u001b[0m\n\u001b[1;32m    860\u001b[0m             \u001b[0;32melse\u001b[0m\u001b[0;34m:\u001b[0m\u001b[0;34m\u001b[0m\u001b[0;34m\u001b[0m\u001b[0m\n\u001b[0;32m--> 861\u001b[0;31m                 \u001b[0mself\u001b[0m\u001b[0;34m.\u001b[0m\u001b[0m_dispatch\u001b[0m\u001b[0;34m(\u001b[0m\u001b[0mtasks\u001b[0m\u001b[0;34m)\u001b[0m\u001b[0;34m\u001b[0m\u001b[0;34m\u001b[0m\u001b[0m\n\u001b[0m\u001b[1;32m    862\u001b[0m                 \u001b[0;32mreturn\u001b[0m \u001b[0;32mTrue\u001b[0m\u001b[0;34m\u001b[0m\u001b[0;34m\u001b[0m\u001b[0m\n\u001b[1;32m    863\u001b[0m \u001b[0;34m\u001b[0m\u001b[0m\n",
            "\u001b[0;32m/usr/local/lib/python3.7/dist-packages/joblib/parallel.py\u001b[0m in \u001b[0;36m_dispatch\u001b[0;34m(self, batch)\u001b[0m\n\u001b[1;32m    777\u001b[0m         \u001b[0;32mwith\u001b[0m \u001b[0mself\u001b[0m\u001b[0;34m.\u001b[0m\u001b[0m_lock\u001b[0m\u001b[0;34m:\u001b[0m\u001b[0;34m\u001b[0m\u001b[0;34m\u001b[0m\u001b[0m\n\u001b[1;32m    778\u001b[0m             \u001b[0mjob_idx\u001b[0m \u001b[0;34m=\u001b[0m \u001b[0mlen\u001b[0m\u001b[0;34m(\u001b[0m\u001b[0mself\u001b[0m\u001b[0;34m.\u001b[0m\u001b[0m_jobs\u001b[0m\u001b[0;34m)\u001b[0m\u001b[0;34m\u001b[0m\u001b[0;34m\u001b[0m\u001b[0m\n\u001b[0;32m--> 779\u001b[0;31m             \u001b[0mjob\u001b[0m \u001b[0;34m=\u001b[0m \u001b[0mself\u001b[0m\u001b[0;34m.\u001b[0m\u001b[0m_backend\u001b[0m\u001b[0;34m.\u001b[0m\u001b[0mapply_async\u001b[0m\u001b[0;34m(\u001b[0m\u001b[0mbatch\u001b[0m\u001b[0;34m,\u001b[0m \u001b[0mcallback\u001b[0m\u001b[0;34m=\u001b[0m\u001b[0mcb\u001b[0m\u001b[0;34m)\u001b[0m\u001b[0;34m\u001b[0m\u001b[0;34m\u001b[0m\u001b[0m\n\u001b[0m\u001b[1;32m    780\u001b[0m             \u001b[0;31m# A job can complete so quickly than its callback is\u001b[0m\u001b[0;34m\u001b[0m\u001b[0;34m\u001b[0m\u001b[0;34m\u001b[0m\u001b[0m\n\u001b[1;32m    781\u001b[0m             \u001b[0;31m# called before we get here, causing self._jobs to\u001b[0m\u001b[0;34m\u001b[0m\u001b[0;34m\u001b[0m\u001b[0;34m\u001b[0m\u001b[0m\n",
            "\u001b[0;32m/usr/local/lib/python3.7/dist-packages/joblib/_parallel_backends.py\u001b[0m in \u001b[0;36mapply_async\u001b[0;34m(self, func, callback)\u001b[0m\n\u001b[1;32m    206\u001b[0m     \u001b[0;32mdef\u001b[0m \u001b[0mapply_async\u001b[0m\u001b[0;34m(\u001b[0m\u001b[0mself\u001b[0m\u001b[0;34m,\u001b[0m \u001b[0mfunc\u001b[0m\u001b[0;34m,\u001b[0m \u001b[0mcallback\u001b[0m\u001b[0;34m=\u001b[0m\u001b[0;32mNone\u001b[0m\u001b[0;34m)\u001b[0m\u001b[0;34m:\u001b[0m\u001b[0;34m\u001b[0m\u001b[0;34m\u001b[0m\u001b[0m\n\u001b[1;32m    207\u001b[0m         \u001b[0;34m\"\"\"Schedule a func to be run\"\"\"\u001b[0m\u001b[0;34m\u001b[0m\u001b[0;34m\u001b[0m\u001b[0m\n\u001b[0;32m--> 208\u001b[0;31m         \u001b[0mresult\u001b[0m \u001b[0;34m=\u001b[0m \u001b[0mImmediateResult\u001b[0m\u001b[0;34m(\u001b[0m\u001b[0mfunc\u001b[0m\u001b[0;34m)\u001b[0m\u001b[0;34m\u001b[0m\u001b[0;34m\u001b[0m\u001b[0m\n\u001b[0m\u001b[1;32m    209\u001b[0m         \u001b[0;32mif\u001b[0m \u001b[0mcallback\u001b[0m\u001b[0;34m:\u001b[0m\u001b[0;34m\u001b[0m\u001b[0;34m\u001b[0m\u001b[0m\n\u001b[1;32m    210\u001b[0m             \u001b[0mcallback\u001b[0m\u001b[0;34m(\u001b[0m\u001b[0mresult\u001b[0m\u001b[0;34m)\u001b[0m\u001b[0;34m\u001b[0m\u001b[0;34m\u001b[0m\u001b[0m\n",
            "\u001b[0;32m/usr/local/lib/python3.7/dist-packages/joblib/_parallel_backends.py\u001b[0m in \u001b[0;36m__init__\u001b[0;34m(self, batch)\u001b[0m\n\u001b[1;32m    570\u001b[0m         \u001b[0;31m# Don't delay the application, to avoid keeping the input\u001b[0m\u001b[0;34m\u001b[0m\u001b[0;34m\u001b[0m\u001b[0;34m\u001b[0m\u001b[0m\n\u001b[1;32m    571\u001b[0m         \u001b[0;31m# arguments in memory\u001b[0m\u001b[0;34m\u001b[0m\u001b[0;34m\u001b[0m\u001b[0;34m\u001b[0m\u001b[0m\n\u001b[0;32m--> 572\u001b[0;31m         \u001b[0mself\u001b[0m\u001b[0;34m.\u001b[0m\u001b[0mresults\u001b[0m \u001b[0;34m=\u001b[0m \u001b[0mbatch\u001b[0m\u001b[0;34m(\u001b[0m\u001b[0;34m)\u001b[0m\u001b[0;34m\u001b[0m\u001b[0;34m\u001b[0m\u001b[0m\n\u001b[0m\u001b[1;32m    573\u001b[0m \u001b[0;34m\u001b[0m\u001b[0m\n\u001b[1;32m    574\u001b[0m     \u001b[0;32mdef\u001b[0m \u001b[0mget\u001b[0m\u001b[0;34m(\u001b[0m\u001b[0mself\u001b[0m\u001b[0;34m)\u001b[0m\u001b[0;34m:\u001b[0m\u001b[0;34m\u001b[0m\u001b[0;34m\u001b[0m\u001b[0m\n",
            "\u001b[0;32m/usr/local/lib/python3.7/dist-packages/joblib/parallel.py\u001b[0m in \u001b[0;36m__call__\u001b[0;34m(self)\u001b[0m\n\u001b[1;32m    261\u001b[0m         \u001b[0;32mwith\u001b[0m \u001b[0mparallel_backend\u001b[0m\u001b[0;34m(\u001b[0m\u001b[0mself\u001b[0m\u001b[0;34m.\u001b[0m\u001b[0m_backend\u001b[0m\u001b[0;34m,\u001b[0m \u001b[0mn_jobs\u001b[0m\u001b[0;34m=\u001b[0m\u001b[0mself\u001b[0m\u001b[0;34m.\u001b[0m\u001b[0m_n_jobs\u001b[0m\u001b[0;34m)\u001b[0m\u001b[0;34m:\u001b[0m\u001b[0;34m\u001b[0m\u001b[0;34m\u001b[0m\u001b[0m\n\u001b[1;32m    262\u001b[0m             return [func(*args, **kwargs)\n\u001b[0;32m--> 263\u001b[0;31m                     for func, args, kwargs in self.items]\n\u001b[0m\u001b[1;32m    264\u001b[0m \u001b[0;34m\u001b[0m\u001b[0m\n\u001b[1;32m    265\u001b[0m     \u001b[0;32mdef\u001b[0m \u001b[0m__reduce__\u001b[0m\u001b[0;34m(\u001b[0m\u001b[0mself\u001b[0m\u001b[0;34m)\u001b[0m\u001b[0;34m:\u001b[0m\u001b[0;34m\u001b[0m\u001b[0;34m\u001b[0m\u001b[0m\n",
            "\u001b[0;32m/usr/local/lib/python3.7/dist-packages/joblib/parallel.py\u001b[0m in \u001b[0;36m<listcomp>\u001b[0;34m(.0)\u001b[0m\n\u001b[1;32m    261\u001b[0m         \u001b[0;32mwith\u001b[0m \u001b[0mparallel_backend\u001b[0m\u001b[0;34m(\u001b[0m\u001b[0mself\u001b[0m\u001b[0;34m.\u001b[0m\u001b[0m_backend\u001b[0m\u001b[0;34m,\u001b[0m \u001b[0mn_jobs\u001b[0m\u001b[0;34m=\u001b[0m\u001b[0mself\u001b[0m\u001b[0;34m.\u001b[0m\u001b[0m_n_jobs\u001b[0m\u001b[0;34m)\u001b[0m\u001b[0;34m:\u001b[0m\u001b[0;34m\u001b[0m\u001b[0;34m\u001b[0m\u001b[0m\n\u001b[1;32m    262\u001b[0m             return [func(*args, **kwargs)\n\u001b[0;32m--> 263\u001b[0;31m                     for func, args, kwargs in self.items]\n\u001b[0m\u001b[1;32m    264\u001b[0m \u001b[0;34m\u001b[0m\u001b[0m\n\u001b[1;32m    265\u001b[0m     \u001b[0;32mdef\u001b[0m \u001b[0m__reduce__\u001b[0m\u001b[0;34m(\u001b[0m\u001b[0mself\u001b[0m\u001b[0;34m)\u001b[0m\u001b[0;34m:\u001b[0m\u001b[0;34m\u001b[0m\u001b[0;34m\u001b[0m\u001b[0m\n",
            "\u001b[0;32m/usr/local/lib/python3.7/dist-packages/sklearn/utils/fixes.py\u001b[0m in \u001b[0;36m__call__\u001b[0;34m(self, *args, **kwargs)\u001b[0m\n\u001b[1;32m    214\u001b[0m     \u001b[0;32mdef\u001b[0m \u001b[0m__call__\u001b[0m\u001b[0;34m(\u001b[0m\u001b[0mself\u001b[0m\u001b[0;34m,\u001b[0m \u001b[0;34m*\u001b[0m\u001b[0margs\u001b[0m\u001b[0;34m,\u001b[0m \u001b[0;34m**\u001b[0m\u001b[0mkwargs\u001b[0m\u001b[0;34m)\u001b[0m\u001b[0;34m:\u001b[0m\u001b[0;34m\u001b[0m\u001b[0;34m\u001b[0m\u001b[0m\n\u001b[1;32m    215\u001b[0m         \u001b[0;32mwith\u001b[0m \u001b[0mconfig_context\u001b[0m\u001b[0;34m(\u001b[0m\u001b[0;34m**\u001b[0m\u001b[0mself\u001b[0m\u001b[0;34m.\u001b[0m\u001b[0mconfig\u001b[0m\u001b[0;34m)\u001b[0m\u001b[0;34m:\u001b[0m\u001b[0;34m\u001b[0m\u001b[0;34m\u001b[0m\u001b[0m\n\u001b[0;32m--> 216\u001b[0;31m             \u001b[0;32mreturn\u001b[0m \u001b[0mself\u001b[0m\u001b[0;34m.\u001b[0m\u001b[0mfunction\u001b[0m\u001b[0;34m(\u001b[0m\u001b[0;34m*\u001b[0m\u001b[0margs\u001b[0m\u001b[0;34m,\u001b[0m \u001b[0;34m**\u001b[0m\u001b[0mkwargs\u001b[0m\u001b[0;34m)\u001b[0m\u001b[0;34m\u001b[0m\u001b[0;34m\u001b[0m\u001b[0m\n\u001b[0m\u001b[1;32m    217\u001b[0m \u001b[0;34m\u001b[0m\u001b[0m\n\u001b[1;32m    218\u001b[0m \u001b[0;34m\u001b[0m\u001b[0m\n",
            "\u001b[0;32m/usr/local/lib/python3.7/dist-packages/sklearn/model_selection/_validation.py\u001b[0m in \u001b[0;36m_fit_and_score\u001b[0;34m(estimator, X, y, scorer, train, test, verbose, parameters, fit_params, return_train_score, return_parameters, return_n_test_samples, return_times, return_estimator, split_progress, candidate_progress, error_score)\u001b[0m\n\u001b[1;32m    700\u001b[0m \u001b[0;34m\u001b[0m\u001b[0m\n\u001b[1;32m    701\u001b[0m         \u001b[0mfit_time\u001b[0m \u001b[0;34m=\u001b[0m \u001b[0mtime\u001b[0m\u001b[0;34m.\u001b[0m\u001b[0mtime\u001b[0m\u001b[0;34m(\u001b[0m\u001b[0;34m)\u001b[0m \u001b[0;34m-\u001b[0m \u001b[0mstart_time\u001b[0m\u001b[0;34m\u001b[0m\u001b[0;34m\u001b[0m\u001b[0m\n\u001b[0;32m--> 702\u001b[0;31m         \u001b[0mtest_scores\u001b[0m \u001b[0;34m=\u001b[0m \u001b[0m_score\u001b[0m\u001b[0;34m(\u001b[0m\u001b[0mestimator\u001b[0m\u001b[0;34m,\u001b[0m \u001b[0mX_test\u001b[0m\u001b[0;34m,\u001b[0m \u001b[0my_test\u001b[0m\u001b[0;34m,\u001b[0m \u001b[0mscorer\u001b[0m\u001b[0;34m,\u001b[0m \u001b[0merror_score\u001b[0m\u001b[0;34m)\u001b[0m\u001b[0;34m\u001b[0m\u001b[0;34m\u001b[0m\u001b[0m\n\u001b[0m\u001b[1;32m    703\u001b[0m         \u001b[0mscore_time\u001b[0m \u001b[0;34m=\u001b[0m \u001b[0mtime\u001b[0m\u001b[0;34m.\u001b[0m\u001b[0mtime\u001b[0m\u001b[0;34m(\u001b[0m\u001b[0;34m)\u001b[0m \u001b[0;34m-\u001b[0m \u001b[0mstart_time\u001b[0m \u001b[0;34m-\u001b[0m \u001b[0mfit_time\u001b[0m\u001b[0;34m\u001b[0m\u001b[0;34m\u001b[0m\u001b[0m\n\u001b[1;32m    704\u001b[0m         \u001b[0;32mif\u001b[0m \u001b[0mreturn_train_score\u001b[0m\u001b[0;34m:\u001b[0m\u001b[0;34m\u001b[0m\u001b[0;34m\u001b[0m\u001b[0m\n",
            "\u001b[0;32m/usr/local/lib/python3.7/dist-packages/sklearn/model_selection/_validation.py\u001b[0m in \u001b[0;36m_score\u001b[0;34m(estimator, X_test, y_test, scorer, error_score)\u001b[0m\n\u001b[1;32m    759\u001b[0m             \u001b[0mscores\u001b[0m \u001b[0;34m=\u001b[0m \u001b[0mscorer\u001b[0m\u001b[0;34m(\u001b[0m\u001b[0mestimator\u001b[0m\u001b[0;34m,\u001b[0m \u001b[0mX_test\u001b[0m\u001b[0;34m)\u001b[0m\u001b[0;34m\u001b[0m\u001b[0;34m\u001b[0m\u001b[0m\n\u001b[1;32m    760\u001b[0m         \u001b[0;32melse\u001b[0m\u001b[0;34m:\u001b[0m\u001b[0;34m\u001b[0m\u001b[0;34m\u001b[0m\u001b[0m\n\u001b[0;32m--> 761\u001b[0;31m             \u001b[0mscores\u001b[0m \u001b[0;34m=\u001b[0m \u001b[0mscorer\u001b[0m\u001b[0;34m(\u001b[0m\u001b[0mestimator\u001b[0m\u001b[0;34m,\u001b[0m \u001b[0mX_test\u001b[0m\u001b[0;34m,\u001b[0m \u001b[0my_test\u001b[0m\u001b[0;34m)\u001b[0m\u001b[0;34m\u001b[0m\u001b[0;34m\u001b[0m\u001b[0m\n\u001b[0m\u001b[1;32m    762\u001b[0m     \u001b[0;32mexcept\u001b[0m \u001b[0mException\u001b[0m\u001b[0;34m:\u001b[0m\u001b[0;34m\u001b[0m\u001b[0;34m\u001b[0m\u001b[0m\n\u001b[1;32m    763\u001b[0m         \u001b[0;32mif\u001b[0m \u001b[0merror_score\u001b[0m \u001b[0;34m==\u001b[0m \u001b[0;34m\"raise\"\u001b[0m\u001b[0;34m:\u001b[0m\u001b[0;34m\u001b[0m\u001b[0;34m\u001b[0m\u001b[0m\n",
            "\u001b[0;32m/usr/local/lib/python3.7/dist-packages/sklearn/metrics/_scorer.py\u001b[0m in \u001b[0;36m__call__\u001b[0;34m(self, estimator, X, y_true, sample_weight)\u001b[0m\n\u001b[1;32m    219\u001b[0m             \u001b[0mX\u001b[0m\u001b[0;34m,\u001b[0m\u001b[0;34m\u001b[0m\u001b[0;34m\u001b[0m\u001b[0m\n\u001b[1;32m    220\u001b[0m             \u001b[0my_true\u001b[0m\u001b[0;34m,\u001b[0m\u001b[0;34m\u001b[0m\u001b[0;34m\u001b[0m\u001b[0m\n\u001b[0;32m--> 221\u001b[0;31m             \u001b[0msample_weight\u001b[0m\u001b[0;34m=\u001b[0m\u001b[0msample_weight\u001b[0m\u001b[0;34m,\u001b[0m\u001b[0;34m\u001b[0m\u001b[0;34m\u001b[0m\u001b[0m\n\u001b[0m\u001b[1;32m    222\u001b[0m         )\n\u001b[1;32m    223\u001b[0m \u001b[0;34m\u001b[0m\u001b[0m\n",
            "\u001b[0;32m/usr/local/lib/python3.7/dist-packages/sklearn/metrics/_scorer.py\u001b[0m in \u001b[0;36m_score\u001b[0;34m(self, method_caller, estimator, X, y_true, sample_weight)\u001b[0m\n\u001b[1;32m    256\u001b[0m         \"\"\"\n\u001b[1;32m    257\u001b[0m \u001b[0;34m\u001b[0m\u001b[0m\n\u001b[0;32m--> 258\u001b[0;31m         \u001b[0my_pred\u001b[0m \u001b[0;34m=\u001b[0m \u001b[0mmethod_caller\u001b[0m\u001b[0;34m(\u001b[0m\u001b[0mestimator\u001b[0m\u001b[0;34m,\u001b[0m \u001b[0;34m\"predict\"\u001b[0m\u001b[0;34m,\u001b[0m \u001b[0mX\u001b[0m\u001b[0;34m)\u001b[0m\u001b[0;34m\u001b[0m\u001b[0;34m\u001b[0m\u001b[0m\n\u001b[0m\u001b[1;32m    259\u001b[0m         \u001b[0;32mif\u001b[0m \u001b[0msample_weight\u001b[0m \u001b[0;32mis\u001b[0m \u001b[0;32mnot\u001b[0m \u001b[0;32mNone\u001b[0m\u001b[0;34m:\u001b[0m\u001b[0;34m\u001b[0m\u001b[0;34m\u001b[0m\u001b[0m\n\u001b[1;32m    260\u001b[0m             return self._sign * self._score_func(\n",
            "\u001b[0;32m/usr/local/lib/python3.7/dist-packages/sklearn/metrics/_scorer.py\u001b[0m in \u001b[0;36m_cached_call\u001b[0;34m(cache, estimator, method, *args, **kwargs)\u001b[0m\n\u001b[1;32m     66\u001b[0m     \u001b[0;34m\"\"\"Call estimator with method and args and kwargs.\"\"\"\u001b[0m\u001b[0;34m\u001b[0m\u001b[0;34m\u001b[0m\u001b[0m\n\u001b[1;32m     67\u001b[0m     \u001b[0;32mif\u001b[0m \u001b[0mcache\u001b[0m \u001b[0;32mis\u001b[0m \u001b[0;32mNone\u001b[0m\u001b[0;34m:\u001b[0m\u001b[0;34m\u001b[0m\u001b[0;34m\u001b[0m\u001b[0m\n\u001b[0;32m---> 68\u001b[0;31m         \u001b[0;32mreturn\u001b[0m \u001b[0mgetattr\u001b[0m\u001b[0;34m(\u001b[0m\u001b[0mestimator\u001b[0m\u001b[0;34m,\u001b[0m \u001b[0mmethod\u001b[0m\u001b[0;34m)\u001b[0m\u001b[0;34m(\u001b[0m\u001b[0;34m*\u001b[0m\u001b[0margs\u001b[0m\u001b[0;34m,\u001b[0m \u001b[0;34m**\u001b[0m\u001b[0mkwargs\u001b[0m\u001b[0;34m)\u001b[0m\u001b[0;34m\u001b[0m\u001b[0;34m\u001b[0m\u001b[0m\n\u001b[0m\u001b[1;32m     69\u001b[0m \u001b[0;34m\u001b[0m\u001b[0m\n\u001b[1;32m     70\u001b[0m     \u001b[0;32mtry\u001b[0m\u001b[0;34m:\u001b[0m\u001b[0;34m\u001b[0m\u001b[0;34m\u001b[0m\u001b[0m\n",
            "\u001b[0;32m/usr/local/lib/python3.7/dist-packages/sklearn/utils/metaestimators.py\u001b[0m in \u001b[0;36m<lambda>\u001b[0;34m(*args, **kwargs)\u001b[0m\n\u001b[1;32m    111\u001b[0m \u001b[0;34m\u001b[0m\u001b[0m\n\u001b[1;32m    112\u001b[0m             \u001b[0;31m# lambda, but not partial, allows help() to work with update_wrapper\u001b[0m\u001b[0;34m\u001b[0m\u001b[0;34m\u001b[0m\u001b[0;34m\u001b[0m\u001b[0m\n\u001b[0;32m--> 113\u001b[0;31m             \u001b[0mout\u001b[0m \u001b[0;34m=\u001b[0m \u001b[0;32mlambda\u001b[0m \u001b[0;34m*\u001b[0m\u001b[0margs\u001b[0m\u001b[0;34m,\u001b[0m \u001b[0;34m**\u001b[0m\u001b[0mkwargs\u001b[0m\u001b[0;34m:\u001b[0m \u001b[0mself\u001b[0m\u001b[0;34m.\u001b[0m\u001b[0mfn\u001b[0m\u001b[0;34m(\u001b[0m\u001b[0mobj\u001b[0m\u001b[0;34m,\u001b[0m \u001b[0;34m*\u001b[0m\u001b[0margs\u001b[0m\u001b[0;34m,\u001b[0m \u001b[0;34m**\u001b[0m\u001b[0mkwargs\u001b[0m\u001b[0;34m)\u001b[0m  \u001b[0;31m# noqa\u001b[0m\u001b[0;34m\u001b[0m\u001b[0;34m\u001b[0m\u001b[0m\n\u001b[0m\u001b[1;32m    114\u001b[0m         \u001b[0;32melse\u001b[0m\u001b[0;34m:\u001b[0m\u001b[0;34m\u001b[0m\u001b[0;34m\u001b[0m\u001b[0m\n\u001b[1;32m    115\u001b[0m \u001b[0;34m\u001b[0m\u001b[0m\n",
            "\u001b[0;32m/usr/local/lib/python3.7/dist-packages/sklearn/pipeline.py\u001b[0m in \u001b[0;36mpredict\u001b[0;34m(self, X, **predict_params)\u001b[0m\n\u001b[1;32m    468\u001b[0m         \u001b[0;32mfor\u001b[0m \u001b[0m_\u001b[0m\u001b[0;34m,\u001b[0m \u001b[0mname\u001b[0m\u001b[0;34m,\u001b[0m \u001b[0mtransform\u001b[0m \u001b[0;32min\u001b[0m \u001b[0mself\u001b[0m\u001b[0;34m.\u001b[0m\u001b[0m_iter\u001b[0m\u001b[0;34m(\u001b[0m\u001b[0mwith_final\u001b[0m\u001b[0;34m=\u001b[0m\u001b[0;32mFalse\u001b[0m\u001b[0;34m)\u001b[0m\u001b[0;34m:\u001b[0m\u001b[0;34m\u001b[0m\u001b[0;34m\u001b[0m\u001b[0m\n\u001b[1;32m    469\u001b[0m             \u001b[0mXt\u001b[0m \u001b[0;34m=\u001b[0m \u001b[0mtransform\u001b[0m\u001b[0;34m.\u001b[0m\u001b[0mtransform\u001b[0m\u001b[0;34m(\u001b[0m\u001b[0mXt\u001b[0m\u001b[0;34m)\u001b[0m\u001b[0;34m\u001b[0m\u001b[0;34m\u001b[0m\u001b[0m\n\u001b[0;32m--> 470\u001b[0;31m         \u001b[0;32mreturn\u001b[0m \u001b[0mself\u001b[0m\u001b[0;34m.\u001b[0m\u001b[0msteps\u001b[0m\u001b[0;34m[\u001b[0m\u001b[0;34m-\u001b[0m\u001b[0;36m1\u001b[0m\u001b[0;34m]\u001b[0m\u001b[0;34m[\u001b[0m\u001b[0;36m1\u001b[0m\u001b[0;34m]\u001b[0m\u001b[0;34m.\u001b[0m\u001b[0mpredict\u001b[0m\u001b[0;34m(\u001b[0m\u001b[0mXt\u001b[0m\u001b[0;34m,\u001b[0m \u001b[0;34m**\u001b[0m\u001b[0mpredict_params\u001b[0m\u001b[0;34m)\u001b[0m\u001b[0;34m\u001b[0m\u001b[0;34m\u001b[0m\u001b[0m\n\u001b[0m\u001b[1;32m    471\u001b[0m \u001b[0;34m\u001b[0m\u001b[0m\n\u001b[1;32m    472\u001b[0m     \u001b[0;34m@\u001b[0m\u001b[0mavailable_if\u001b[0m\u001b[0;34m(\u001b[0m\u001b[0m_final_estimator_has\u001b[0m\u001b[0;34m(\u001b[0m\u001b[0;34m\"fit_predict\"\u001b[0m\u001b[0;34m)\u001b[0m\u001b[0;34m)\u001b[0m\u001b[0;34m\u001b[0m\u001b[0;34m\u001b[0m\u001b[0m\n",
            "\u001b[0;32m/usr/local/lib/python3.7/dist-packages/sklearn/multiclass.py\u001b[0m in \u001b[0;36mpredict\u001b[0;34m(self, X)\u001b[0m\n\u001b[1;32m    441\u001b[0m             \u001b[0margmaxima\u001b[0m \u001b[0;34m=\u001b[0m \u001b[0mnp\u001b[0m\u001b[0;34m.\u001b[0m\u001b[0mzeros\u001b[0m\u001b[0;34m(\u001b[0m\u001b[0mn_samples\u001b[0m\u001b[0;34m,\u001b[0m \u001b[0mdtype\u001b[0m\u001b[0;34m=\u001b[0m\u001b[0mint\u001b[0m\u001b[0;34m)\u001b[0m\u001b[0;34m\u001b[0m\u001b[0;34m\u001b[0m\u001b[0m\n\u001b[1;32m    442\u001b[0m             \u001b[0;32mfor\u001b[0m \u001b[0mi\u001b[0m\u001b[0;34m,\u001b[0m \u001b[0me\u001b[0m \u001b[0;32min\u001b[0m \u001b[0menumerate\u001b[0m\u001b[0;34m(\u001b[0m\u001b[0mself\u001b[0m\u001b[0;34m.\u001b[0m\u001b[0mestimators_\u001b[0m\u001b[0;34m)\u001b[0m\u001b[0;34m:\u001b[0m\u001b[0;34m\u001b[0m\u001b[0;34m\u001b[0m\u001b[0m\n\u001b[0;32m--> 443\u001b[0;31m                 \u001b[0mpred\u001b[0m \u001b[0;34m=\u001b[0m \u001b[0m_predict_binary\u001b[0m\u001b[0;34m(\u001b[0m\u001b[0me\u001b[0m\u001b[0;34m,\u001b[0m \u001b[0mX\u001b[0m\u001b[0;34m)\u001b[0m\u001b[0;34m\u001b[0m\u001b[0;34m\u001b[0m\u001b[0m\n\u001b[0m\u001b[1;32m    444\u001b[0m                 \u001b[0mnp\u001b[0m\u001b[0;34m.\u001b[0m\u001b[0mmaximum\u001b[0m\u001b[0;34m(\u001b[0m\u001b[0mmaxima\u001b[0m\u001b[0;34m,\u001b[0m \u001b[0mpred\u001b[0m\u001b[0;34m,\u001b[0m \u001b[0mout\u001b[0m\u001b[0;34m=\u001b[0m\u001b[0mmaxima\u001b[0m\u001b[0;34m)\u001b[0m\u001b[0;34m\u001b[0m\u001b[0;34m\u001b[0m\u001b[0m\n\u001b[1;32m    445\u001b[0m                 \u001b[0margmaxima\u001b[0m\u001b[0;34m[\u001b[0m\u001b[0mmaxima\u001b[0m \u001b[0;34m==\u001b[0m \u001b[0mpred\u001b[0m\u001b[0;34m]\u001b[0m \u001b[0;34m=\u001b[0m \u001b[0mi\u001b[0m\u001b[0;34m\u001b[0m\u001b[0;34m\u001b[0m\u001b[0m\n",
            "\u001b[0;32m/usr/local/lib/python3.7/dist-packages/sklearn/multiclass.py\u001b[0m in \u001b[0;36m_predict_binary\u001b[0;34m(estimator, X)\u001b[0m\n\u001b[1;32m    101\u001b[0m     \u001b[0;32mexcept\u001b[0m \u001b[0;34m(\u001b[0m\u001b[0mAttributeError\u001b[0m\u001b[0;34m,\u001b[0m \u001b[0mNotImplementedError\u001b[0m\u001b[0;34m)\u001b[0m\u001b[0;34m:\u001b[0m\u001b[0;34m\u001b[0m\u001b[0;34m\u001b[0m\u001b[0m\n\u001b[1;32m    102\u001b[0m         \u001b[0;31m# probabilities of the positive class\u001b[0m\u001b[0;34m\u001b[0m\u001b[0;34m\u001b[0m\u001b[0;34m\u001b[0m\u001b[0m\n\u001b[0;32m--> 103\u001b[0;31m         \u001b[0mscore\u001b[0m \u001b[0;34m=\u001b[0m \u001b[0mestimator\u001b[0m\u001b[0;34m.\u001b[0m\u001b[0mpredict_proba\u001b[0m\u001b[0;34m(\u001b[0m\u001b[0mX\u001b[0m\u001b[0;34m)\u001b[0m\u001b[0;34m[\u001b[0m\u001b[0;34m:\u001b[0m\u001b[0;34m,\u001b[0m \u001b[0;36m1\u001b[0m\u001b[0;34m]\u001b[0m\u001b[0;34m\u001b[0m\u001b[0;34m\u001b[0m\u001b[0m\n\u001b[0m\u001b[1;32m    104\u001b[0m     \u001b[0;32mreturn\u001b[0m \u001b[0mscore\u001b[0m\u001b[0;34m\u001b[0m\u001b[0;34m\u001b[0m\u001b[0m\n\u001b[1;32m    105\u001b[0m \u001b[0;34m\u001b[0m\u001b[0m\n",
            "\u001b[0;32m/usr/local/lib/python3.7/dist-packages/sklearn/ensemble/_forest.py\u001b[0m in \u001b[0;36mpredict_proba\u001b[0;34m(self, X)\u001b[0m\n\u001b[1;32m    865\u001b[0m         \u001b[0;34m)\u001b[0m\u001b[0;34m(\u001b[0m\u001b[0;34m\u001b[0m\u001b[0;34m\u001b[0m\u001b[0m\n\u001b[1;32m    866\u001b[0m             \u001b[0mdelayed\u001b[0m\u001b[0;34m(\u001b[0m\u001b[0m_accumulate_prediction\u001b[0m\u001b[0;34m)\u001b[0m\u001b[0;34m(\u001b[0m\u001b[0me\u001b[0m\u001b[0;34m.\u001b[0m\u001b[0mpredict_proba\u001b[0m\u001b[0;34m,\u001b[0m \u001b[0mX\u001b[0m\u001b[0;34m,\u001b[0m \u001b[0mall_proba\u001b[0m\u001b[0;34m,\u001b[0m \u001b[0mlock\u001b[0m\u001b[0;34m)\u001b[0m\u001b[0;34m\u001b[0m\u001b[0;34m\u001b[0m\u001b[0m\n\u001b[0;32m--> 867\u001b[0;31m             \u001b[0;32mfor\u001b[0m \u001b[0me\u001b[0m \u001b[0;32min\u001b[0m \u001b[0mself\u001b[0m\u001b[0;34m.\u001b[0m\u001b[0mestimators_\u001b[0m\u001b[0;34m\u001b[0m\u001b[0;34m\u001b[0m\u001b[0m\n\u001b[0m\u001b[1;32m    868\u001b[0m         )\n\u001b[1;32m    869\u001b[0m \u001b[0;34m\u001b[0m\u001b[0m\n",
            "\u001b[0;32m/usr/local/lib/python3.7/dist-packages/joblib/parallel.py\u001b[0m in \u001b[0;36m__call__\u001b[0;34m(self, iterable)\u001b[0m\n\u001b[1;32m   1044\u001b[0m                 \u001b[0mself\u001b[0m\u001b[0;34m.\u001b[0m\u001b[0m_iterating\u001b[0m \u001b[0;34m=\u001b[0m \u001b[0mself\u001b[0m\u001b[0;34m.\u001b[0m\u001b[0m_original_iterator\u001b[0m \u001b[0;32mis\u001b[0m \u001b[0;32mnot\u001b[0m \u001b[0;32mNone\u001b[0m\u001b[0;34m\u001b[0m\u001b[0;34m\u001b[0m\u001b[0m\n\u001b[1;32m   1045\u001b[0m \u001b[0;34m\u001b[0m\u001b[0m\n\u001b[0;32m-> 1046\u001b[0;31m             \u001b[0;32mwhile\u001b[0m \u001b[0mself\u001b[0m\u001b[0;34m.\u001b[0m\u001b[0mdispatch_one_batch\u001b[0m\u001b[0;34m(\u001b[0m\u001b[0miterator\u001b[0m\u001b[0;34m)\u001b[0m\u001b[0;34m:\u001b[0m\u001b[0;34m\u001b[0m\u001b[0;34m\u001b[0m\u001b[0m\n\u001b[0m\u001b[1;32m   1047\u001b[0m                 \u001b[0;32mpass\u001b[0m\u001b[0;34m\u001b[0m\u001b[0;34m\u001b[0m\u001b[0m\n\u001b[1;32m   1048\u001b[0m \u001b[0;34m\u001b[0m\u001b[0m\n",
            "\u001b[0;32m/usr/local/lib/python3.7/dist-packages/joblib/parallel.py\u001b[0m in \u001b[0;36mdispatch_one_batch\u001b[0;34m(self, iterator)\u001b[0m\n\u001b[1;32m    859\u001b[0m                 \u001b[0;32mreturn\u001b[0m \u001b[0;32mFalse\u001b[0m\u001b[0;34m\u001b[0m\u001b[0;34m\u001b[0m\u001b[0m\n\u001b[1;32m    860\u001b[0m             \u001b[0;32melse\u001b[0m\u001b[0;34m:\u001b[0m\u001b[0;34m\u001b[0m\u001b[0;34m\u001b[0m\u001b[0m\n\u001b[0;32m--> 861\u001b[0;31m                 \u001b[0mself\u001b[0m\u001b[0;34m.\u001b[0m\u001b[0m_dispatch\u001b[0m\u001b[0;34m(\u001b[0m\u001b[0mtasks\u001b[0m\u001b[0;34m)\u001b[0m\u001b[0;34m\u001b[0m\u001b[0;34m\u001b[0m\u001b[0m\n\u001b[0m\u001b[1;32m    862\u001b[0m                 \u001b[0;32mreturn\u001b[0m \u001b[0;32mTrue\u001b[0m\u001b[0;34m\u001b[0m\u001b[0;34m\u001b[0m\u001b[0m\n\u001b[1;32m    863\u001b[0m \u001b[0;34m\u001b[0m\u001b[0m\n",
            "\u001b[0;32m/usr/local/lib/python3.7/dist-packages/joblib/parallel.py\u001b[0m in \u001b[0;36m_dispatch\u001b[0;34m(self, batch)\u001b[0m\n\u001b[1;32m    777\u001b[0m         \u001b[0;32mwith\u001b[0m \u001b[0mself\u001b[0m\u001b[0;34m.\u001b[0m\u001b[0m_lock\u001b[0m\u001b[0;34m:\u001b[0m\u001b[0;34m\u001b[0m\u001b[0;34m\u001b[0m\u001b[0m\n\u001b[1;32m    778\u001b[0m             \u001b[0mjob_idx\u001b[0m \u001b[0;34m=\u001b[0m \u001b[0mlen\u001b[0m\u001b[0;34m(\u001b[0m\u001b[0mself\u001b[0m\u001b[0;34m.\u001b[0m\u001b[0m_jobs\u001b[0m\u001b[0;34m)\u001b[0m\u001b[0;34m\u001b[0m\u001b[0;34m\u001b[0m\u001b[0m\n\u001b[0;32m--> 779\u001b[0;31m             \u001b[0mjob\u001b[0m \u001b[0;34m=\u001b[0m \u001b[0mself\u001b[0m\u001b[0;34m.\u001b[0m\u001b[0m_backend\u001b[0m\u001b[0;34m.\u001b[0m\u001b[0mapply_async\u001b[0m\u001b[0;34m(\u001b[0m\u001b[0mbatch\u001b[0m\u001b[0;34m,\u001b[0m \u001b[0mcallback\u001b[0m\u001b[0;34m=\u001b[0m\u001b[0mcb\u001b[0m\u001b[0;34m)\u001b[0m\u001b[0;34m\u001b[0m\u001b[0;34m\u001b[0m\u001b[0m\n\u001b[0m\u001b[1;32m    780\u001b[0m             \u001b[0;31m# A job can complete so quickly than its callback is\u001b[0m\u001b[0;34m\u001b[0m\u001b[0;34m\u001b[0m\u001b[0;34m\u001b[0m\u001b[0m\n\u001b[1;32m    781\u001b[0m             \u001b[0;31m# called before we get here, causing self._jobs to\u001b[0m\u001b[0;34m\u001b[0m\u001b[0;34m\u001b[0m\u001b[0;34m\u001b[0m\u001b[0m\n",
            "\u001b[0;32m/usr/local/lib/python3.7/dist-packages/joblib/_parallel_backends.py\u001b[0m in \u001b[0;36mapply_async\u001b[0;34m(self, func, callback)\u001b[0m\n\u001b[1;32m    206\u001b[0m     \u001b[0;32mdef\u001b[0m \u001b[0mapply_async\u001b[0m\u001b[0;34m(\u001b[0m\u001b[0mself\u001b[0m\u001b[0;34m,\u001b[0m \u001b[0mfunc\u001b[0m\u001b[0;34m,\u001b[0m \u001b[0mcallback\u001b[0m\u001b[0;34m=\u001b[0m\u001b[0;32mNone\u001b[0m\u001b[0;34m)\u001b[0m\u001b[0;34m:\u001b[0m\u001b[0;34m\u001b[0m\u001b[0;34m\u001b[0m\u001b[0m\n\u001b[1;32m    207\u001b[0m         \u001b[0;34m\"\"\"Schedule a func to be run\"\"\"\u001b[0m\u001b[0;34m\u001b[0m\u001b[0;34m\u001b[0m\u001b[0m\n\u001b[0;32m--> 208\u001b[0;31m         \u001b[0mresult\u001b[0m \u001b[0;34m=\u001b[0m \u001b[0mImmediateResult\u001b[0m\u001b[0;34m(\u001b[0m\u001b[0mfunc\u001b[0m\u001b[0;34m)\u001b[0m\u001b[0;34m\u001b[0m\u001b[0;34m\u001b[0m\u001b[0m\n\u001b[0m\u001b[1;32m    209\u001b[0m         \u001b[0;32mif\u001b[0m \u001b[0mcallback\u001b[0m\u001b[0;34m:\u001b[0m\u001b[0;34m\u001b[0m\u001b[0;34m\u001b[0m\u001b[0m\n\u001b[1;32m    210\u001b[0m             \u001b[0mcallback\u001b[0m\u001b[0;34m(\u001b[0m\u001b[0mresult\u001b[0m\u001b[0;34m)\u001b[0m\u001b[0;34m\u001b[0m\u001b[0;34m\u001b[0m\u001b[0m\n",
            "\u001b[0;32m/usr/local/lib/python3.7/dist-packages/joblib/_parallel_backends.py\u001b[0m in \u001b[0;36m__init__\u001b[0;34m(self, batch)\u001b[0m\n\u001b[1;32m    570\u001b[0m         \u001b[0;31m# Don't delay the application, to avoid keeping the input\u001b[0m\u001b[0;34m\u001b[0m\u001b[0;34m\u001b[0m\u001b[0;34m\u001b[0m\u001b[0m\n\u001b[1;32m    571\u001b[0m         \u001b[0;31m# arguments in memory\u001b[0m\u001b[0;34m\u001b[0m\u001b[0;34m\u001b[0m\u001b[0;34m\u001b[0m\u001b[0m\n\u001b[0;32m--> 572\u001b[0;31m         \u001b[0mself\u001b[0m\u001b[0;34m.\u001b[0m\u001b[0mresults\u001b[0m \u001b[0;34m=\u001b[0m \u001b[0mbatch\u001b[0m\u001b[0;34m(\u001b[0m\u001b[0;34m)\u001b[0m\u001b[0;34m\u001b[0m\u001b[0;34m\u001b[0m\u001b[0m\n\u001b[0m\u001b[1;32m    573\u001b[0m \u001b[0;34m\u001b[0m\u001b[0m\n\u001b[1;32m    574\u001b[0m     \u001b[0;32mdef\u001b[0m \u001b[0mget\u001b[0m\u001b[0;34m(\u001b[0m\u001b[0mself\u001b[0m\u001b[0;34m)\u001b[0m\u001b[0;34m:\u001b[0m\u001b[0;34m\u001b[0m\u001b[0;34m\u001b[0m\u001b[0m\n",
            "\u001b[0;32m/usr/local/lib/python3.7/dist-packages/joblib/parallel.py\u001b[0m in \u001b[0;36m__call__\u001b[0;34m(self)\u001b[0m\n\u001b[1;32m    261\u001b[0m         \u001b[0;32mwith\u001b[0m \u001b[0mparallel_backend\u001b[0m\u001b[0;34m(\u001b[0m\u001b[0mself\u001b[0m\u001b[0;34m.\u001b[0m\u001b[0m_backend\u001b[0m\u001b[0;34m,\u001b[0m \u001b[0mn_jobs\u001b[0m\u001b[0;34m=\u001b[0m\u001b[0mself\u001b[0m\u001b[0;34m.\u001b[0m\u001b[0m_n_jobs\u001b[0m\u001b[0;34m)\u001b[0m\u001b[0;34m:\u001b[0m\u001b[0;34m\u001b[0m\u001b[0;34m\u001b[0m\u001b[0m\n\u001b[1;32m    262\u001b[0m             return [func(*args, **kwargs)\n\u001b[0;32m--> 263\u001b[0;31m                     for func, args, kwargs in self.items]\n\u001b[0m\u001b[1;32m    264\u001b[0m \u001b[0;34m\u001b[0m\u001b[0m\n\u001b[1;32m    265\u001b[0m     \u001b[0;32mdef\u001b[0m \u001b[0m__reduce__\u001b[0m\u001b[0;34m(\u001b[0m\u001b[0mself\u001b[0m\u001b[0;34m)\u001b[0m\u001b[0;34m:\u001b[0m\u001b[0;34m\u001b[0m\u001b[0;34m\u001b[0m\u001b[0m\n",
            "\u001b[0;32m/usr/local/lib/python3.7/dist-packages/joblib/parallel.py\u001b[0m in \u001b[0;36m<listcomp>\u001b[0;34m(.0)\u001b[0m\n\u001b[1;32m    261\u001b[0m         \u001b[0;32mwith\u001b[0m \u001b[0mparallel_backend\u001b[0m\u001b[0;34m(\u001b[0m\u001b[0mself\u001b[0m\u001b[0;34m.\u001b[0m\u001b[0m_backend\u001b[0m\u001b[0;34m,\u001b[0m \u001b[0mn_jobs\u001b[0m\u001b[0;34m=\u001b[0m\u001b[0mself\u001b[0m\u001b[0;34m.\u001b[0m\u001b[0m_n_jobs\u001b[0m\u001b[0;34m)\u001b[0m\u001b[0;34m:\u001b[0m\u001b[0;34m\u001b[0m\u001b[0;34m\u001b[0m\u001b[0m\n\u001b[1;32m    262\u001b[0m             return [func(*args, **kwargs)\n\u001b[0;32m--> 263\u001b[0;31m                     for func, args, kwargs in self.items]\n\u001b[0m\u001b[1;32m    264\u001b[0m \u001b[0;34m\u001b[0m\u001b[0m\n\u001b[1;32m    265\u001b[0m     \u001b[0;32mdef\u001b[0m \u001b[0m__reduce__\u001b[0m\u001b[0;34m(\u001b[0m\u001b[0mself\u001b[0m\u001b[0;34m)\u001b[0m\u001b[0;34m:\u001b[0m\u001b[0;34m\u001b[0m\u001b[0;34m\u001b[0m\u001b[0m\n",
            "\u001b[0;32m/usr/local/lib/python3.7/dist-packages/sklearn/utils/fixes.py\u001b[0m in \u001b[0;36m__call__\u001b[0;34m(self, *args, **kwargs)\u001b[0m\n\u001b[1;32m    214\u001b[0m     \u001b[0;32mdef\u001b[0m \u001b[0m__call__\u001b[0m\u001b[0;34m(\u001b[0m\u001b[0mself\u001b[0m\u001b[0;34m,\u001b[0m \u001b[0;34m*\u001b[0m\u001b[0margs\u001b[0m\u001b[0;34m,\u001b[0m \u001b[0;34m**\u001b[0m\u001b[0mkwargs\u001b[0m\u001b[0;34m)\u001b[0m\u001b[0;34m:\u001b[0m\u001b[0;34m\u001b[0m\u001b[0;34m\u001b[0m\u001b[0m\n\u001b[1;32m    215\u001b[0m         \u001b[0;32mwith\u001b[0m \u001b[0mconfig_context\u001b[0m\u001b[0;34m(\u001b[0m\u001b[0;34m**\u001b[0m\u001b[0mself\u001b[0m\u001b[0;34m.\u001b[0m\u001b[0mconfig\u001b[0m\u001b[0;34m)\u001b[0m\u001b[0;34m:\u001b[0m\u001b[0;34m\u001b[0m\u001b[0;34m\u001b[0m\u001b[0m\n\u001b[0;32m--> 216\u001b[0;31m             \u001b[0;32mreturn\u001b[0m \u001b[0mself\u001b[0m\u001b[0;34m.\u001b[0m\u001b[0mfunction\u001b[0m\u001b[0;34m(\u001b[0m\u001b[0;34m*\u001b[0m\u001b[0margs\u001b[0m\u001b[0;34m,\u001b[0m \u001b[0;34m**\u001b[0m\u001b[0mkwargs\u001b[0m\u001b[0;34m)\u001b[0m\u001b[0;34m\u001b[0m\u001b[0;34m\u001b[0m\u001b[0m\n\u001b[0m\u001b[1;32m    217\u001b[0m \u001b[0;34m\u001b[0m\u001b[0m\n\u001b[1;32m    218\u001b[0m \u001b[0;34m\u001b[0m\u001b[0m\n",
            "\u001b[0;32m/usr/local/lib/python3.7/dist-packages/sklearn/ensemble/_forest.py\u001b[0m in \u001b[0;36m_accumulate_prediction\u001b[0;34m(predict, X, out, lock)\u001b[0m\n\u001b[1;32m    638\u001b[0m     \u001b[0mcomplains\u001b[0m \u001b[0mthat\u001b[0m \u001b[0mit\u001b[0m \u001b[0mcannot\u001b[0m \u001b[0mpickle\u001b[0m \u001b[0mit\u001b[0m \u001b[0mwhen\u001b[0m \u001b[0mplaced\u001b[0m \u001b[0mthere\u001b[0m\u001b[0;34m.\u001b[0m\u001b[0;34m\u001b[0m\u001b[0;34m\u001b[0m\u001b[0m\n\u001b[1;32m    639\u001b[0m     \"\"\"\n\u001b[0;32m--> 640\u001b[0;31m     \u001b[0mprediction\u001b[0m \u001b[0;34m=\u001b[0m \u001b[0mpredict\u001b[0m\u001b[0;34m(\u001b[0m\u001b[0mX\u001b[0m\u001b[0;34m,\u001b[0m \u001b[0mcheck_input\u001b[0m\u001b[0;34m=\u001b[0m\u001b[0;32mFalse\u001b[0m\u001b[0;34m)\u001b[0m\u001b[0;34m\u001b[0m\u001b[0;34m\u001b[0m\u001b[0m\n\u001b[0m\u001b[1;32m    641\u001b[0m     \u001b[0;32mwith\u001b[0m \u001b[0mlock\u001b[0m\u001b[0;34m:\u001b[0m\u001b[0;34m\u001b[0m\u001b[0;34m\u001b[0m\u001b[0m\n\u001b[1;32m    642\u001b[0m         \u001b[0;32mif\u001b[0m \u001b[0mlen\u001b[0m\u001b[0;34m(\u001b[0m\u001b[0mout\u001b[0m\u001b[0;34m)\u001b[0m \u001b[0;34m==\u001b[0m \u001b[0;36m1\u001b[0m\u001b[0;34m:\u001b[0m\u001b[0;34m\u001b[0m\u001b[0;34m\u001b[0m\u001b[0m\n",
            "\u001b[0;32m/usr/local/lib/python3.7/dist-packages/sklearn/tree/_classes.py\u001b[0m in \u001b[0;36mpredict_proba\u001b[0;34m(self, X, check_input)\u001b[0m\n\u001b[1;32m    970\u001b[0m         \u001b[0mcheck_is_fitted\u001b[0m\u001b[0;34m(\u001b[0m\u001b[0mself\u001b[0m\u001b[0;34m)\u001b[0m\u001b[0;34m\u001b[0m\u001b[0;34m\u001b[0m\u001b[0m\n\u001b[1;32m    971\u001b[0m         \u001b[0mX\u001b[0m \u001b[0;34m=\u001b[0m \u001b[0mself\u001b[0m\u001b[0;34m.\u001b[0m\u001b[0m_validate_X_predict\u001b[0m\u001b[0;34m(\u001b[0m\u001b[0mX\u001b[0m\u001b[0;34m,\u001b[0m \u001b[0mcheck_input\u001b[0m\u001b[0;34m)\u001b[0m\u001b[0;34m\u001b[0m\u001b[0;34m\u001b[0m\u001b[0m\n\u001b[0;32m--> 972\u001b[0;31m         \u001b[0mproba\u001b[0m \u001b[0;34m=\u001b[0m \u001b[0mself\u001b[0m\u001b[0;34m.\u001b[0m\u001b[0mtree_\u001b[0m\u001b[0;34m.\u001b[0m\u001b[0mpredict\u001b[0m\u001b[0;34m(\u001b[0m\u001b[0mX\u001b[0m\u001b[0;34m)\u001b[0m\u001b[0;34m\u001b[0m\u001b[0;34m\u001b[0m\u001b[0m\n\u001b[0m\u001b[1;32m    973\u001b[0m \u001b[0;34m\u001b[0m\u001b[0m\n\u001b[1;32m    974\u001b[0m         \u001b[0;32mif\u001b[0m \u001b[0mself\u001b[0m\u001b[0;34m.\u001b[0m\u001b[0mn_outputs_\u001b[0m \u001b[0;34m==\u001b[0m \u001b[0;36m1\u001b[0m\u001b[0;34m:\u001b[0m\u001b[0;34m\u001b[0m\u001b[0;34m\u001b[0m\u001b[0m\n",
            "\u001b[0;31mKeyboardInterrupt\u001b[0m: "
          ]
        }
      ],
      "source": [
        "baseline1 = model(X_train,y_train.values[:,0],X_test,y_test.values[:,0],pipe,params,cv_type=\"random\")"
      ],
      "id": "5ee7e8b1"
    },
    {
      "cell_type": "markdown",
      "metadata": {
        "id": "_ghHRW9wENzF"
      },
      "source": [
        "# Error Analysis\n",
        "\n"
      ],
      "id": "_ghHRW9wENzF"
    },
    {
      "cell_type": "code",
      "execution_count": null,
      "metadata": {
        "id": "R5ARKq5gsX9A"
      },
      "outputs": [],
      "source": [
        "baseline_model_f1_score = f1_score(y_test.values[:,0],rf.predict(X_test),average='weighted')"
      ],
      "id": "R5ARKq5gsX9A"
    },
    {
      "cell_type": "code",
      "execution_count": null,
      "metadata": {
        "id": "SAAqHevenRqk"
      },
      "outputs": [],
      "source": [
        "# rf = baseline1['model']\n",
        "test_set = X_test.copy()"
      ],
      "id": "SAAqHevenRqk"
    },
    {
      "cell_type": "code",
      "execution_count": null,
      "metadata": {
        "id": "C8vLc3c7kD1R"
      },
      "outputs": [],
      "source": [
        "test_set['target_1'] = y_test.values[:,0]\n",
        "test_set['target_1_pred'] = rf.predict(X_test)\n",
        "test_set['is_error'] = np.where(test_set['target_1']==test_set['target_1_pred'],0,1)"
      ],
      "id": "C8vLc3c7kD1R"
    },
    {
      "cell_type": "code",
      "execution_count": null,
      "metadata": {
        "colab": {
          "base_uri": "https://localhost:8080/",
          "height": 488
        },
        "id": "C5bh21DTkgnF",
        "outputId": "4ec50ad4-7744-421b-eb26-02629ec5abfc"
      },
      "outputs": [
        {
          "output_type": "execute_result",
          "data": {
            "text/plain": [
              "      symptom_3  symptom_1 paternal_gene  blood_test_result  patient_age  \\\n",
              "4473        1.0        1.0            No           abnormal          8.0   \n",
              "4733        0.0        0.0            No       inconclusive          9.0   \n",
              "6291        1.0        1.0           Yes  slightly abnormal          2.0   \n",
              "6029        0.0        1.0           Yes             normal         13.0   \n",
              "2540        1.0        1.0           Yes       inconclusive          6.0   \n",
              "...         ...        ...           ...                ...          ...   \n",
              "1046        1.0        1.0            No  slightly abnormal         13.0   \n",
              "823         1.0        1.0            No       inconclusive         10.0   \n",
              "4678        1.0        0.0            No             normal         14.0   \n",
              "6104        1.0        0.0           Yes           abnormal          5.0   \n",
              "5776        1.0        0.0            No             normal         10.0   \n",
              "\n",
              "     inherited_from_father  blood_cell_count  symptom_4  symptom_5  \\\n",
              "4473                    No          4.950107        1.0        0.0   \n",
              "4733                    No          4.384045        1.0        0.0   \n",
              "6291                    No          4.535623        1.0        1.0   \n",
              "6029                    No          4.901324        1.0        1.0   \n",
              "2540                    No          4.962777        1.0        0.0   \n",
              "...                    ...               ...        ...        ...   \n",
              "1046                   Yes          4.632641        1.0        0.0   \n",
              "823                    Yes          4.845721        1.0        1.0   \n",
              "4678                   Yes          5.173994        1.0        0.0   \n",
              "6104                   Yes          4.998214        1.0        0.0   \n",
              "5776                    No          5.167775        0.0        1.0   \n",
              "\n",
              "     maternal_gene  num_symptoms genes_in_mother_side  FE_1  avg_parents_age  \\\n",
              "4473            No           3.0                  Yes  3.00             41.5   \n",
              "4733            No           1.0                   No  0.20             50.0   \n",
              "6291           Yes           5.0                   No  1.25             38.0   \n",
              "6029           Yes           4.0                  Yes  2.00             37.5   \n",
              "2540           Yes           3.0                  Yes  3.00             42.5   \n",
              "...            ...           ...                  ...   ...              ...   \n",
              "1046           Yes           4.0                   No  0.80             34.5   \n",
              "823             No           5.0                  Yes  1.25             39.0   \n",
              "4678           Yes           3.0                  Yes  0.75             45.5   \n",
              "6104           Yes           2.0                   No  0.50             32.5   \n",
              "5776            No           2.0                  Yes  0.40             50.5   \n",
              "\n",
              "      white_blood_cell_count  symptom_2  target_1  target_1_pred  is_error  \n",
              "4473                3.189314        0.0         0              0         0  \n",
              "4733                6.469576        0.0         2              2         0  \n",
              "6291                3.000000        1.0         0              1         1  \n",
              "6029               10.980827        1.0         2              2         0  \n",
              "2540                6.048378        0.0         2              0         1  \n",
              "...                      ...        ...       ...            ...       ...  \n",
              "1046                6.142274        1.0         1              2         1  \n",
              "823                 8.804378        1.0         0              1         1  \n",
              "4678                8.461528        1.0         2              0         1  \n",
              "6104                3.993526        0.0         0              0         0  \n",
              "5776               10.251017        0.0         0              0         0  \n",
              "\n",
              "[1274 rows x 19 columns]"
            ],
            "text/html": [
              "\n",
              "  <div id=\"df-0fbf58ce-fc60-4348-9b27-c2f322d91b92\">\n",
              "    <div class=\"colab-df-container\">\n",
              "      <div>\n",
              "<style scoped>\n",
              "    .dataframe tbody tr th:only-of-type {\n",
              "        vertical-align: middle;\n",
              "    }\n",
              "\n",
              "    .dataframe tbody tr th {\n",
              "        vertical-align: top;\n",
              "    }\n",
              "\n",
              "    .dataframe thead th {\n",
              "        text-align: right;\n",
              "    }\n",
              "</style>\n",
              "<table border=\"1\" class=\"dataframe\">\n",
              "  <thead>\n",
              "    <tr style=\"text-align: right;\">\n",
              "      <th></th>\n",
              "      <th>symptom_3</th>\n",
              "      <th>symptom_1</th>\n",
              "      <th>paternal_gene</th>\n",
              "      <th>blood_test_result</th>\n",
              "      <th>patient_age</th>\n",
              "      <th>inherited_from_father</th>\n",
              "      <th>blood_cell_count</th>\n",
              "      <th>symptom_4</th>\n",
              "      <th>symptom_5</th>\n",
              "      <th>maternal_gene</th>\n",
              "      <th>num_symptoms</th>\n",
              "      <th>genes_in_mother_side</th>\n",
              "      <th>FE_1</th>\n",
              "      <th>avg_parents_age</th>\n",
              "      <th>white_blood_cell_count</th>\n",
              "      <th>symptom_2</th>\n",
              "      <th>target_1</th>\n",
              "      <th>target_1_pred</th>\n",
              "      <th>is_error</th>\n",
              "    </tr>\n",
              "  </thead>\n",
              "  <tbody>\n",
              "    <tr>\n",
              "      <th>4473</th>\n",
              "      <td>1.0</td>\n",
              "      <td>1.0</td>\n",
              "      <td>No</td>\n",
              "      <td>abnormal</td>\n",
              "      <td>8.0</td>\n",
              "      <td>No</td>\n",
              "      <td>4.950107</td>\n",
              "      <td>1.0</td>\n",
              "      <td>0.0</td>\n",
              "      <td>No</td>\n",
              "      <td>3.0</td>\n",
              "      <td>Yes</td>\n",
              "      <td>3.00</td>\n",
              "      <td>41.5</td>\n",
              "      <td>3.189314</td>\n",
              "      <td>0.0</td>\n",
              "      <td>0</td>\n",
              "      <td>0</td>\n",
              "      <td>0</td>\n",
              "    </tr>\n",
              "    <tr>\n",
              "      <th>4733</th>\n",
              "      <td>0.0</td>\n",
              "      <td>0.0</td>\n",
              "      <td>No</td>\n",
              "      <td>inconclusive</td>\n",
              "      <td>9.0</td>\n",
              "      <td>No</td>\n",
              "      <td>4.384045</td>\n",
              "      <td>1.0</td>\n",
              "      <td>0.0</td>\n",
              "      <td>No</td>\n",
              "      <td>1.0</td>\n",
              "      <td>No</td>\n",
              "      <td>0.20</td>\n",
              "      <td>50.0</td>\n",
              "      <td>6.469576</td>\n",
              "      <td>0.0</td>\n",
              "      <td>2</td>\n",
              "      <td>2</td>\n",
              "      <td>0</td>\n",
              "    </tr>\n",
              "    <tr>\n",
              "      <th>6291</th>\n",
              "      <td>1.0</td>\n",
              "      <td>1.0</td>\n",
              "      <td>Yes</td>\n",
              "      <td>slightly abnormal</td>\n",
              "      <td>2.0</td>\n",
              "      <td>No</td>\n",
              "      <td>4.535623</td>\n",
              "      <td>1.0</td>\n",
              "      <td>1.0</td>\n",
              "      <td>Yes</td>\n",
              "      <td>5.0</td>\n",
              "      <td>No</td>\n",
              "      <td>1.25</td>\n",
              "      <td>38.0</td>\n",
              "      <td>3.000000</td>\n",
              "      <td>1.0</td>\n",
              "      <td>0</td>\n",
              "      <td>1</td>\n",
              "      <td>1</td>\n",
              "    </tr>\n",
              "    <tr>\n",
              "      <th>6029</th>\n",
              "      <td>0.0</td>\n",
              "      <td>1.0</td>\n",
              "      <td>Yes</td>\n",
              "      <td>normal</td>\n",
              "      <td>13.0</td>\n",
              "      <td>No</td>\n",
              "      <td>4.901324</td>\n",
              "      <td>1.0</td>\n",
              "      <td>1.0</td>\n",
              "      <td>Yes</td>\n",
              "      <td>4.0</td>\n",
              "      <td>Yes</td>\n",
              "      <td>2.00</td>\n",
              "      <td>37.5</td>\n",
              "      <td>10.980827</td>\n",
              "      <td>1.0</td>\n",
              "      <td>2</td>\n",
              "      <td>2</td>\n",
              "      <td>0</td>\n",
              "    </tr>\n",
              "    <tr>\n",
              "      <th>2540</th>\n",
              "      <td>1.0</td>\n",
              "      <td>1.0</td>\n",
              "      <td>Yes</td>\n",
              "      <td>inconclusive</td>\n",
              "      <td>6.0</td>\n",
              "      <td>No</td>\n",
              "      <td>4.962777</td>\n",
              "      <td>1.0</td>\n",
              "      <td>0.0</td>\n",
              "      <td>Yes</td>\n",
              "      <td>3.0</td>\n",
              "      <td>Yes</td>\n",
              "      <td>3.00</td>\n",
              "      <td>42.5</td>\n",
              "      <td>6.048378</td>\n",
              "      <td>0.0</td>\n",
              "      <td>2</td>\n",
              "      <td>0</td>\n",
              "      <td>1</td>\n",
              "    </tr>\n",
              "    <tr>\n",
              "      <th>...</th>\n",
              "      <td>...</td>\n",
              "      <td>...</td>\n",
              "      <td>...</td>\n",
              "      <td>...</td>\n",
              "      <td>...</td>\n",
              "      <td>...</td>\n",
              "      <td>...</td>\n",
              "      <td>...</td>\n",
              "      <td>...</td>\n",
              "      <td>...</td>\n",
              "      <td>...</td>\n",
              "      <td>...</td>\n",
              "      <td>...</td>\n",
              "      <td>...</td>\n",
              "      <td>...</td>\n",
              "      <td>...</td>\n",
              "      <td>...</td>\n",
              "      <td>...</td>\n",
              "      <td>...</td>\n",
              "    </tr>\n",
              "    <tr>\n",
              "      <th>1046</th>\n",
              "      <td>1.0</td>\n",
              "      <td>1.0</td>\n",
              "      <td>No</td>\n",
              "      <td>slightly abnormal</td>\n",
              "      <td>13.0</td>\n",
              "      <td>Yes</td>\n",
              "      <td>4.632641</td>\n",
              "      <td>1.0</td>\n",
              "      <td>0.0</td>\n",
              "      <td>Yes</td>\n",
              "      <td>4.0</td>\n",
              "      <td>No</td>\n",
              "      <td>0.80</td>\n",
              "      <td>34.5</td>\n",
              "      <td>6.142274</td>\n",
              "      <td>1.0</td>\n",
              "      <td>1</td>\n",
              "      <td>2</td>\n",
              "      <td>1</td>\n",
              "    </tr>\n",
              "    <tr>\n",
              "      <th>823</th>\n",
              "      <td>1.0</td>\n",
              "      <td>1.0</td>\n",
              "      <td>No</td>\n",
              "      <td>inconclusive</td>\n",
              "      <td>10.0</td>\n",
              "      <td>Yes</td>\n",
              "      <td>4.845721</td>\n",
              "      <td>1.0</td>\n",
              "      <td>1.0</td>\n",
              "      <td>No</td>\n",
              "      <td>5.0</td>\n",
              "      <td>Yes</td>\n",
              "      <td>1.25</td>\n",
              "      <td>39.0</td>\n",
              "      <td>8.804378</td>\n",
              "      <td>1.0</td>\n",
              "      <td>0</td>\n",
              "      <td>1</td>\n",
              "      <td>1</td>\n",
              "    </tr>\n",
              "    <tr>\n",
              "      <th>4678</th>\n",
              "      <td>1.0</td>\n",
              "      <td>0.0</td>\n",
              "      <td>No</td>\n",
              "      <td>normal</td>\n",
              "      <td>14.0</td>\n",
              "      <td>Yes</td>\n",
              "      <td>5.173994</td>\n",
              "      <td>1.0</td>\n",
              "      <td>0.0</td>\n",
              "      <td>Yes</td>\n",
              "      <td>3.0</td>\n",
              "      <td>Yes</td>\n",
              "      <td>0.75</td>\n",
              "      <td>45.5</td>\n",
              "      <td>8.461528</td>\n",
              "      <td>1.0</td>\n",
              "      <td>2</td>\n",
              "      <td>0</td>\n",
              "      <td>1</td>\n",
              "    </tr>\n",
              "    <tr>\n",
              "      <th>6104</th>\n",
              "      <td>1.0</td>\n",
              "      <td>0.0</td>\n",
              "      <td>Yes</td>\n",
              "      <td>abnormal</td>\n",
              "      <td>5.0</td>\n",
              "      <td>Yes</td>\n",
              "      <td>4.998214</td>\n",
              "      <td>1.0</td>\n",
              "      <td>0.0</td>\n",
              "      <td>Yes</td>\n",
              "      <td>2.0</td>\n",
              "      <td>No</td>\n",
              "      <td>0.50</td>\n",
              "      <td>32.5</td>\n",
              "      <td>3.993526</td>\n",
              "      <td>0.0</td>\n",
              "      <td>0</td>\n",
              "      <td>0</td>\n",
              "      <td>0</td>\n",
              "    </tr>\n",
              "    <tr>\n",
              "      <th>5776</th>\n",
              "      <td>1.0</td>\n",
              "      <td>0.0</td>\n",
              "      <td>No</td>\n",
              "      <td>normal</td>\n",
              "      <td>10.0</td>\n",
              "      <td>No</td>\n",
              "      <td>5.167775</td>\n",
              "      <td>0.0</td>\n",
              "      <td>1.0</td>\n",
              "      <td>No</td>\n",
              "      <td>2.0</td>\n",
              "      <td>Yes</td>\n",
              "      <td>0.40</td>\n",
              "      <td>50.5</td>\n",
              "      <td>10.251017</td>\n",
              "      <td>0.0</td>\n",
              "      <td>0</td>\n",
              "      <td>0</td>\n",
              "      <td>0</td>\n",
              "    </tr>\n",
              "  </tbody>\n",
              "</table>\n",
              "<p>1274 rows × 19 columns</p>\n",
              "</div>\n",
              "      <button class=\"colab-df-convert\" onclick=\"convertToInteractive('df-0fbf58ce-fc60-4348-9b27-c2f322d91b92')\"\n",
              "              title=\"Convert this dataframe to an interactive table.\"\n",
              "              style=\"display:none;\">\n",
              "        \n",
              "  <svg xmlns=\"http://www.w3.org/2000/svg\" height=\"24px\"viewBox=\"0 0 24 24\"\n",
              "       width=\"24px\">\n",
              "    <path d=\"M0 0h24v24H0V0z\" fill=\"none\"/>\n",
              "    <path d=\"M18.56 5.44l.94 2.06.94-2.06 2.06-.94-2.06-.94-.94-2.06-.94 2.06-2.06.94zm-11 1L8.5 8.5l.94-2.06 2.06-.94-2.06-.94L8.5 2.5l-.94 2.06-2.06.94zm10 10l.94 2.06.94-2.06 2.06-.94-2.06-.94-.94-2.06-.94 2.06-2.06.94z\"/><path d=\"M17.41 7.96l-1.37-1.37c-.4-.4-.92-.59-1.43-.59-.52 0-1.04.2-1.43.59L10.3 9.45l-7.72 7.72c-.78.78-.78 2.05 0 2.83L4 21.41c.39.39.9.59 1.41.59.51 0 1.02-.2 1.41-.59l7.78-7.78 2.81-2.81c.8-.78.8-2.07 0-2.86zM5.41 20L4 18.59l7.72-7.72 1.47 1.35L5.41 20z\"/>\n",
              "  </svg>\n",
              "      </button>\n",
              "      \n",
              "  <style>\n",
              "    .colab-df-container {\n",
              "      display:flex;\n",
              "      flex-wrap:wrap;\n",
              "      gap: 12px;\n",
              "    }\n",
              "\n",
              "    .colab-df-convert {\n",
              "      background-color: #E8F0FE;\n",
              "      border: none;\n",
              "      border-radius: 50%;\n",
              "      cursor: pointer;\n",
              "      display: none;\n",
              "      fill: #1967D2;\n",
              "      height: 32px;\n",
              "      padding: 0 0 0 0;\n",
              "      width: 32px;\n",
              "    }\n",
              "\n",
              "    .colab-df-convert:hover {\n",
              "      background-color: #E2EBFA;\n",
              "      box-shadow: 0px 1px 2px rgba(60, 64, 67, 0.3), 0px 1px 3px 1px rgba(60, 64, 67, 0.15);\n",
              "      fill: #174EA6;\n",
              "    }\n",
              "\n",
              "    [theme=dark] .colab-df-convert {\n",
              "      background-color: #3B4455;\n",
              "      fill: #D2E3FC;\n",
              "    }\n",
              "\n",
              "    [theme=dark] .colab-df-convert:hover {\n",
              "      background-color: #434B5C;\n",
              "      box-shadow: 0px 1px 3px 1px rgba(0, 0, 0, 0.15);\n",
              "      filter: drop-shadow(0px 1px 2px rgba(0, 0, 0, 0.3));\n",
              "      fill: #FFFFFF;\n",
              "    }\n",
              "  </style>\n",
              "\n",
              "      <script>\n",
              "        const buttonEl =\n",
              "          document.querySelector('#df-0fbf58ce-fc60-4348-9b27-c2f322d91b92 button.colab-df-convert');\n",
              "        buttonEl.style.display =\n",
              "          google.colab.kernel.accessAllowed ? 'block' : 'none';\n",
              "\n",
              "        async function convertToInteractive(key) {\n",
              "          const element = document.querySelector('#df-0fbf58ce-fc60-4348-9b27-c2f322d91b92');\n",
              "          const dataTable =\n",
              "            await google.colab.kernel.invokeFunction('convertToInteractive',\n",
              "                                                     [key], {});\n",
              "          if (!dataTable) return;\n",
              "\n",
              "          const docLinkHtml = 'Like what you see? Visit the ' +\n",
              "            '<a target=\"_blank\" href=https://colab.research.google.com/notebooks/data_table.ipynb>data table notebook</a>'\n",
              "            + ' to learn more about interactive tables.';\n",
              "          element.innerHTML = '';\n",
              "          dataTable['output_type'] = 'display_data';\n",
              "          await google.colab.output.renderOutput(dataTable, element);\n",
              "          const docLink = document.createElement('div');\n",
              "          docLink.innerHTML = docLinkHtml;\n",
              "          element.appendChild(docLink);\n",
              "        }\n",
              "      </script>\n",
              "    </div>\n",
              "  </div>\n",
              "  "
            ]
          },
          "metadata": {},
          "execution_count": 39
        }
      ],
      "source": [
        "test_set"
      ],
      "id": "C5bh21DTkgnF"
    },
    {
      "cell_type": "code",
      "execution_count": null,
      "metadata": {
        "id": "VnLecTc80LEk"
      },
      "outputs": [],
      "source": [
        "wrong_predictions = test_set.loc[test_set['is_error']==1]\n",
        "correct_predictions = test_set.loc[test_set['is_error']==0]"
      ],
      "id": "VnLecTc80LEk"
    },
    {
      "cell_type": "code",
      "execution_count": null,
      "metadata": {
        "colab": {
          "base_uri": "https://localhost:8080/",
          "height": 488
        },
        "id": "qr42hkT50o12",
        "outputId": "88b56c36-a511-452e-f9a1-1cde51808c13"
      },
      "outputs": [
        {
          "output_type": "execute_result",
          "data": {
            "text/plain": [
              "      symptom_3  symptom_1 paternal_gene  blood_test_result  patient_age  \\\n",
              "2540        1.0        1.0           Yes       inconclusive          6.0   \n",
              "3767        1.0        1.0           Yes           abnormal         10.0   \n",
              "1318        1.0        1.0           Yes  slightly abnormal          7.0   \n",
              "3382        0.0        1.0            No             normal          7.0   \n",
              "4617        1.0        0.0            No           abnormal          1.0   \n",
              "...         ...        ...           ...                ...          ...   \n",
              "5023        0.0        1.0            No  slightly abnormal          4.0   \n",
              "3206        0.0        1.0            No  slightly abnormal          3.0   \n",
              "5335        1.0        1.0           Yes       inconclusive         14.0   \n",
              "2081        0.0        0.0            No       inconclusive          6.0   \n",
              "4678        1.0        0.0            No             normal         14.0   \n",
              "\n",
              "     inherited_from_father  blood_cell_count  symptom_4  symptom_5  \\\n",
              "2540                    No          4.962777        1.0        0.0   \n",
              "3767                   Yes          4.835300        1.0        0.0   \n",
              "1318                   Yes          5.000454        0.0        1.0   \n",
              "3382                    No          4.888130        0.0        0.0   \n",
              "4617                   Yes          5.017190        1.0        1.0   \n",
              "...                    ...               ...        ...        ...   \n",
              "5023                    No          4.968730        0.0        1.0   \n",
              "3206                    No          4.817959        0.0        0.0   \n",
              "5335                    No          5.099380        1.0        0.0   \n",
              "2081                    No          4.879793        1.0        0.0   \n",
              "4678                   Yes          5.173994        1.0        0.0   \n",
              "\n",
              "     maternal_gene  num_symptoms genes_in_mother_side  FE_1  avg_parents_age  \\\n",
              "2540           Yes           3.0                  Yes  3.00             42.5   \n",
              "3767           Yes           3.0                  Yes  1.50             43.5   \n",
              "1318            No           3.0                  Yes  0.75             36.0   \n",
              "3382            No           2.0                  Yes  0.50             30.5   \n",
              "4617           Yes           3.0                   No  1.50             42.5   \n",
              "...            ...           ...                  ...   ...              ...   \n",
              "5023           Yes           3.0                  Yes  0.60             32.0   \n",
              "3206           Yes           2.0                  Yes  0.50             52.0   \n",
              "5335           Yes           3.0                  Yes  1.50             50.0   \n",
              "2081           Yes           2.0                   No  0.50             45.5   \n",
              "4678           Yes           3.0                  Yes  0.75             45.5   \n",
              "\n",
              "      white_blood_cell_count  symptom_2  target_1  target_1_pred  is_error  \n",
              "2540                6.048378        0.0         2              0         1  \n",
              "3767               12.000000        0.0         2              0         1  \n",
              "1318                4.087516        0.0         2              0         1  \n",
              "3382                8.979276        1.0         2              0         1  \n",
              "4617                3.000000        0.0         2              0         1  \n",
              "...                      ...        ...       ...            ...       ...  \n",
              "5023               10.049939        1.0         2              0         1  \n",
              "3206                6.655620        1.0         2              0         1  \n",
              "5335                7.992025        0.0         2              0         1  \n",
              "2081                6.213779        1.0         2              0         1  \n",
              "4678                8.461528        1.0         2              0         1  \n",
              "\n",
              "[203 rows x 19 columns]"
            ],
            "text/html": [
              "\n",
              "  <div id=\"df-6d8accec-faf5-481d-9f04-a59bddc3b2f1\">\n",
              "    <div class=\"colab-df-container\">\n",
              "      <div>\n",
              "<style scoped>\n",
              "    .dataframe tbody tr th:only-of-type {\n",
              "        vertical-align: middle;\n",
              "    }\n",
              "\n",
              "    .dataframe tbody tr th {\n",
              "        vertical-align: top;\n",
              "    }\n",
              "\n",
              "    .dataframe thead th {\n",
              "        text-align: right;\n",
              "    }\n",
              "</style>\n",
              "<table border=\"1\" class=\"dataframe\">\n",
              "  <thead>\n",
              "    <tr style=\"text-align: right;\">\n",
              "      <th></th>\n",
              "      <th>symptom_3</th>\n",
              "      <th>symptom_1</th>\n",
              "      <th>paternal_gene</th>\n",
              "      <th>blood_test_result</th>\n",
              "      <th>patient_age</th>\n",
              "      <th>inherited_from_father</th>\n",
              "      <th>blood_cell_count</th>\n",
              "      <th>symptom_4</th>\n",
              "      <th>symptom_5</th>\n",
              "      <th>maternal_gene</th>\n",
              "      <th>num_symptoms</th>\n",
              "      <th>genes_in_mother_side</th>\n",
              "      <th>FE_1</th>\n",
              "      <th>avg_parents_age</th>\n",
              "      <th>white_blood_cell_count</th>\n",
              "      <th>symptom_2</th>\n",
              "      <th>target_1</th>\n",
              "      <th>target_1_pred</th>\n",
              "      <th>is_error</th>\n",
              "    </tr>\n",
              "  </thead>\n",
              "  <tbody>\n",
              "    <tr>\n",
              "      <th>2540</th>\n",
              "      <td>1.0</td>\n",
              "      <td>1.0</td>\n",
              "      <td>Yes</td>\n",
              "      <td>inconclusive</td>\n",
              "      <td>6.0</td>\n",
              "      <td>No</td>\n",
              "      <td>4.962777</td>\n",
              "      <td>1.0</td>\n",
              "      <td>0.0</td>\n",
              "      <td>Yes</td>\n",
              "      <td>3.0</td>\n",
              "      <td>Yes</td>\n",
              "      <td>3.00</td>\n",
              "      <td>42.5</td>\n",
              "      <td>6.048378</td>\n",
              "      <td>0.0</td>\n",
              "      <td>2</td>\n",
              "      <td>0</td>\n",
              "      <td>1</td>\n",
              "    </tr>\n",
              "    <tr>\n",
              "      <th>3767</th>\n",
              "      <td>1.0</td>\n",
              "      <td>1.0</td>\n",
              "      <td>Yes</td>\n",
              "      <td>abnormal</td>\n",
              "      <td>10.0</td>\n",
              "      <td>Yes</td>\n",
              "      <td>4.835300</td>\n",
              "      <td>1.0</td>\n",
              "      <td>0.0</td>\n",
              "      <td>Yes</td>\n",
              "      <td>3.0</td>\n",
              "      <td>Yes</td>\n",
              "      <td>1.50</td>\n",
              "      <td>43.5</td>\n",
              "      <td>12.000000</td>\n",
              "      <td>0.0</td>\n",
              "      <td>2</td>\n",
              "      <td>0</td>\n",
              "      <td>1</td>\n",
              "    </tr>\n",
              "    <tr>\n",
              "      <th>1318</th>\n",
              "      <td>1.0</td>\n",
              "      <td>1.0</td>\n",
              "      <td>Yes</td>\n",
              "      <td>slightly abnormal</td>\n",
              "      <td>7.0</td>\n",
              "      <td>Yes</td>\n",
              "      <td>5.000454</td>\n",
              "      <td>0.0</td>\n",
              "      <td>1.0</td>\n",
              "      <td>No</td>\n",
              "      <td>3.0</td>\n",
              "      <td>Yes</td>\n",
              "      <td>0.75</td>\n",
              "      <td>36.0</td>\n",
              "      <td>4.087516</td>\n",
              "      <td>0.0</td>\n",
              "      <td>2</td>\n",
              "      <td>0</td>\n",
              "      <td>1</td>\n",
              "    </tr>\n",
              "    <tr>\n",
              "      <th>3382</th>\n",
              "      <td>0.0</td>\n",
              "      <td>1.0</td>\n",
              "      <td>No</td>\n",
              "      <td>normal</td>\n",
              "      <td>7.0</td>\n",
              "      <td>No</td>\n",
              "      <td>4.888130</td>\n",
              "      <td>0.0</td>\n",
              "      <td>0.0</td>\n",
              "      <td>No</td>\n",
              "      <td>2.0</td>\n",
              "      <td>Yes</td>\n",
              "      <td>0.50</td>\n",
              "      <td>30.5</td>\n",
              "      <td>8.979276</td>\n",
              "      <td>1.0</td>\n",
              "      <td>2</td>\n",
              "      <td>0</td>\n",
              "      <td>1</td>\n",
              "    </tr>\n",
              "    <tr>\n",
              "      <th>4617</th>\n",
              "      <td>1.0</td>\n",
              "      <td>0.0</td>\n",
              "      <td>No</td>\n",
              "      <td>abnormal</td>\n",
              "      <td>1.0</td>\n",
              "      <td>Yes</td>\n",
              "      <td>5.017190</td>\n",
              "      <td>1.0</td>\n",
              "      <td>1.0</td>\n",
              "      <td>Yes</td>\n",
              "      <td>3.0</td>\n",
              "      <td>No</td>\n",
              "      <td>1.50</td>\n",
              "      <td>42.5</td>\n",
              "      <td>3.000000</td>\n",
              "      <td>0.0</td>\n",
              "      <td>2</td>\n",
              "      <td>0</td>\n",
              "      <td>1</td>\n",
              "    </tr>\n",
              "    <tr>\n",
              "      <th>...</th>\n",
              "      <td>...</td>\n",
              "      <td>...</td>\n",
              "      <td>...</td>\n",
              "      <td>...</td>\n",
              "      <td>...</td>\n",
              "      <td>...</td>\n",
              "      <td>...</td>\n",
              "      <td>...</td>\n",
              "      <td>...</td>\n",
              "      <td>...</td>\n",
              "      <td>...</td>\n",
              "      <td>...</td>\n",
              "      <td>...</td>\n",
              "      <td>...</td>\n",
              "      <td>...</td>\n",
              "      <td>...</td>\n",
              "      <td>...</td>\n",
              "      <td>...</td>\n",
              "      <td>...</td>\n",
              "    </tr>\n",
              "    <tr>\n",
              "      <th>5023</th>\n",
              "      <td>0.0</td>\n",
              "      <td>1.0</td>\n",
              "      <td>No</td>\n",
              "      <td>slightly abnormal</td>\n",
              "      <td>4.0</td>\n",
              "      <td>No</td>\n",
              "      <td>4.968730</td>\n",
              "      <td>0.0</td>\n",
              "      <td>1.0</td>\n",
              "      <td>Yes</td>\n",
              "      <td>3.0</td>\n",
              "      <td>Yes</td>\n",
              "      <td>0.60</td>\n",
              "      <td>32.0</td>\n",
              "      <td>10.049939</td>\n",
              "      <td>1.0</td>\n",
              "      <td>2</td>\n",
              "      <td>0</td>\n",
              "      <td>1</td>\n",
              "    </tr>\n",
              "    <tr>\n",
              "      <th>3206</th>\n",
              "      <td>0.0</td>\n",
              "      <td>1.0</td>\n",
              "      <td>No</td>\n",
              "      <td>slightly abnormal</td>\n",
              "      <td>3.0</td>\n",
              "      <td>No</td>\n",
              "      <td>4.817959</td>\n",
              "      <td>0.0</td>\n",
              "      <td>0.0</td>\n",
              "      <td>Yes</td>\n",
              "      <td>2.0</td>\n",
              "      <td>Yes</td>\n",
              "      <td>0.50</td>\n",
              "      <td>52.0</td>\n",
              "      <td>6.655620</td>\n",
              "      <td>1.0</td>\n",
              "      <td>2</td>\n",
              "      <td>0</td>\n",
              "      <td>1</td>\n",
              "    </tr>\n",
              "    <tr>\n",
              "      <th>5335</th>\n",
              "      <td>1.0</td>\n",
              "      <td>1.0</td>\n",
              "      <td>Yes</td>\n",
              "      <td>inconclusive</td>\n",
              "      <td>14.0</td>\n",
              "      <td>No</td>\n",
              "      <td>5.099380</td>\n",
              "      <td>1.0</td>\n",
              "      <td>0.0</td>\n",
              "      <td>Yes</td>\n",
              "      <td>3.0</td>\n",
              "      <td>Yes</td>\n",
              "      <td>1.50</td>\n",
              "      <td>50.0</td>\n",
              "      <td>7.992025</td>\n",
              "      <td>0.0</td>\n",
              "      <td>2</td>\n",
              "      <td>0</td>\n",
              "      <td>1</td>\n",
              "    </tr>\n",
              "    <tr>\n",
              "      <th>2081</th>\n",
              "      <td>0.0</td>\n",
              "      <td>0.0</td>\n",
              "      <td>No</td>\n",
              "      <td>inconclusive</td>\n",
              "      <td>6.0</td>\n",
              "      <td>No</td>\n",
              "      <td>4.879793</td>\n",
              "      <td>1.0</td>\n",
              "      <td>0.0</td>\n",
              "      <td>Yes</td>\n",
              "      <td>2.0</td>\n",
              "      <td>No</td>\n",
              "      <td>0.50</td>\n",
              "      <td>45.5</td>\n",
              "      <td>6.213779</td>\n",
              "      <td>1.0</td>\n",
              "      <td>2</td>\n",
              "      <td>0</td>\n",
              "      <td>1</td>\n",
              "    </tr>\n",
              "    <tr>\n",
              "      <th>4678</th>\n",
              "      <td>1.0</td>\n",
              "      <td>0.0</td>\n",
              "      <td>No</td>\n",
              "      <td>normal</td>\n",
              "      <td>14.0</td>\n",
              "      <td>Yes</td>\n",
              "      <td>5.173994</td>\n",
              "      <td>1.0</td>\n",
              "      <td>0.0</td>\n",
              "      <td>Yes</td>\n",
              "      <td>3.0</td>\n",
              "      <td>Yes</td>\n",
              "      <td>0.75</td>\n",
              "      <td>45.5</td>\n",
              "      <td>8.461528</td>\n",
              "      <td>1.0</td>\n",
              "      <td>2</td>\n",
              "      <td>0</td>\n",
              "      <td>1</td>\n",
              "    </tr>\n",
              "  </tbody>\n",
              "</table>\n",
              "<p>203 rows × 19 columns</p>\n",
              "</div>\n",
              "      <button class=\"colab-df-convert\" onclick=\"convertToInteractive('df-6d8accec-faf5-481d-9f04-a59bddc3b2f1')\"\n",
              "              title=\"Convert this dataframe to an interactive table.\"\n",
              "              style=\"display:none;\">\n",
              "        \n",
              "  <svg xmlns=\"http://www.w3.org/2000/svg\" height=\"24px\"viewBox=\"0 0 24 24\"\n",
              "       width=\"24px\">\n",
              "    <path d=\"M0 0h24v24H0V0z\" fill=\"none\"/>\n",
              "    <path d=\"M18.56 5.44l.94 2.06.94-2.06 2.06-.94-2.06-.94-.94-2.06-.94 2.06-2.06.94zm-11 1L8.5 8.5l.94-2.06 2.06-.94-2.06-.94L8.5 2.5l-.94 2.06-2.06.94zm10 10l.94 2.06.94-2.06 2.06-.94-2.06-.94-.94-2.06-.94 2.06-2.06.94z\"/><path d=\"M17.41 7.96l-1.37-1.37c-.4-.4-.92-.59-1.43-.59-.52 0-1.04.2-1.43.59L10.3 9.45l-7.72 7.72c-.78.78-.78 2.05 0 2.83L4 21.41c.39.39.9.59 1.41.59.51 0 1.02-.2 1.41-.59l7.78-7.78 2.81-2.81c.8-.78.8-2.07 0-2.86zM5.41 20L4 18.59l7.72-7.72 1.47 1.35L5.41 20z\"/>\n",
              "  </svg>\n",
              "      </button>\n",
              "      \n",
              "  <style>\n",
              "    .colab-df-container {\n",
              "      display:flex;\n",
              "      flex-wrap:wrap;\n",
              "      gap: 12px;\n",
              "    }\n",
              "\n",
              "    .colab-df-convert {\n",
              "      background-color: #E8F0FE;\n",
              "      border: none;\n",
              "      border-radius: 50%;\n",
              "      cursor: pointer;\n",
              "      display: none;\n",
              "      fill: #1967D2;\n",
              "      height: 32px;\n",
              "      padding: 0 0 0 0;\n",
              "      width: 32px;\n",
              "    }\n",
              "\n",
              "    .colab-df-convert:hover {\n",
              "      background-color: #E2EBFA;\n",
              "      box-shadow: 0px 1px 2px rgba(60, 64, 67, 0.3), 0px 1px 3px 1px rgba(60, 64, 67, 0.15);\n",
              "      fill: #174EA6;\n",
              "    }\n",
              "\n",
              "    [theme=dark] .colab-df-convert {\n",
              "      background-color: #3B4455;\n",
              "      fill: #D2E3FC;\n",
              "    }\n",
              "\n",
              "    [theme=dark] .colab-df-convert:hover {\n",
              "      background-color: #434B5C;\n",
              "      box-shadow: 0px 1px 3px 1px rgba(0, 0, 0, 0.15);\n",
              "      filter: drop-shadow(0px 1px 2px rgba(0, 0, 0, 0.3));\n",
              "      fill: #FFFFFF;\n",
              "    }\n",
              "  </style>\n",
              "\n",
              "      <script>\n",
              "        const buttonEl =\n",
              "          document.querySelector('#df-6d8accec-faf5-481d-9f04-a59bddc3b2f1 button.colab-df-convert');\n",
              "        buttonEl.style.display =\n",
              "          google.colab.kernel.accessAllowed ? 'block' : 'none';\n",
              "\n",
              "        async function convertToInteractive(key) {\n",
              "          const element = document.querySelector('#df-6d8accec-faf5-481d-9f04-a59bddc3b2f1');\n",
              "          const dataTable =\n",
              "            await google.colab.kernel.invokeFunction('convertToInteractive',\n",
              "                                                     [key], {});\n",
              "          if (!dataTable) return;\n",
              "\n",
              "          const docLinkHtml = 'Like what you see? Visit the ' +\n",
              "            '<a target=\"_blank\" href=https://colab.research.google.com/notebooks/data_table.ipynb>data table notebook</a>'\n",
              "            + ' to learn more about interactive tables.';\n",
              "          element.innerHTML = '';\n",
              "          dataTable['output_type'] = 'display_data';\n",
              "          await google.colab.output.renderOutput(dataTable, element);\n",
              "          const docLink = document.createElement('div');\n",
              "          docLink.innerHTML = docLinkHtml;\n",
              "          element.appendChild(docLink);\n",
              "        }\n",
              "      </script>\n",
              "    </div>\n",
              "  </div>\n",
              "  "
            ]
          },
          "metadata": {},
          "execution_count": 41
        }
      ],
      "source": [
        "wrong_predictions.loc[(wrong_predictions.target_1==2) & (wrong_predictions.target_1_pred==0)]"
      ],
      "id": "qr42hkT50o12"
    },
    {
      "cell_type": "code",
      "execution_count": null,
      "metadata": {
        "colab": {
          "base_uri": "https://localhost:8080/",
          "height": 488
        },
        "id": "LDpqRKEiDfiU",
        "outputId": "cd1ea921-4304-4d37-c71d-4705618fa607"
      },
      "outputs": [
        {
          "output_type": "execute_result",
          "data": {
            "text/plain": [
              "      symptom_3  symptom_1 paternal_gene  blood_test_result  patient_age  \\\n",
              "4733        0.0        0.0            No       inconclusive          9.0   \n",
              "6029        0.0        1.0           Yes             normal         13.0   \n",
              "2901        1.0        0.0           Yes       inconclusive         12.0   \n",
              "4467        0.0        0.0           Yes           abnormal          9.0   \n",
              "4721        0.0        0.0           Yes           abnormal         14.0   \n",
              "...         ...        ...           ...                ...          ...   \n",
              "747         1.0        0.0            No             normal          7.0   \n",
              "2981        1.0        0.0            No             normal          9.0   \n",
              "4271        0.0        0.0           Yes           abnormal          5.0   \n",
              "3213        1.0        0.0            No  slightly abnormal          5.0   \n",
              "3661        0.0        0.0           Yes             normal          6.0   \n",
              "\n",
              "     inherited_from_father  blood_cell_count  symptom_4  symptom_5  \\\n",
              "4733                    No          4.384045        1.0        0.0   \n",
              "6029                    No          4.901324        1.0        1.0   \n",
              "2901                   Yes          4.793283        1.0        1.0   \n",
              "4467                    No          4.950716        0.0        0.0   \n",
              "4721                    No          4.901437        0.0        1.0   \n",
              "...                    ...               ...        ...        ...   \n",
              "747                     No          4.696928        0.0        0.0   \n",
              "2981                    No          4.646310        0.0        0.0   \n",
              "4271                    No          5.185115        1.0        0.0   \n",
              "3213                    No          4.803987        1.0        1.0   \n",
              "3661                    No          4.771567        1.0        0.0   \n",
              "\n",
              "     maternal_gene  num_symptoms genes_in_mother_side      FE_1  \\\n",
              "4733            No           1.0                   No  0.200000   \n",
              "6029           Yes           4.0                  Yes  2.000000   \n",
              "2901            No           4.0                   No  1.333333   \n",
              "4467           Yes           1.0                   No  0.500000   \n",
              "4721            No           1.0                  Yes  0.200000   \n",
              "...            ...           ...                  ...       ...   \n",
              "747             No           1.0                   No  0.200000   \n",
              "2981            No           1.0                   No  0.333333   \n",
              "4271           Yes           1.0                   No  0.500000   \n",
              "3213            No           4.0                  Yes  1.333333   \n",
              "3661            No           1.0                   No  0.250000   \n",
              "\n",
              "      avg_parents_age  white_blood_cell_count  symptom_2  target_1  \\\n",
              "4733             50.0                6.469576        0.0         2   \n",
              "6029             37.5               10.980827        1.0         2   \n",
              "2901             35.5               10.577894        1.0         2   \n",
              "4467             35.0               11.048624        1.0         2   \n",
              "4721             22.5               10.232870        0.0         2   \n",
              "...               ...                     ...        ...       ...   \n",
              "747              25.0                9.471620        0.0         2   \n",
              "2981             34.0                6.437596        0.0         2   \n",
              "4271             45.5                9.796373        0.0         2   \n",
              "3213             30.5                7.405118        1.0         2   \n",
              "3661             40.0               10.110894        0.0         2   \n",
              "\n",
              "      target_1_pred  is_error  \n",
              "4733              2         0  \n",
              "6029              2         0  \n",
              "2901              2         0  \n",
              "4467              2         0  \n",
              "4721              2         0  \n",
              "...             ...       ...  \n",
              "747               2         0  \n",
              "2981              2         0  \n",
              "4271              2         0  \n",
              "3213              2         0  \n",
              "3661              2         0  \n",
              "\n",
              "[242 rows x 19 columns]"
            ],
            "text/html": [
              "\n",
              "  <div id=\"df-94959a22-8859-4950-bc9c-c633928a04be\">\n",
              "    <div class=\"colab-df-container\">\n",
              "      <div>\n",
              "<style scoped>\n",
              "    .dataframe tbody tr th:only-of-type {\n",
              "        vertical-align: middle;\n",
              "    }\n",
              "\n",
              "    .dataframe tbody tr th {\n",
              "        vertical-align: top;\n",
              "    }\n",
              "\n",
              "    .dataframe thead th {\n",
              "        text-align: right;\n",
              "    }\n",
              "</style>\n",
              "<table border=\"1\" class=\"dataframe\">\n",
              "  <thead>\n",
              "    <tr style=\"text-align: right;\">\n",
              "      <th></th>\n",
              "      <th>symptom_3</th>\n",
              "      <th>symptom_1</th>\n",
              "      <th>paternal_gene</th>\n",
              "      <th>blood_test_result</th>\n",
              "      <th>patient_age</th>\n",
              "      <th>inherited_from_father</th>\n",
              "      <th>blood_cell_count</th>\n",
              "      <th>symptom_4</th>\n",
              "      <th>symptom_5</th>\n",
              "      <th>maternal_gene</th>\n",
              "      <th>num_symptoms</th>\n",
              "      <th>genes_in_mother_side</th>\n",
              "      <th>FE_1</th>\n",
              "      <th>avg_parents_age</th>\n",
              "      <th>white_blood_cell_count</th>\n",
              "      <th>symptom_2</th>\n",
              "      <th>target_1</th>\n",
              "      <th>target_1_pred</th>\n",
              "      <th>is_error</th>\n",
              "    </tr>\n",
              "  </thead>\n",
              "  <tbody>\n",
              "    <tr>\n",
              "      <th>4733</th>\n",
              "      <td>0.0</td>\n",
              "      <td>0.0</td>\n",
              "      <td>No</td>\n",
              "      <td>inconclusive</td>\n",
              "      <td>9.0</td>\n",
              "      <td>No</td>\n",
              "      <td>4.384045</td>\n",
              "      <td>1.0</td>\n",
              "      <td>0.0</td>\n",
              "      <td>No</td>\n",
              "      <td>1.0</td>\n",
              "      <td>No</td>\n",
              "      <td>0.200000</td>\n",
              "      <td>50.0</td>\n",
              "      <td>6.469576</td>\n",
              "      <td>0.0</td>\n",
              "      <td>2</td>\n",
              "      <td>2</td>\n",
              "      <td>0</td>\n",
              "    </tr>\n",
              "    <tr>\n",
              "      <th>6029</th>\n",
              "      <td>0.0</td>\n",
              "      <td>1.0</td>\n",
              "      <td>Yes</td>\n",
              "      <td>normal</td>\n",
              "      <td>13.0</td>\n",
              "      <td>No</td>\n",
              "      <td>4.901324</td>\n",
              "      <td>1.0</td>\n",
              "      <td>1.0</td>\n",
              "      <td>Yes</td>\n",
              "      <td>4.0</td>\n",
              "      <td>Yes</td>\n",
              "      <td>2.000000</td>\n",
              "      <td>37.5</td>\n",
              "      <td>10.980827</td>\n",
              "      <td>1.0</td>\n",
              "      <td>2</td>\n",
              "      <td>2</td>\n",
              "      <td>0</td>\n",
              "    </tr>\n",
              "    <tr>\n",
              "      <th>2901</th>\n",
              "      <td>1.0</td>\n",
              "      <td>0.0</td>\n",
              "      <td>Yes</td>\n",
              "      <td>inconclusive</td>\n",
              "      <td>12.0</td>\n",
              "      <td>Yes</td>\n",
              "      <td>4.793283</td>\n",
              "      <td>1.0</td>\n",
              "      <td>1.0</td>\n",
              "      <td>No</td>\n",
              "      <td>4.0</td>\n",
              "      <td>No</td>\n",
              "      <td>1.333333</td>\n",
              "      <td>35.5</td>\n",
              "      <td>10.577894</td>\n",
              "      <td>1.0</td>\n",
              "      <td>2</td>\n",
              "      <td>2</td>\n",
              "      <td>0</td>\n",
              "    </tr>\n",
              "    <tr>\n",
              "      <th>4467</th>\n",
              "      <td>0.0</td>\n",
              "      <td>0.0</td>\n",
              "      <td>Yes</td>\n",
              "      <td>abnormal</td>\n",
              "      <td>9.0</td>\n",
              "      <td>No</td>\n",
              "      <td>4.950716</td>\n",
              "      <td>0.0</td>\n",
              "      <td>0.0</td>\n",
              "      <td>Yes</td>\n",
              "      <td>1.0</td>\n",
              "      <td>No</td>\n",
              "      <td>0.500000</td>\n",
              "      <td>35.0</td>\n",
              "      <td>11.048624</td>\n",
              "      <td>1.0</td>\n",
              "      <td>2</td>\n",
              "      <td>2</td>\n",
              "      <td>0</td>\n",
              "    </tr>\n",
              "    <tr>\n",
              "      <th>4721</th>\n",
              "      <td>0.0</td>\n",
              "      <td>0.0</td>\n",
              "      <td>Yes</td>\n",
              "      <td>abnormal</td>\n",
              "      <td>14.0</td>\n",
              "      <td>No</td>\n",
              "      <td>4.901437</td>\n",
              "      <td>0.0</td>\n",
              "      <td>1.0</td>\n",
              "      <td>No</td>\n",
              "      <td>1.0</td>\n",
              "      <td>Yes</td>\n",
              "      <td>0.200000</td>\n",
              "      <td>22.5</td>\n",
              "      <td>10.232870</td>\n",
              "      <td>0.0</td>\n",
              "      <td>2</td>\n",
              "      <td>2</td>\n",
              "      <td>0</td>\n",
              "    </tr>\n",
              "    <tr>\n",
              "      <th>...</th>\n",
              "      <td>...</td>\n",
              "      <td>...</td>\n",
              "      <td>...</td>\n",
              "      <td>...</td>\n",
              "      <td>...</td>\n",
              "      <td>...</td>\n",
              "      <td>...</td>\n",
              "      <td>...</td>\n",
              "      <td>...</td>\n",
              "      <td>...</td>\n",
              "      <td>...</td>\n",
              "      <td>...</td>\n",
              "      <td>...</td>\n",
              "      <td>...</td>\n",
              "      <td>...</td>\n",
              "      <td>...</td>\n",
              "      <td>...</td>\n",
              "      <td>...</td>\n",
              "      <td>...</td>\n",
              "    </tr>\n",
              "    <tr>\n",
              "      <th>747</th>\n",
              "      <td>1.0</td>\n",
              "      <td>0.0</td>\n",
              "      <td>No</td>\n",
              "      <td>normal</td>\n",
              "      <td>7.0</td>\n",
              "      <td>No</td>\n",
              "      <td>4.696928</td>\n",
              "      <td>0.0</td>\n",
              "      <td>0.0</td>\n",
              "      <td>No</td>\n",
              "      <td>1.0</td>\n",
              "      <td>No</td>\n",
              "      <td>0.200000</td>\n",
              "      <td>25.0</td>\n",
              "      <td>9.471620</td>\n",
              "      <td>0.0</td>\n",
              "      <td>2</td>\n",
              "      <td>2</td>\n",
              "      <td>0</td>\n",
              "    </tr>\n",
              "    <tr>\n",
              "      <th>2981</th>\n",
              "      <td>1.0</td>\n",
              "      <td>0.0</td>\n",
              "      <td>No</td>\n",
              "      <td>normal</td>\n",
              "      <td>9.0</td>\n",
              "      <td>No</td>\n",
              "      <td>4.646310</td>\n",
              "      <td>0.0</td>\n",
              "      <td>0.0</td>\n",
              "      <td>No</td>\n",
              "      <td>1.0</td>\n",
              "      <td>No</td>\n",
              "      <td>0.333333</td>\n",
              "      <td>34.0</td>\n",
              "      <td>6.437596</td>\n",
              "      <td>0.0</td>\n",
              "      <td>2</td>\n",
              "      <td>2</td>\n",
              "      <td>0</td>\n",
              "    </tr>\n",
              "    <tr>\n",
              "      <th>4271</th>\n",
              "      <td>0.0</td>\n",
              "      <td>0.0</td>\n",
              "      <td>Yes</td>\n",
              "      <td>abnormal</td>\n",
              "      <td>5.0</td>\n",
              "      <td>No</td>\n",
              "      <td>5.185115</td>\n",
              "      <td>1.0</td>\n",
              "      <td>0.0</td>\n",
              "      <td>Yes</td>\n",
              "      <td>1.0</td>\n",
              "      <td>No</td>\n",
              "      <td>0.500000</td>\n",
              "      <td>45.5</td>\n",
              "      <td>9.796373</td>\n",
              "      <td>0.0</td>\n",
              "      <td>2</td>\n",
              "      <td>2</td>\n",
              "      <td>0</td>\n",
              "    </tr>\n",
              "    <tr>\n",
              "      <th>3213</th>\n",
              "      <td>1.0</td>\n",
              "      <td>0.0</td>\n",
              "      <td>No</td>\n",
              "      <td>slightly abnormal</td>\n",
              "      <td>5.0</td>\n",
              "      <td>No</td>\n",
              "      <td>4.803987</td>\n",
              "      <td>1.0</td>\n",
              "      <td>1.0</td>\n",
              "      <td>No</td>\n",
              "      <td>4.0</td>\n",
              "      <td>Yes</td>\n",
              "      <td>1.333333</td>\n",
              "      <td>30.5</td>\n",
              "      <td>7.405118</td>\n",
              "      <td>1.0</td>\n",
              "      <td>2</td>\n",
              "      <td>2</td>\n",
              "      <td>0</td>\n",
              "    </tr>\n",
              "    <tr>\n",
              "      <th>3661</th>\n",
              "      <td>0.0</td>\n",
              "      <td>0.0</td>\n",
              "      <td>Yes</td>\n",
              "      <td>normal</td>\n",
              "      <td>6.0</td>\n",
              "      <td>No</td>\n",
              "      <td>4.771567</td>\n",
              "      <td>1.0</td>\n",
              "      <td>0.0</td>\n",
              "      <td>No</td>\n",
              "      <td>1.0</td>\n",
              "      <td>No</td>\n",
              "      <td>0.250000</td>\n",
              "      <td>40.0</td>\n",
              "      <td>10.110894</td>\n",
              "      <td>0.0</td>\n",
              "      <td>2</td>\n",
              "      <td>2</td>\n",
              "      <td>0</td>\n",
              "    </tr>\n",
              "  </tbody>\n",
              "</table>\n",
              "<p>242 rows × 19 columns</p>\n",
              "</div>\n",
              "      <button class=\"colab-df-convert\" onclick=\"convertToInteractive('df-94959a22-8859-4950-bc9c-c633928a04be')\"\n",
              "              title=\"Convert this dataframe to an interactive table.\"\n",
              "              style=\"display:none;\">\n",
              "        \n",
              "  <svg xmlns=\"http://www.w3.org/2000/svg\" height=\"24px\"viewBox=\"0 0 24 24\"\n",
              "       width=\"24px\">\n",
              "    <path d=\"M0 0h24v24H0V0z\" fill=\"none\"/>\n",
              "    <path d=\"M18.56 5.44l.94 2.06.94-2.06 2.06-.94-2.06-.94-.94-2.06-.94 2.06-2.06.94zm-11 1L8.5 8.5l.94-2.06 2.06-.94-2.06-.94L8.5 2.5l-.94 2.06-2.06.94zm10 10l.94 2.06.94-2.06 2.06-.94-2.06-.94-.94-2.06-.94 2.06-2.06.94z\"/><path d=\"M17.41 7.96l-1.37-1.37c-.4-.4-.92-.59-1.43-.59-.52 0-1.04.2-1.43.59L10.3 9.45l-7.72 7.72c-.78.78-.78 2.05 0 2.83L4 21.41c.39.39.9.59 1.41.59.51 0 1.02-.2 1.41-.59l7.78-7.78 2.81-2.81c.8-.78.8-2.07 0-2.86zM5.41 20L4 18.59l7.72-7.72 1.47 1.35L5.41 20z\"/>\n",
              "  </svg>\n",
              "      </button>\n",
              "      \n",
              "  <style>\n",
              "    .colab-df-container {\n",
              "      display:flex;\n",
              "      flex-wrap:wrap;\n",
              "      gap: 12px;\n",
              "    }\n",
              "\n",
              "    .colab-df-convert {\n",
              "      background-color: #E8F0FE;\n",
              "      border: none;\n",
              "      border-radius: 50%;\n",
              "      cursor: pointer;\n",
              "      display: none;\n",
              "      fill: #1967D2;\n",
              "      height: 32px;\n",
              "      padding: 0 0 0 0;\n",
              "      width: 32px;\n",
              "    }\n",
              "\n",
              "    .colab-df-convert:hover {\n",
              "      background-color: #E2EBFA;\n",
              "      box-shadow: 0px 1px 2px rgba(60, 64, 67, 0.3), 0px 1px 3px 1px rgba(60, 64, 67, 0.15);\n",
              "      fill: #174EA6;\n",
              "    }\n",
              "\n",
              "    [theme=dark] .colab-df-convert {\n",
              "      background-color: #3B4455;\n",
              "      fill: #D2E3FC;\n",
              "    }\n",
              "\n",
              "    [theme=dark] .colab-df-convert:hover {\n",
              "      background-color: #434B5C;\n",
              "      box-shadow: 0px 1px 3px 1px rgba(0, 0, 0, 0.15);\n",
              "      filter: drop-shadow(0px 1px 2px rgba(0, 0, 0, 0.3));\n",
              "      fill: #FFFFFF;\n",
              "    }\n",
              "  </style>\n",
              "\n",
              "      <script>\n",
              "        const buttonEl =\n",
              "          document.querySelector('#df-94959a22-8859-4950-bc9c-c633928a04be button.colab-df-convert');\n",
              "        buttonEl.style.display =\n",
              "          google.colab.kernel.accessAllowed ? 'block' : 'none';\n",
              "\n",
              "        async function convertToInteractive(key) {\n",
              "          const element = document.querySelector('#df-94959a22-8859-4950-bc9c-c633928a04be');\n",
              "          const dataTable =\n",
              "            await google.colab.kernel.invokeFunction('convertToInteractive',\n",
              "                                                     [key], {});\n",
              "          if (!dataTable) return;\n",
              "\n",
              "          const docLinkHtml = 'Like what you see? Visit the ' +\n",
              "            '<a target=\"_blank\" href=https://colab.research.google.com/notebooks/data_table.ipynb>data table notebook</a>'\n",
              "            + ' to learn more about interactive tables.';\n",
              "          element.innerHTML = '';\n",
              "          dataTable['output_type'] = 'display_data';\n",
              "          await google.colab.output.renderOutput(dataTable, element);\n",
              "          const docLink = document.createElement('div');\n",
              "          docLink.innerHTML = docLinkHtml;\n",
              "          element.appendChild(docLink);\n",
              "        }\n",
              "      </script>\n",
              "    </div>\n",
              "  </div>\n",
              "  "
            ]
          },
          "metadata": {},
          "execution_count": 42
        }
      ],
      "source": [
        "correct_predictions.loc[correct_predictions.target_1==2]"
      ],
      "id": "LDpqRKEiDfiU"
    },
    {
      "cell_type": "code",
      "execution_count": null,
      "metadata": {
        "colab": {
          "base_uri": "https://localhost:8080/",
          "height": 299
        },
        "id": "Bq6lmumLgGBA",
        "outputId": "1141cecf-921e-4aac-fb28-6a25ec790f42"
      },
      "outputs": [
        {
          "output_type": "execute_result",
          "data": {
            "text/plain": [
              "<matplotlib.axes._subplots.AxesSubplot at 0x7f318f011a10>"
            ]
          },
          "metadata": {},
          "execution_count": 43
        },
        {
          "output_type": "display_data",
          "data": {
            "text/plain": [
              "<Figure size 432x288 with 1 Axes>"
            ],
            "image/png": "[encoded data removed]"
          },
          "metadata": {
            "needs_background": "light"
          }
        }
      ],
      "source": [
        "sns.countplot(data=wrong_predictions,x='target_1',hue='target_1_pred')"
      ],
      "id": "Bq6lmumLgGBA"
    },
    {
      "cell_type": "code",
      "execution_count": null,
      "metadata": {
        "colab": {
          "base_uri": "https://localhost:8080/",
          "height": 299
        },
        "id": "I2gRfvcqgJj5",
        "outputId": "8a7c4c53-5211-40d0-b8f8-be9a79e06eaf"
      },
      "outputs": [
        {
          "output_type": "execute_result",
          "data": {
            "text/plain": [
              "<matplotlib.axes._subplots.AxesSubplot at 0x7f318f061810>"
            ]
          },
          "metadata": {},
          "execution_count": 44
        },
        {
          "output_type": "display_data",
          "data": {
            "text/plain": [
              "<Figure size 432x288 with 1 Axes>"
            ],
            "image/png": "[encoded data removed]"
          },
          "metadata": {
            "needs_background": "light"
          }
        }
      ],
      "source": [
        "sns.boxplot(data=wrong_predictions,x='target_1',y='num_symptoms')"
      ],
      "id": "I2gRfvcqgJj5"
    },
    {
      "cell_type": "code",
      "execution_count": null,
      "metadata": {
        "colab": {
          "base_uri": "https://localhost:8080/",
          "height": 299
        },
        "id": "TSs3jpXxhEu5",
        "outputId": "4802aec4-b217-4d18-9737-80bde24de2c0"
      },
      "outputs": [
        {
          "output_type": "execute_result",
          "data": {
            "text/plain": [
              "<matplotlib.axes._subplots.AxesSubplot at 0x7f318f25b2d0>"
            ]
          },
          "metadata": {},
          "execution_count": 45
        },
        {
          "output_type": "display_data",
          "data": {
            "text/plain": [
              "<Figure size 432x288 with 1 Axes>"
            ],
            "image/png": "[encoded data removed]"
          },
          "metadata": {
            "needs_background": "light"
          }
        }
      ],
      "source": [
        "sns.boxplot(data=correct_predictions,x='target_1',y='num_symptoms')"
      ],
      "id": "TSs3jpXxhEu5"
    },
    {
      "cell_type": "markdown",
      "metadata": {
        "id": "xnGD_D7HiHCr"
      },
      "source": [
        "* remove points with num_symptoms = 5 and class 0 \n",
        "* remove points with num_symptoms = 3 and class 1"
      ],
      "id": "xnGD_D7HiHCr"
    },
    {
      "cell_type": "code",
      "execution_count": null,
      "metadata": {
        "id": "0_SoOteIsBA5"
      },
      "outputs": [],
      "source": [
        "drop_df = drop_df.drop(index=drop_df.loc[(drop_df.num_symptoms==5) & (drop_df.target_1==0)].index)"
      ],
      "id": "0_SoOteIsBA5"
    },
    {
      "cell_type": "code",
      "execution_count": null,
      "metadata": {
        "id": "n25KBF14sBBB"
      },
      "outputs": [],
      "source": [
        "drop_df = drop_df.drop(index=drop_df.loc[(drop_df.num_symptoms==3) & (drop_df.target_1==1)].index)"
      ],
      "id": "n25KBF14sBBB"
    },
    {
      "cell_type": "code",
      "execution_count": null,
      "metadata": {
        "id": "VpbltvwmsBBB"
      },
      "outputs": [],
      "source": [
        "drop_df = drop_df[important_features]"
      ],
      "id": "VpbltvwmsBBB"
    },
    {
      "cell_type": "code",
      "execution_count": null,
      "metadata": {
        "colab": {
          "base_uri": "https://localhost:8080/"
        },
        "id": "quQ5PLx4sBBB",
        "outputId": "30177c7f-cceb-477e-bb20-4ed6885970f4"
      },
      "outputs": [
        {
          "output_type": "stream",
          "name": "stdout",
          "text": [
            "(4915, 16)\n",
            "(1229, 16)\n",
            "(4915, 2)\n",
            "(1229, 2)\n"
          ]
        }
      ],
      "source": [
        "X_train,X_test,y_train,y_test = data_splitting(drop_df,['target_1','target_2'],0.2)\n",
        "print(X_train.shape)\n",
        "print(X_test.shape)\n",
        "print(y_train.shape)\n",
        "print(y_test.shape)"
      ],
      "id": "quQ5PLx4sBBB"
    },
    {
      "cell_type": "markdown",
      "metadata": {
        "id": "d27udqesrMY6"
      },
      "source": [
        "# Model performance after removing some points from the dataset "
      ],
      "id": "d27udqesrMY6"
    },
    {
      "cell_type": "code",
      "execution_count": null,
      "metadata": {
        "id": "1awoX3HRI8AK"
      },
      "outputs": [],
      "source": [
        "rf_ = pickle.load(open('/content/drive/MyDrive/MachineLearning/randomforest_0.65.pkl','rb'))"
      ],
      "id": "1awoX3HRI8AK"
    },
    {
      "cell_type": "code",
      "execution_count": null,
      "metadata": {
        "colab": {
          "base_uri": "https://localhost:8080/"
        },
        "id": "3968b6IvrPGd",
        "outputId": "442db819-830a-4796-c936-15a8e26a160b"
      },
      "outputs": [
        {
          "output_type": "stream",
          "name": "stdout",
          "text": [
            "Model After removing some data points\n",
            "f1-score\n",
            "0.6566274449716273\n"
          ]
        }
      ],
      "source": [
        "# print('BaseLine Random Forest')\n",
        "# print('f1-score')\n",
        "# print(f1_score(d.values[:,0],rf.predict(b),average='weighted'))\n",
        "print('Model After removing some data points')\n",
        "print('f1-score')\n",
        "print(f1_score(y_test.values[:,0],rf_.predict(X_test),average='weighted'))"
      ],
      "id": "3968b6IvrPGd"
    },
    {
      "cell_type": "code",
      "execution_count": null,
      "metadata": {
        "id": "61An__igqb-i"
      },
      "outputs": [],
      "source": [
        "# print('BaseLine RandomForest')\n",
        "# print(classification_report(d.values[:,0],rf.predict(b)))"
      ],
      "id": "61An__igqb-i"
    },
    {
      "cell_type": "code",
      "execution_count": null,
      "metadata": {
        "colab": {
          "base_uri": "https://localhost:8080/"
        },
        "id": "7LzuVNbJJNjW",
        "outputId": "2e225e53-faea-4b57-af0c-77b68dd109c0"
      },
      "outputs": [
        {
          "output_type": "stream",
          "name": "stdout",
          "text": [
            "Model After removing some data points\n",
            "              precision    recall  f1-score   support\n",
            "\n",
            "           0       0.70      0.83      0.76       627\n",
            "           1       0.56      0.55      0.55       113\n",
            "           2       0.62      0.48      0.55       489\n",
            "\n",
            "    accuracy                           0.67      1229\n",
            "   macro avg       0.63      0.62      0.62      1229\n",
            "weighted avg       0.66      0.67      0.66      1229\n",
            "\n"
          ]
        }
      ],
      "source": [
        "print('Model After removing some data points')\n",
        "print(classification_report(y_test.values[:,0],rf_.predict(X_test)))"
      ],
      "id": "7LzuVNbJJNjW"
    },
    {
      "cell_type": "code",
      "execution_count": null,
      "metadata": {
        "colab": {
          "base_uri": "https://localhost:8080/",
          "height": 279
        },
        "id": "qqKNH5lyrK8B",
        "outputId": "3e37aa39-a36f-4b6a-b850-87b3cfa2cad1"
      },
      "outputs": [
        {
          "output_type": "display_data",
          "data": {
            "text/plain": [
              "<Figure size 2160x288 with 6 Axes>"
            ],
            "image/png": "[encoded data removed]"
          },
          "metadata": {
            "needs_background": "light"
          }
        }
      ],
      "source": [
        "plot_confusion_matrix(y_test.values[:,0],rf_.predict(X_test),3)"
      ],
      "id": "qqKNH5lyrK8B"
    },
    {
      "cell_type": "markdown",
      "metadata": {
        "id": "5hWPZjhdLJCI"
      },
      "source": [
        "* We can see that a large number of points belonging to class_2 are being misclassified as class_0"
      ],
      "id": "5hWPZjhdLJCI"
    },
    {
      "cell_type": "markdown",
      "metadata": {
        "id": "aHArqg2nvdXb"
      },
      "source": [
        "#### Observation\n",
        "\n",
        "* When I have trained the model for the first time it has 0.63 weighted f1_score.\n",
        "* After error analysis I have removed point which are having num_symptoms = 3 target_1 = 1 and num_symptoms = 5 target_1=0 then the random forest model trained and performed better on the test set and weighted f1_score was impoved significantly to 0.65"
      ],
      "id": "aHArqg2nvdXb"
    },
    {
      "cell_type": "code",
      "execution_count": null,
      "metadata": {
        "id": "Y9yWHIHmvJdB"
      },
      "outputs": [],
      "source": [
        "train_proba = rf.predict_proba(X_train)\n",
        "test_proba = rf.predict_proba(X_test)"
      ],
      "id": "Y9yWHIHmvJdB"
    },
    {
      "cell_type": "code",
      "execution_count": null,
      "metadata": {
        "id": "m-8W-Z1n02ai"
      },
      "outputs": [],
      "source": [
        "X_train['pred_target_1'] = rf.predict(X_train)"
      ],
      "id": "m-8W-Z1n02ai"
    },
    {
      "cell_type": "code",
      "execution_count": null,
      "metadata": {
        "id": "qUWn0SH30AtN"
      },
      "outputs": [],
      "source": [
        "X_train['proba_0'] = train_proba[:,0]\n",
        "X_train['proba_1'] = train_proba[:,1]\n",
        "X_train['proba_2'] = train_proba[:,2]"
      ],
      "id": "qUWn0SH30AtN"
    },
    {
      "cell_type": "code",
      "execution_count": null,
      "metadata": {
        "id": "vJgAqc-B08XA"
      },
      "outputs": [],
      "source": [
        "X_test['pred_target_1'] = rf.predict(X_test)"
      ],
      "id": "vJgAqc-B08XA"
    },
    {
      "cell_type": "code",
      "execution_count": null,
      "metadata": {
        "id": "I7Rq19zw0M_7"
      },
      "outputs": [],
      "source": [
        "X_test['proba_0'] = test_proba[:,0]\n",
        "X_test['proba_1'] = test_proba[:,1]\n",
        "X_test['proba_2'] = test_proba[:,2]"
      ],
      "id": "I7Rq19zw0M_7"
    },
    {
      "cell_type": "markdown",
      "source": [
        "* Now to predict target_2 I have added predicted probabilities of target_1 and predicted values of target_1 in the training and test set."
      ],
      "metadata": {
        "id": "sAw4hOifw6UR"
      },
      "id": "sAw4hOifw6UR"
    },
    {
      "cell_type": "markdown",
      "metadata": {
        "id": "eIqBmwx61c2j"
      },
      "source": [
        "# Training RandomForest Classifier Model on dataset without any imputations for target_2 prediction"
      ],
      "id": "eIqBmwx61c2j"
    },
    {
      "cell_type": "code",
      "execution_count": null,
      "metadata": {
        "id": "h_HiCV8X1wI4"
      },
      "outputs": [],
      "source": [
        "numerical_cols = [i for i in X_train.select_dtypes(include=['float64','int64']).columns if i != 'target_1' or i!='target_2']"
      ],
      "id": "h_HiCV8X1wI4"
    },
    {
      "cell_type": "code",
      "execution_count": null,
      "metadata": {
        "id": "-bvNLuTR1wI4"
      },
      "outputs": [],
      "source": [
        "def numerical_features(x):\n",
        "  return x.values"
      ],
      "id": "-bvNLuTR1wI4"
    },
    {
      "cell_type": "code",
      "execution_count": null,
      "metadata": {
        "colab": {
          "base_uri": "https://localhost:8080/"
        },
        "id": "etFni1pa1wI4",
        "outputId": "497a66f1-48ca-4420-e49e-fccb122470ab"
      },
      "outputs": [
        {
          "output_type": "execute_result",
          "data": {
            "text/plain": [
              "ColumnTransformer(transformers=[('one-hot-encoder', OneHotEncoder(sparse=False),\n",
              "                                 ['paternal_gene', 'inherited_from_father',\n",
              "                                  'maternal_gene', 'genes_in_mother_side',\n",
              "                                  'blood_test_result']),\n",
              "                                ('numerical',\n",
              "                                 FunctionTransformer(func=<function numerical_features at 0x7f318b6a8170>),\n",
              "                                 ['symptom_3', 'symptom_1', 'patient_age',\n",
              "                                  'blood_cell_count', 'symptom_4', 'symptom_5',\n",
              "                                  'num_symptoms', 'FE_1', 'avg_parents_age',\n",
              "                                  'white_blood_cell_count', 'symptom_2',\n",
              "                                  'pred_target_1', 'proba_0', 'proba_1',\n",
              "                                  'proba_2'])])"
            ]
          },
          "metadata": {},
          "execution_count": 62
        }
      ],
      "source": [
        "pre_processor_1 = ColumnTransformer([\n",
        "    ('one-hot-encoder', one_hot_encoder, categorical),\n",
        "    ('numerical',FunctionTransformer(func=numerical_features),numerical_cols)\n",
        "    ])\n",
        "pre_processor_1.fit(X_train)"
      ],
      "id": "etFni1pa1wI4"
    },
    {
      "cell_type": "code",
      "execution_count": null,
      "metadata": {
        "id": "DWWKznGo1c2k"
      },
      "outputs": [],
      "source": [
        "params = {'rf__estimator__n_estimators' : [500,1000,2000,3000],'rf__estimator__min_samples_split' : [2, 5, 10],'rf__estimator__min_samples_leaf' : [1, 2, 4]}"
      ],
      "id": "DWWKznGo1c2k"
    },
    {
      "cell_type": "code",
      "execution_count": null,
      "metadata": {
        "id": "JqjrjJZg1c2k"
      },
      "outputs": [],
      "source": [
        "pipe = Pipeline([('pre_processor',pre_processor_1),('rf',OneVsRestClassifier(estimator = RandomForestClassifier()) )])"
      ],
      "id": "JqjrjJZg1c2k"
    },
    {
      "cell_type": "code",
      "execution_count": null,
      "metadata": {
        "colab": {
          "base_uri": "https://localhost:8080/"
        },
        "id": "gBwjkg8e1c2k",
        "outputId": "430f94bd-3103-4c34-aac2-ea0871e559a4"
      },
      "outputs": [
        {
          "output_type": "stream",
          "name": "stdout",
          "text": [
            "Fitting 9 folds for each of 10 candidates, totalling 90 fits\n",
            "[CV 1/9] END rf__estimator__min_samples_leaf=1, rf__estimator__min_samples_split=5, rf__estimator__n_estimators=500;, score=(train=0.997, test=0.638) total time=  23.9s\n",
            "[CV 2/9] END rf__estimator__min_samples_leaf=1, rf__estimator__min_samples_split=5, rf__estimator__n_estimators=500;, score=(train=0.997, test=0.621) total time=  24.0s\n",
            "[CV 3/9] END rf__estimator__min_samples_leaf=1, rf__estimator__min_samples_split=5, rf__estimator__n_estimators=500;, score=(train=0.996, test=0.662) total time=  24.4s\n",
            "[CV 4/9] END rf__estimator__min_samples_leaf=1, rf__estimator__min_samples_split=5, rf__estimator__n_estimators=500;, score=(train=0.997, test=0.623) total time=  24.2s\n",
            "[CV 5/9] END rf__estimator__min_samples_leaf=1, rf__estimator__min_samples_split=5, rf__estimator__n_estimators=500;, score=(train=0.996, test=0.646) total time=  24.0s\n",
            "[CV 6/9] END rf__estimator__min_samples_leaf=1, rf__estimator__min_samples_split=5, rf__estimator__n_estimators=500;, score=(train=0.997, test=0.653) total time=  24.0s\n",
            "[CV 7/9] END rf__estimator__min_samples_leaf=1, rf__estimator__min_samples_split=5, rf__estimator__n_estimators=500;, score=(train=0.997, test=0.633) total time=  23.9s\n",
            "[CV 8/9] END rf__estimator__min_samples_leaf=1, rf__estimator__min_samples_split=5, rf__estimator__n_estimators=500;, score=(train=0.997, test=0.643) total time=  24.0s\n",
            "[CV 9/9] END rf__estimator__min_samples_leaf=1, rf__estimator__min_samples_split=5, rf__estimator__n_estimators=500;, score=(train=0.996, test=0.649) total time=  23.9s\n",
            "[CV 1/9] END rf__estimator__min_samples_leaf=4, rf__estimator__min_samples_split=5, rf__estimator__n_estimators=500;, score=(train=0.911, test=0.645) total time=  22.7s\n",
            "[CV 2/9] END rf__estimator__min_samples_leaf=4, rf__estimator__min_samples_split=5, rf__estimator__n_estimators=500;, score=(train=0.905, test=0.619) total time=  23.1s\n",
            "[CV 3/9] END rf__estimator__min_samples_leaf=4, rf__estimator__min_samples_split=5, rf__estimator__n_estimators=500;, score=(train=0.906, test=0.652) total time=  23.3s\n",
            "[CV 4/9] END rf__estimator__min_samples_leaf=4, rf__estimator__min_samples_split=5, rf__estimator__n_estimators=500;, score=(train=0.909, test=0.622) total time=  23.0s\n",
            "[CV 5/9] END rf__estimator__min_samples_leaf=4, rf__estimator__min_samples_split=5, rf__estimator__n_estimators=500;, score=(train=0.909, test=0.637) total time=  23.1s\n",
            "[CV 6/9] END rf__estimator__min_samples_leaf=4, rf__estimator__min_samples_split=5, rf__estimator__n_estimators=500;, score=(train=0.905, test=0.633) total time=  22.9s\n",
            "[CV 7/9] END rf__estimator__min_samples_leaf=4, rf__estimator__min_samples_split=5, rf__estimator__n_estimators=500;, score=(train=0.910, test=0.636) total time=  22.9s\n",
            "[CV 8/9] END rf__estimator__min_samples_leaf=4, rf__estimator__min_samples_split=5, rf__estimator__n_estimators=500;, score=(train=0.911, test=0.653) total time=  22.7s\n",
            "[CV 9/9] END rf__estimator__min_samples_leaf=4, rf__estimator__min_samples_split=5, rf__estimator__n_estimators=500;, score=(train=0.914, test=0.643) total time=  22.7s\n",
            "[CV 1/9] END rf__estimator__min_samples_leaf=1, rf__estimator__min_samples_split=10, rf__estimator__n_estimators=1000;, score=(train=0.948, test=0.648) total time=  46.3s\n",
            "[CV 2/9] END rf__estimator__min_samples_leaf=1, rf__estimator__min_samples_split=10, rf__estimator__n_estimators=1000;, score=(train=0.948, test=0.629) total time=  46.5s\n",
            "[CV 3/9] END rf__estimator__min_samples_leaf=1, rf__estimator__min_samples_split=10, rf__estimator__n_estimators=1000;, score=(train=0.948, test=0.658) total time=  47.1s\n",
            "[CV 4/9] END rf__estimator__min_samples_leaf=1, rf__estimator__min_samples_split=10, rf__estimator__n_estimators=1000;, score=(train=0.952, test=0.620) total time=  46.7s\n",
            "[CV 5/9] END rf__estimator__min_samples_leaf=1, rf__estimator__min_samples_split=10, rf__estimator__n_estimators=1000;, score=(train=0.948, test=0.642) total time=  46.8s\n",
            "[CV 6/9] END rf__estimator__min_samples_leaf=1, rf__estimator__min_samples_split=10, rf__estimator__n_estimators=1000;, score=(train=0.947, test=0.643) total time=  47.1s\n",
            "[CV 7/9] END rf__estimator__min_samples_leaf=1, rf__estimator__min_samples_split=10, rf__estimator__n_estimators=1000;, score=(train=0.949, test=0.635) total time=  46.4s\n",
            "[CV 8/9] END rf__estimator__min_samples_leaf=1, rf__estimator__min_samples_split=10, rf__estimator__n_estimators=1000;, score=(train=0.950, test=0.650) total time=  46.7s\n",
            "[CV 9/9] END rf__estimator__min_samples_leaf=1, rf__estimator__min_samples_split=10, rf__estimator__n_estimators=1000;, score=(train=0.952, test=0.651) total time=  46.6s\n",
            "[CV 1/9] END rf__estimator__min_samples_leaf=2, rf__estimator__min_samples_split=5, rf__estimator__n_estimators=500;, score=(train=0.981, test=0.646) total time=  23.6s\n",
            "[CV 2/9] END rf__estimator__min_samples_leaf=2, rf__estimator__min_samples_split=5, rf__estimator__n_estimators=500;, score=(train=0.983, test=0.628) total time=  23.5s\n",
            "[CV 3/9] END rf__estimator__min_samples_leaf=2, rf__estimator__min_samples_split=5, rf__estimator__n_estimators=500;, score=(train=0.982, test=0.647) total time=  23.9s\n",
            "[CV 4/9] END rf__estimator__min_samples_leaf=2, rf__estimator__min_samples_split=5, rf__estimator__n_estimators=500;, score=(train=0.981, test=0.631) total time=  23.8s\n",
            "[CV 5/9] END rf__estimator__min_samples_leaf=2, rf__estimator__min_samples_split=5, rf__estimator__n_estimators=500;, score=(train=0.981, test=0.636) total time=  23.5s\n",
            "[CV 6/9] END rf__estimator__min_samples_leaf=2, rf__estimator__min_samples_split=5, rf__estimator__n_estimators=500;, score=(train=0.981, test=0.645) total time=  23.5s\n",
            "[CV 7/9] END rf__estimator__min_samples_leaf=2, rf__estimator__min_samples_split=5, rf__estimator__n_estimators=500;, score=(train=0.982, test=0.639) total time=  23.3s\n",
            "[CV 8/9] END rf__estimator__min_samples_leaf=2, rf__estimator__min_samples_split=5, rf__estimator__n_estimators=500;, score=(train=0.980, test=0.653) total time=  23.5s\n",
            "[CV 9/9] END rf__estimator__min_samples_leaf=2, rf__estimator__min_samples_split=5, rf__estimator__n_estimators=500;, score=(train=0.983, test=0.662) total time=  23.2s\n",
            "[CV 1/9] END rf__estimator__min_samples_leaf=1, rf__estimator__min_samples_split=10, rf__estimator__n_estimators=3000;, score=(train=0.949, test=0.645) total time= 2.3min\n",
            "[CV 2/9] END rf__estimator__min_samples_leaf=1, rf__estimator__min_samples_split=10, rf__estimator__n_estimators=3000;, score=(train=0.949, test=0.626) total time= 2.3min\n",
            "[CV 3/9] END rf__estimator__min_samples_leaf=1, rf__estimator__min_samples_split=10, rf__estimator__n_estimators=3000;, score=(train=0.947, test=0.656) total time= 2.3min\n",
            "[CV 4/9] END rf__estimator__min_samples_leaf=1, rf__estimator__min_samples_split=10, rf__estimator__n_estimators=3000;, score=(train=0.952, test=0.620) total time= 2.3min\n",
            "[CV 5/9] END rf__estimator__min_samples_leaf=1, rf__estimator__min_samples_split=10, rf__estimator__n_estimators=3000;, score=(train=0.947, test=0.637) total time= 2.3min\n",
            "[CV 6/9] END rf__estimator__min_samples_leaf=1, rf__estimator__min_samples_split=10, rf__estimator__n_estimators=3000;, score=(train=0.946, test=0.636) total time= 2.3min\n",
            "[CV 7/9] END rf__estimator__min_samples_leaf=1, rf__estimator__min_samples_split=10, rf__estimator__n_estimators=3000;, score=(train=0.948, test=0.641) total time= 2.3min\n",
            "[CV 8/9] END rf__estimator__min_samples_leaf=1, rf__estimator__min_samples_split=10, rf__estimator__n_estimators=3000;, score=(train=0.950, test=0.657) total time= 2.3min\n",
            "[CV 9/9] END rf__estimator__min_samples_leaf=1, rf__estimator__min_samples_split=10, rf__estimator__n_estimators=3000;, score=(train=0.953, test=0.655) total time= 2.3min\n",
            "[CV 1/9] END rf__estimator__min_samples_leaf=4, rf__estimator__min_samples_split=10, rf__estimator__n_estimators=3000;, score=(train=0.899, test=0.655) total time= 2.3min\n",
            "[CV 2/9] END rf__estimator__min_samples_leaf=4, rf__estimator__min_samples_split=10, rf__estimator__n_estimators=3000;, score=(train=0.893, test=0.627) total time= 2.3min\n",
            "[CV 3/9] END rf__estimator__min_samples_leaf=4, rf__estimator__min_samples_split=10, rf__estimator__n_estimators=3000;, score=(train=0.893, test=0.650) total time= 2.3min\n",
            "[CV 4/9] END rf__estimator__min_samples_leaf=4, rf__estimator__min_samples_split=10, rf__estimator__n_estimators=3000;, score=(train=0.896, test=0.620) total time= 2.3min\n",
            "[CV 5/9] END rf__estimator__min_samples_leaf=4, rf__estimator__min_samples_split=10, rf__estimator__n_estimators=3000;, score=(train=0.895, test=0.640) total time= 2.3min\n",
            "[CV 6/9] END rf__estimator__min_samples_leaf=4, rf__estimator__min_samples_split=10, rf__estimator__n_estimators=3000;, score=(train=0.894, test=0.639) total time= 2.3min\n",
            "[CV 7/9] END rf__estimator__min_samples_leaf=4, rf__estimator__min_samples_split=10, rf__estimator__n_estimators=3000;, score=(train=0.897, test=0.639) total time= 2.3min\n",
            "[CV 8/9] END rf__estimator__min_samples_leaf=4, rf__estimator__min_samples_split=10, rf__estimator__n_estimators=3000;, score=(train=0.900, test=0.650) total time= 2.3min\n",
            "[CV 9/9] END rf__estimator__min_samples_leaf=4, rf__estimator__min_samples_split=10, rf__estimator__n_estimators=3000;, score=(train=0.899, test=0.649) total time= 2.3min\n",
            "[CV 1/9] END rf__estimator__min_samples_leaf=4, rf__estimator__min_samples_split=5, rf__estimator__n_estimators=2000;, score=(train=0.913, test=0.658) total time= 1.5min\n",
            "[CV 2/9] END rf__estimator__min_samples_leaf=4, rf__estimator__min_samples_split=5, rf__estimator__n_estimators=2000;, score=(train=0.908, test=0.628) total time= 1.5min\n",
            "[CV 3/9] END rf__estimator__min_samples_leaf=4, rf__estimator__min_samples_split=5, rf__estimator__n_estimators=2000;, score=(train=0.907, test=0.650) total time= 1.5min\n",
            "[CV 4/9] END rf__estimator__min_samples_leaf=4, rf__estimator__min_samples_split=5, rf__estimator__n_estimators=2000;, score=(train=0.910, test=0.625) total time= 1.5min\n",
            "[CV 5/9] END rf__estimator__min_samples_leaf=4, rf__estimator__min_samples_split=5, rf__estimator__n_estimators=2000;, score=(train=0.908, test=0.638) total time= 1.5min\n",
            "[CV 6/9] END rf__estimator__min_samples_leaf=4, rf__estimator__min_samples_split=5, rf__estimator__n_estimators=2000;, score=(train=0.908, test=0.634) total time= 1.5min\n",
            "[CV 7/9] END rf__estimator__min_samples_leaf=4, rf__estimator__min_samples_split=5, rf__estimator__n_estimators=2000;, score=(train=0.909, test=0.635) total time= 1.5min\n",
            "[CV 8/9] END rf__estimator__min_samples_leaf=4, rf__estimator__min_samples_split=5, rf__estimator__n_estimators=2000;, score=(train=0.911, test=0.650) total time= 1.5min\n",
            "[CV 9/9] END rf__estimator__min_samples_leaf=4, rf__estimator__min_samples_split=5, rf__estimator__n_estimators=2000;, score=(train=0.912, test=0.652) total time= 1.5min\n",
            "[CV 1/9] END rf__estimator__min_samples_leaf=2, rf__estimator__min_samples_split=5, rf__estimator__n_estimators=1000;, score=(train=0.983, test=0.654) total time=  46.4s\n",
            "[CV 2/9] END rf__estimator__min_samples_leaf=2, rf__estimator__min_samples_split=5, rf__estimator__n_estimators=1000;, score=(train=0.982, test=0.621) total time=  46.7s\n",
            "[CV 3/9] END rf__estimator__min_samples_leaf=2, rf__estimator__min_samples_split=5, rf__estimator__n_estimators=1000;, score=(train=0.982, test=0.661) total time=  47.2s\n",
            "[CV 4/9] END rf__estimator__min_samples_leaf=2, rf__estimator__min_samples_split=5, rf__estimator__n_estimators=1000;, score=(train=0.982, test=0.627) total time=  46.7s\n",
            "[CV 5/9] END rf__estimator__min_samples_leaf=2, rf__estimator__min_samples_split=5, rf__estimator__n_estimators=1000;, score=(train=0.981, test=0.634) total time=  47.1s\n",
            "[CV 6/9] END rf__estimator__min_samples_leaf=2, rf__estimator__min_samples_split=5, rf__estimator__n_estimators=1000;, score=(train=0.982, test=0.643) total time=  47.5s\n",
            "[CV 7/9] END rf__estimator__min_samples_leaf=2, rf__estimator__min_samples_split=5, rf__estimator__n_estimators=1000;, score=(train=0.981, test=0.634) total time=  46.6s\n",
            "[CV 8/9] END rf__estimator__min_samples_leaf=2, rf__estimator__min_samples_split=5, rf__estimator__n_estimators=1000;, score=(train=0.982, test=0.655) total time=  46.7s\n",
            "[CV 9/9] END rf__estimator__min_samples_leaf=2, rf__estimator__min_samples_split=5, rf__estimator__n_estimators=1000;, score=(train=0.983, test=0.662) total time=  46.5s\n",
            "[CV 1/9] END rf__estimator__min_samples_leaf=1, rf__estimator__min_samples_split=2, rf__estimator__n_estimators=2000;, score=(train=1.000, test=0.642) total time= 1.6min\n",
            "[CV 2/9] END rf__estimator__min_samples_leaf=1, rf__estimator__min_samples_split=2, rf__estimator__n_estimators=2000;, score=(train=1.000, test=0.626) total time= 1.6min\n",
            "[CV 3/9] END rf__estimator__min_samples_leaf=1, rf__estimator__min_samples_split=2, rf__estimator__n_estimators=2000;, score=(train=1.000, test=0.659) total time= 1.6min\n",
            "[CV 4/9] END rf__estimator__min_samples_leaf=1, rf__estimator__min_samples_split=2, rf__estimator__n_estimators=2000;, score=(train=1.000, test=0.619) total time= 1.6min\n",
            "[CV 5/9] END rf__estimator__min_samples_leaf=1, rf__estimator__min_samples_split=2, rf__estimator__n_estimators=2000;, score=(train=1.000, test=0.636) total time= 1.6min\n",
            "[CV 6/9] END rf__estimator__min_samples_leaf=1, rf__estimator__min_samples_split=2, rf__estimator__n_estimators=2000;, score=(train=1.000, test=0.646) total time= 1.6min\n",
            "[CV 7/9] END rf__estimator__min_samples_leaf=1, rf__estimator__min_samples_split=2, rf__estimator__n_estimators=2000;, score=(train=1.000, test=0.628) total time= 1.6min\n",
            "[CV 8/9] END rf__estimator__min_samples_leaf=1, rf__estimator__min_samples_split=2, rf__estimator__n_estimators=2000;, score=(train=1.000, test=0.654) total time= 1.6min\n",
            "[CV 9/9] END rf__estimator__min_samples_leaf=1, rf__estimator__min_samples_split=2, rf__estimator__n_estimators=2000;, score=(train=1.000, test=0.651) total time= 1.6min\n",
            "[CV 1/9] END rf__estimator__min_samples_leaf=4, rf__estimator__min_samples_split=2, rf__estimator__n_estimators=2000;, score=(train=0.912, test=0.653) total time= 1.5min\n",
            "[CV 2/9] END rf__estimator__min_samples_leaf=4, rf__estimator__min_samples_split=2, rf__estimator__n_estimators=2000;, score=(train=0.907, test=0.620) total time= 1.5min\n",
            "[CV 3/9] END rf__estimator__min_samples_leaf=4, rf__estimator__min_samples_split=2, rf__estimator__n_estimators=2000;, score=(train=0.908, test=0.654) total time= 1.5min\n",
            "[CV 4/9] END rf__estimator__min_samples_leaf=4, rf__estimator__min_samples_split=2, rf__estimator__n_estimators=2000;, score=(train=0.910, test=0.620) total time= 1.5min\n",
            "[CV 5/9] END rf__estimator__min_samples_leaf=4, rf__estimator__min_samples_split=2, rf__estimator__n_estimators=2000;, score=(train=0.905, test=0.645) total time= 1.5min\n",
            "[CV 6/9] END rf__estimator__min_samples_leaf=4, rf__estimator__min_samples_split=2, rf__estimator__n_estimators=2000;, score=(train=0.907, test=0.637) total time= 1.5min\n",
            "[CV 7/9] END rf__estimator__min_samples_leaf=4, rf__estimator__min_samples_split=2, rf__estimator__n_estimators=2000;, score=(train=0.908, test=0.637) total time= 1.5min\n",
            "[CV 8/9] END rf__estimator__min_samples_leaf=4, rf__estimator__min_samples_split=2, rf__estimator__n_estimators=2000;, score=(train=0.911, test=0.645) total time= 1.5min\n",
            "[CV 9/9] END rf__estimator__min_samples_leaf=4, rf__estimator__min_samples_split=2, rf__estimator__n_estimators=2000;, score=(train=0.913, test=0.650) total time= 1.5min\n"
          ]
        }
      ],
      "source": [
        "baseline1 = model(X_train,y_train.values[:,1],X_test,y_test.values[:,1],pipe,params,cv_type=\"random\")"
      ],
      "id": "gBwjkg8e1c2k"
    },
    {
      "cell_type": "code",
      "source": [
        "print(f1_score(y_test.values[:,1],baseline1['model'].predict(X_test),average='weighted'))"
      ],
      "metadata": {
        "colab": {
          "base_uri": "https://localhost:8080/"
        },
        "id": "7IcO757_6PLB",
        "outputId": "ad76dc42-717c-48e1-d199-61a406739997"
      },
      "id": "7IcO757_6PLB",
      "execution_count": null,
      "outputs": [
        {
          "output_type": "stream",
          "name": "stdout",
          "text": [
            "0.62237349430751\n"
          ]
        }
      ]
    },
    {
      "cell_type": "code",
      "source": [
        "print(classification_report(y_test.values[:,1],baseline1['model'].predict(X_test)))"
      ],
      "metadata": {
        "colab": {
          "base_uri": "https://localhost:8080/"
        },
        "id": "ntHvfz9A8G1T",
        "outputId": "5712d9ef-af0e-4cfb-91b4-d5f9370854eb"
      },
      "id": "ntHvfz9A8G1T",
      "execution_count": null,
      "outputs": [
        {
          "output_type": "stream",
          "name": "stdout",
          "text": [
            "              precision    recall  f1-score   support\n",
            "\n",
            "           0       0.57      0.36      0.44        11\n",
            "           1       0.67      0.67      0.67         6\n",
            "           2       0.85      0.82      0.83       223\n",
            "           3       0.73      0.83      0.78        96\n",
            "           4       0.50      0.36      0.42        83\n",
            "           5       0.83      0.48      0.61        21\n",
            "           6       0.61      0.62      0.61       318\n",
            "           7       0.53      0.48      0.50       288\n",
            "           8       0.53      0.68      0.60       183\n",
            "\n",
            "    accuracy                           0.63      1229\n",
            "   macro avg       0.65      0.59      0.61      1229\n",
            "weighted avg       0.63      0.63      0.62      1229\n",
            "\n"
          ]
        }
      ]
    },
    {
      "cell_type": "code",
      "execution_count": null,
      "metadata": {
        "id": "hYaUxuVk4mCU"
      },
      "outputs": [],
      "source": [
        "plot_confusion_matrix(y_test.values[:,1],baseline1['model'].predict(X_test),9)"
      ],
      "id": "hYaUxuVk4mCU"
    },
    {
      "cell_type": "markdown",
      "source": [
        "* When compared with the random forest model trained on imputed dataset macro f1 score is 0.29.\n",
        "* there is a significant bump in macro f1 score when model was trained with oneVsRest RandomForest classifier on data where the null values are dropped which is 0.61"
      ],
      "metadata": {
        "id": "S_01t5yQ83oa"
      },
      "id": "S_01t5yQ83oa"
    },
    {
      "cell_type": "code",
      "source": [
        "pickle.dump(baseline1['model'],open('/content/drive/MyDrive/MachineLearning/rf_1.pkl','wb'))"
      ],
      "metadata": {
        "id": "SvzRmRFN9pXw"
      },
      "id": "SvzRmRFN9pXw",
      "execution_count": null,
      "outputs": []
    },
    {
      "cell_type": "code",
      "source": [
        ""
      ],
      "metadata": {
        "id": "iEJ9_LZd9pVV"
      },
      "id": "iEJ9_LZd9pVV",
      "execution_count": null,
      "outputs": []
    },
    {
      "cell_type": "code",
      "source": [
        ""
      ],
      "metadata": {
        "id": "cfBOkFUj9pRZ"
      },
      "id": "cfBOkFUj9pRZ",
      "execution_count": null,
      "outputs": []
    },
    {
      "cell_type": "code",
      "source": [
        ""
      ],
      "metadata": {
        "id": "RvLhLGaE9pyX"
      },
      "id": "RvLhLGaE9pyX",
      "execution_count": null,
      "outputs": []
    }
  ],
  "metadata": {
    "colab": {
      "collapsed_sections": [
        "f4bf902c"
      ],
      "name": "Error Analysis.ipynb",
      "provenance": []
    },
    "kernelspec": {
      "display_name": "Python 3 (ipykernel)",
      "language": "python",
      "name": "python3"
    },
    "language_info": {
      "codemirror_mode": {
        "name": "ipython",
        "version": 3
      },
      "file_extension": ".py",
      "mimetype": "text/x-python",
      "name": "python",
      "nbconvert_exporter": "python",
      "pygments_lexer": "ipython3",
      "version": "3.9.7"
    }
  },
  "nbformat": 4,
  "nbformat_minor": 5
}