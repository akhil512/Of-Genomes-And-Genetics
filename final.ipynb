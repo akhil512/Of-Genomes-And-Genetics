{
  "nbformat": 4,
  "nbformat_minor": 0,
  "metadata": {
    "colab": {
      "name": "final.ipynb",
      "provenance": [],
      "collapsed_sections": []
    },
    "kernelspec": {
      "name": "python3",
      "display_name": "Python 3"
    },
    "language_info": {
      "name": "python"
    }
  },
  "cells": [
    {
      "cell_type": "code",
      "execution_count": null,
      "metadata": {
        "id": "u9YIQkrdQ3c8"
      },
      "outputs": [],
      "source": [
        "import pickle\n",
        "import numpy as np\n",
        "import pandas as pd\n",
        "from sklearn.ensemble import RandomForestClassifier\n",
        "from sklearn.metrics import f1_score\n",
        "from sklearn.pipeline import Pipeline\n",
        "from sklearn.compose import ColumnTransformer\n",
        "from sklearn.calibration import CalibratedClassifierCV\n",
        "from sklearn.multiclass import OneVsRestClassifier\n",
        "from sklearn.metrics import f1_score\n",
        "from sklearn.preprocessing import StandardScaler,OneHotEncoder\n",
        "from numerical_cols import numerical_features\n",
        "import joblib\n",
        "import warnings"
      ]
    },
    {
      "cell_type": "code",
      "source": [
        "warnings.filterwarnings(\"ignore\")"
      ],
      "metadata": {
        "id": "uFq0gvQMFhu2"
      },
      "execution_count": null,
      "outputs": []
    },
    {
      "cell_type": "code",
      "source": [
        "def feature_engineering(x):\n",
        "  x['num_symptoms'] = x[[ 'symptom_1', 'symptom_2','symptom_3', 'symptom_4', 'symptom_5']].sum(axis=1)\n",
        "  x['FE_1'] = x['num_symptoms']/(1+x['no_of_previous_abortion'])\n",
        "  x['avg_parents_age'] = (x['mother_age']+x['father_age'])/2\n",
        "  x = x.drop(['mother_age','father_age','no_of_previous_abortion'],axis=1)\n",
        "  return x"
      ],
      "metadata": {
        "id": "X12BYx1Uh8oq"
      },
      "execution_count": null,
      "outputs": []
    },
    {
      "cell_type": "code",
      "source": [
        "def final_prediction(x):\n",
        "\n",
        "  # Columns required for prediction\n",
        "  cols = ['blood_cell_count', 'blood_test_result', 'father_age', 'genes_in_mother_side',\n",
        " 'inherited_from_father', 'maternal_gene', 'mother_age', 'no_of_previous_abortion',\n",
        " 'paternal_gene', 'patient_age', 'symptom_1', 'symptom_2',\n",
        " 'symptom_3', 'symptom_4', 'symptom_5', 'white_blood_cell_count']\n",
        "\n",
        "  # Paths for getting models for prediction and encoders to inverse_transform target variables\n",
        "  target1_model_path = '/content/drive/MyDrive/MachineLearning/randomforest_.pkl'\n",
        "  target2_model_path = '/content/drive/MyDrive/MachineLearning/rf_1.pkl'\n",
        "  target1_encoder = '/content/drive/MyDrive/MachineLearning/target_1_encoder.pkl'\n",
        "  target2_encoder = '/content/drive/MyDrive/MachineLearning/target_2_encoder.pkl'\n",
        "\n",
        "  # Loading encoder for target_1 and target_2\n",
        "  genetic_disorder_encoder = joblib.load(open(target1_encoder,'rb'))\n",
        "  disorder_subclass_encoder = joblib.load(open(target2_encoder,'rb'))\n",
        "\n",
        "  if len(x) != 16:\n",
        "    return 'please make sure inputs are in shape of (16,)'\n",
        "  else:\n",
        "    # Creating a dataframe from the input list\n",
        "    temp_df = pd.DataFrame([x],columns=cols)\n",
        "\n",
        "    # returning dataframe with engineered features\n",
        "    temp_df = feature_engineering(temp_df)\n",
        "    \n",
        "    # Loading Random Forest Models for predicting Genetic Disorder and Disorder Subclass\n",
        "    model1 = joblib.load(open(target1_model_path,'+rb'))\n",
        "    model2 = joblib.load(open(target2_model_path,'+rb'))\n",
        "\n",
        "    genetic_disorder = model1.predict(temp_df)\n",
        "    predict_proba1 = model1.predict_proba(temp_df)\n",
        "    \n",
        "    genetic_disorder_proba =  predict_proba1[0][np.argmax(predict_proba1[0])]\n",
        "    temp_df['pred_target_1'] = genetic_disorder[0]\n",
        "    temp_df['proba_0'] = predict_proba1[0][0]\n",
        "    temp_df['proba_1'] = predict_proba1[0][1]\n",
        "    temp_df['proba_2'] = predict_proba1[0][2]\n",
        "\n",
        "    disorder_subclass = model2.predict(temp_df)\n",
        "    predict_proba2 = model2.predict_proba(temp_df)\n",
        "    disorder_subclass_proba = predict_proba2[0][np.argmax(predict_proba2[0])]\n",
        "\n",
        "    return genetic_disorder_encoder.inverse_transform(genetic_disorder)[0],genetic_disorder_proba,disorder_subclass_encoder.inverse_transform(disorder_subclass)[0],disorder_subclass_proba"
      ],
      "metadata": {
        "id": "kwZsyJQNq1N9"
      },
      "execution_count": null,
      "outputs": []
    },
    {
      "cell_type": "code",
      "source": [
        "gentic_disorder,gd_probability,disorder_subclass,ds_probability = final_prediction([7.8,'normal',34,'Yes','No','Yes',30,0,'No',7,1,0,1,0,1,4.5])"
      ],
      "metadata": {
        "id": "bkjKVHhiuc3G"
      },
      "execution_count": null,
      "outputs": []
    },
    {
      "cell_type": "code",
      "source": [
        "print(\"It's a \"+str(gentic_disorder)+\" with probability \"+str(gd_probability)+\" and disorder subclass is \"+str(disorder_subclass)+\" with probability \"+str(ds_probability))"
      ],
      "metadata": {
        "colab": {
          "base_uri": "https://localhost:8080/"
        },
        "id": "gmNupvigHYub",
        "outputId": "b9c4cb24-dfec-4098-85f9-0e03a2c71f59"
      },
      "execution_count": null,
      "outputs": [
        {
          "output_type": "stream",
          "name": "stdout",
          "text": [
            "It's a Mitochondrial genetic inheritance disorders with probability 0.6944707572954633 and disorder subclass is Leigh syndrome with probability 0.7899671557128383\n"
          ]
        }
      ]
    },
    {
      "cell_type": "code",
      "source": [
        "def effective_score(target_1,target_2,y_true):\n",
        "  score1 = max(0, 100*f1_score(y_true.values[:,0],target_1, average=\"macro\"))\n",
        "  score2 = max(0, 100*f1_score(y_true.values[:,1],target_2, average=\"macro\"))\n",
        "  score = (score1/2)+(score2/2)\n",
        "  return score"
      ],
      "metadata": {
        "id": "JWZqnuIN9NVs"
      },
      "execution_count": null,
      "outputs": []
    },
    {
      "cell_type": "code",
      "source": [
        "def final(x,y):\n",
        "\n",
        "  target1_model_path = '/content/drive/MyDrive/MachineLearning/randomforest_.pkl'\n",
        "  target2_model_path = '/content/drive/MyDrive/MachineLearning/rf_1.pkl'\n",
        "  target1_encoder = '/content/drive/MyDrive/MachineLearning/target_1_encoder.pkl'\n",
        "  target2_encoder = '/content/drive/MyDrive/MachineLearning/target_2_encoder.pkl'\n",
        "\n",
        "  temp_df = x\n",
        "  temp_df = feature_engineering(temp_df)\n",
        "  model1 = joblib.load(open(target1_model_path,'+rb'))\n",
        "  model2 = joblib.load(open(target2_model_path,'+rb'))\n",
        "  genetic_disorder = model1.predict(temp_df)\n",
        "\n",
        "  predict_proba1 = model1.predict_proba(temp_df)\n",
        " \n",
        "  genetic_disorder_proba =  predict_proba1[np.argmax(predict_proba1[0])]\n",
        "  temp_df['pred_target_1'] = genetic_disorder\n",
        "  temp_df['proba_0'] = predict_proba1[:,0]\n",
        "  temp_df['proba_1'] = predict_proba1[:,1]\n",
        "  temp_df['proba_2'] = predict_proba1[:,2]\n",
        "\n",
        "  disorder_subclass = model2.predict(temp_df)\n",
        "\n",
        "  score = effective_score(genetic_disorder,disorder_subclass,y)  \n",
        "  return score"
      ],
      "metadata": {
        "id": "AaSFzhUoAwFT"
      },
      "execution_count": null,
      "outputs": []
    },
    {
      "cell_type": "code",
      "source": [
        "data = pd.read_csv('eval.csv')"
      ],
      "metadata": {
        "id": "KYsTplC8-iF6"
      },
      "execution_count": null,
      "outputs": []
    },
    {
      "cell_type": "code",
      "source": [
        "final(data.drop(['target_1','target_2'],axis=1),data[['target_1','target_2']])"
      ],
      "metadata": {
        "colab": {
          "base_uri": "https://localhost:8080/"
        },
        "id": "jZs5bnrS-m8D",
        "outputId": "941e9f3b-1a2a-4aef-f230-9322b0863aef"
      },
      "execution_count": null,
      "outputs": [
        {
          "output_type": "execute_result",
          "data": {
            "text/plain": [
              "80.42272420121802"
            ]
          },
          "metadata": {},
          "execution_count": 93
        }
      ]
    }
  ]
}